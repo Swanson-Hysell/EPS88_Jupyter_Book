{
 "cells": [
  {
   "cell_type": "markdown",
   "metadata": {},
   "source": [
    "# 4.1 Data Wrangling and Advanced Indexing\n",
    "\n",
    "**Goal:** Build data wrangling skills to clean and navigate datasets.\n",
    "\n",
    "**Outline:**\n",
    "* Numpy Array and DataFrame methods and functions\n",
    "* Table indexing and slicing\n",
    "* Boolean (logical) indexing\n",
    "* Sorting\n",
    "* Data cleaning and inspection\n",
    "\n",
    "## Additional Required Reading: Functions\n",
    "Data 8 textbook \"Computational and Inferential Thinking: The Foundations of Data Science\" By Ani Adhikari and John DeNero [Chapter 8 Functions and Tables](https://www.inferentialthinking.com/chapters/08/Functions_and_Tables.html). This should overlap with your assigned reading for Data 8."
   ]
  },
  {
   "cell_type": "markdown",
   "metadata": {},
   "source": [
    "## Numpy Arrays and DataFrames\n",
    "\n",
    "NumPy and Pandas offer several types of data structures, the two main structures that we use are `nparray` and `DataFrame`. A `nparray` is a fast and flexible container for large datasets that allows you to perform operations on whole blocks of data at once. `nparray`s are best suited for homogenous (just one type) numerical data. `DataFrames` are designed for tabular datasets, and can handle heterogenous data (multiple types: int, float, string, etc.).\n"
   ]
  },
  {
   "cell_type": "code",
   "execution_count": 1,
   "metadata": {
    "execution": {
     "iopub.execute_input": "2020-11-29T17:58:33.903480Z",
     "iopub.status.busy": "2020-11-29T17:58:33.902835Z",
     "iopub.status.idle": "2020-11-29T17:58:34.278558Z",
     "shell.execute_reply": "2020-11-29T17:58:34.279241Z"
    }
   },
   "outputs": [],
   "source": [
    "import numpy as np\n",
    "import pandas as pd"
   ]
  },
  {
   "cell_type": "markdown",
   "metadata": {},
   "source": [
    "### nparray\n",
    "\n",
    "Here is an example of a `nparray` with random float data:"
   ]
  },
  {
   "cell_type": "code",
   "execution_count": 2,
   "metadata": {
    "execution": {
     "iopub.execute_input": "2020-11-29T17:58:34.293787Z",
     "iopub.status.busy": "2020-11-29T17:58:34.293120Z",
     "iopub.status.idle": "2020-11-29T17:58:34.295903Z",
     "shell.execute_reply": "2020-11-29T17:58:34.296706Z"
    }
   },
   "outputs": [
    {
     "data": {
      "text/plain": [
       "array([[-0.82903944, -0.1376641 ,  0.02674124],\n",
       "       [ 0.20267632, -0.29280752, -0.75898888],\n",
       "       [-0.10239423, -0.28657326,  1.78059789],\n",
       "       [-0.912293  ,  0.35167243,  0.3479555 ],\n",
       "       [ 0.2724738 ,  0.87051685,  0.18873814]])"
      ]
     },
     "execution_count": 2,
     "metadata": {},
     "output_type": "execute_result"
    }
   ],
   "source": [
    "# Generate a random nparray called arr_data\n",
    "arr_data = np.random.randn(5,3)\n",
    "arr_data"
   ]
  },
  {
   "cell_type": "markdown",
   "metadata": {},
   "source": [
    "The function `arrayName.shape` is useful for finding the number of rows and columns in an array."
   ]
  },
  {
   "cell_type": "code",
   "execution_count": 3,
   "metadata": {
    "execution": {
     "iopub.execute_input": "2020-11-29T17:58:34.304011Z",
     "iopub.status.busy": "2020-11-29T17:58:34.301063Z",
     "iopub.status.idle": "2020-11-29T17:58:34.309043Z",
     "shell.execute_reply": "2020-11-29T17:58:34.309882Z"
    }
   },
   "outputs": [
    {
     "data": {
      "text/plain": [
       "(5, 3)"
      ]
     },
     "execution_count": 3,
     "metadata": {},
     "output_type": "execute_result"
    }
   ],
   "source": [
    "# use .shape to determine the shape of arr_data\n",
    "arr_data.shape"
   ]
  },
  {
   "cell_type": "markdown",
   "metadata": {},
   "source": [
    "`arrayName.dtype` will display the data type of the data stored in the array."
   ]
  },
  {
   "cell_type": "code",
   "execution_count": 4,
   "metadata": {
    "execution": {
     "iopub.execute_input": "2020-11-29T17:58:34.314809Z",
     "iopub.status.busy": "2020-11-29T17:58:34.314052Z",
     "iopub.status.idle": "2020-11-29T17:58:34.317761Z",
     "shell.execute_reply": "2020-11-29T17:58:34.318270Z"
    }
   },
   "outputs": [
    {
     "data": {
      "text/plain": [
       "dtype('float64')"
      ]
     },
     "execution_count": 4,
     "metadata": {},
     "output_type": "execute_result"
    }
   ],
   "source": [
    "# use .dtype to determine the type of arr_data\n",
    "arr_data.dtype"
   ]
  },
  {
   "cell_type": "markdown",
   "metadata": {},
   "source": [
    "The functions `np.zeros` and `np.ones` are similar, they create arrays full of zeros and ones respectively. The input for these functions is the shape of the array you want. This is an effective way of setting up an array of place-holders that you can then fill in with a loop or to make an array of a single value."
   ]
  },
  {
   "cell_type": "code",
   "execution_count": 5,
   "metadata": {
    "execution": {
     "iopub.execute_input": "2020-11-29T17:58:34.327343Z",
     "iopub.status.busy": "2020-11-29T17:58:34.326625Z",
     "iopub.status.idle": "2020-11-29T17:58:34.330883Z",
     "shell.execute_reply": "2020-11-29T17:58:34.331528Z"
    }
   },
   "outputs": [
    {
     "data": {
      "text/plain": [
       "array([[0., 0., 0., 0.],\n",
       "       [0., 0., 0., 0.],\n",
       "       [0., 0., 0., 0.],\n",
       "       [0., 0., 0., 0.]])"
      ]
     },
     "execution_count": 5,
     "metadata": {},
     "output_type": "execute_result"
    }
   ],
   "source": [
    "# Generate a nparray of zeros with np.zeros\n",
    "arr0 = np.zeros((4,4))\n",
    "arr0"
   ]
  },
  {
   "cell_type": "code",
   "execution_count": 6,
   "metadata": {
    "execution": {
     "iopub.execute_input": "2020-11-29T17:58:34.337338Z",
     "iopub.status.busy": "2020-11-29T17:58:34.336647Z",
     "iopub.status.idle": "2020-11-29T17:58:34.339940Z",
     "shell.execute_reply": "2020-11-29T17:58:34.340588Z"
    }
   },
   "outputs": [
    {
     "data": {
      "text/plain": [
       "array([[1., 1., 1., 1.],\n",
       "       [1., 1., 1., 1.],\n",
       "       [1., 1., 1., 1.],\n",
       "       [1., 1., 1., 1.]])"
      ]
     },
     "execution_count": 6,
     "metadata": {},
     "output_type": "execute_result"
    }
   ],
   "source": [
    "# Generate a nparray of ones with np.ones\n",
    "arr1 = np.ones((4,4))\n",
    "arr1"
   ]
  },
  {
   "cell_type": "code",
   "execution_count": 7,
   "metadata": {
    "execution": {
     "iopub.execute_input": "2020-11-29T17:58:34.346015Z",
     "iopub.status.busy": "2020-11-29T17:58:34.345345Z",
     "iopub.status.idle": "2020-11-29T17:58:34.348916Z",
     "shell.execute_reply": "2020-11-29T17:58:34.349602Z"
    }
   },
   "outputs": [
    {
     "data": {
      "text/plain": [
       "array([[5., 5., 5., 5.],\n",
       "       [5., 5., 5., 5.],\n",
       "       [5., 5., 5., 5.],\n",
       "       [5., 5., 5., 5.]])"
      ]
     },
     "execution_count": 7,
     "metadata": {},
     "output_type": "execute_result"
    }
   ],
   "source": [
    "# np.ones is handy for making a nparray of any single value\n",
    "arr5 = arr1 * 5\n",
    "arr5"
   ]
  },
  {
   "cell_type": "markdown",
   "metadata": {},
   "source": [
    "The functions `np.arange` and `np.linspace` can be used to make monotonic number lines. They are really useful! `np.arange` makes an array of integers or floats between the starting and ending (note that the ending point is exclusive) in steps that you set as inputs. `np.linspace` will make evenly spaced float points between the starting and ending (note that the ending point is inclusive) you set."
   ]
  },
  {
   "cell_type": "code",
   "execution_count": 8,
   "metadata": {
    "execution": {
     "iopub.execute_input": "2020-11-29T17:58:34.355060Z",
     "iopub.status.busy": "2020-11-29T17:58:34.354163Z",
     "iopub.status.idle": "2020-11-29T17:58:34.358342Z",
     "shell.execute_reply": "2020-11-29T17:58:34.358917Z"
    }
   },
   "outputs": [
    {
     "data": {
      "text/plain": [
       "array([ 0,  1,  2,  3,  4,  5,  6,  7,  8,  9, 10])"
      ]
     },
     "execution_count": 8,
     "metadata": {},
     "output_type": "execute_result"
    }
   ],
   "source": [
    "# Generate an array of integers between 0 and 10 in steps of 1, including 0 (start) but not 11 (end)\n",
    "arr2 = np.arange(0,11,1) \n",
    "arr2"
   ]
  },
  {
   "cell_type": "code",
   "execution_count": 9,
   "metadata": {
    "execution": {
     "iopub.execute_input": "2020-11-29T17:58:34.364314Z",
     "iopub.status.busy": "2020-11-29T17:58:34.363596Z",
     "iopub.status.idle": "2020-11-29T17:58:34.368229Z",
     "shell.execute_reply": "2020-11-29T17:58:34.367478Z"
    }
   },
   "outputs": [
    {
     "data": {
      "text/plain": [
       "array([ 0.,  2.,  4.,  6.,  8., 10.])"
      ]
     },
     "execution_count": 9,
     "metadata": {},
     "output_type": "execute_result"
    }
   ],
   "source": [
    "# Generate an array of floats between 0 and 10 in steps of 2, including 0 (start) but not 11 (end)\n",
    "arr2 = np.arange(0.0,11.0,2.0) \n",
    "arr2"
   ]
  },
  {
   "cell_type": "code",
   "execution_count": 10,
   "metadata": {
    "execution": {
     "iopub.execute_input": "2020-11-29T17:58:34.371983Z",
     "iopub.status.busy": "2020-11-29T17:58:34.371490Z",
     "iopub.status.idle": "2020-11-29T17:58:34.375572Z",
     "shell.execute_reply": "2020-11-29T17:58:34.375908Z"
    }
   },
   "outputs": [
    {
     "data": {
      "text/plain": [
       "array([ 0.        ,  0.76923077,  1.53846154,  2.30769231,  3.07692308,\n",
       "        3.84615385,  4.61538462,  5.38461538,  6.15384615,  6.92307692,\n",
       "        7.69230769,  8.46153846,  9.23076923, 10.        ])"
      ]
     },
     "execution_count": 10,
     "metadata": {},
     "output_type": "execute_result"
    }
   ],
   "source": [
    "# Generate an array of 14 evenly spaced numbers between 0 and 10, including 0 (start) and 10 (end).\n",
    "arr3=np.linspace(0,10,14) \n",
    "arr3"
   ]
  },
  {
   "cell_type": "markdown",
   "metadata": {},
   "source": [
    "### DataFrames \n",
    "\n",
    "`Series` and `DataFrames` are like nparrays but they have the added feature of index labels assigned to each row and column -- the bold labels in the below `DataFrame`. These labels can be used to bin and select data."
   ]
  },
  {
   "cell_type": "code",
   "execution_count": 11,
   "metadata": {
    "execution": {
     "iopub.execute_input": "2020-11-29T17:58:34.380572Z",
     "iopub.status.busy": "2020-11-29T17:58:34.380114Z",
     "iopub.status.idle": "2020-11-29T17:58:34.389683Z",
     "shell.execute_reply": "2020-11-29T17:58:34.390002Z"
    }
   },
   "outputs": [
    {
     "data": {
      "text/html": [
       "<div>\n",
       "<style scoped>\n",
       "    .dataframe tbody tr th:only-of-type {\n",
       "        vertical-align: middle;\n",
       "    }\n",
       "\n",
       "    .dataframe tbody tr th {\n",
       "        vertical-align: top;\n",
       "    }\n",
       "\n",
       "    .dataframe thead th {\n",
       "        text-align: right;\n",
       "    }\n",
       "</style>\n",
       "<table border=\"1\" class=\"dataframe\">\n",
       "  <thead>\n",
       "    <tr style=\"text-align: right;\">\n",
       "      <th></th>\n",
       "      <th>sedimentary</th>\n",
       "      <th>igneous</th>\n",
       "      <th>metamorphic</th>\n",
       "    </tr>\n",
       "  </thead>\n",
       "  <tbody>\n",
       "    <tr>\n",
       "      <th>Nevada</th>\n",
       "      <td>0.849493</td>\n",
       "      <td>0.146249</td>\n",
       "      <td>0.328204</td>\n",
       "    </tr>\n",
       "    <tr>\n",
       "      <th>Montana</th>\n",
       "      <td>0.742360</td>\n",
       "      <td>0.379321</td>\n",
       "      <td>0.726974</td>\n",
       "    </tr>\n",
       "    <tr>\n",
       "      <th>Arizona</th>\n",
       "      <td>0.947756</td>\n",
       "      <td>0.387330</td>\n",
       "      <td>0.796592</td>\n",
       "    </tr>\n",
       "  </tbody>\n",
       "</table>\n",
       "</div>"
      ],
      "text/plain": [
       "         sedimentary   igneous  metamorphic\n",
       "Nevada      0.849493  0.146249     0.328204\n",
       "Montana     0.742360  0.379321     0.726974\n",
       "Arizona     0.947756  0.387330     0.796592"
      ]
     },
     "execution_count": 11,
     "metadata": {},
     "output_type": "execute_result"
    }
   ],
   "source": [
    "# generate a new DataFrame\n",
    "# note that index values (like the column labels) don't have to integers and don't have to be in order\n",
    "frame = pd.DataFrame(np.random.rand(3, 3), index=['Nevada','Montana','Arizona'], columns=['sedimentary','igneous','metamorphic'])\n",
    "frame"
   ]
  },
  {
   "cell_type": "markdown",
   "metadata": {},
   "source": [
    "We've seen `DataFrame` structures before in our tabular data files. The Earthquake catalog we were dealing with last week was a .csv (Comma Separated Variable) data file of all the earthquakes. We imported it as a DataFrame from the USGS API by setting up a query URL and using `pd.read_csv`. This time we'll look at the earthquakes of magnitude 2.5 and greater from the past week."
   ]
  },
  {
   "cell_type": "code",
   "execution_count": 12,
   "metadata": {
    "execution": {
     "iopub.execute_input": "2020-11-29T17:58:34.393583Z",
     "iopub.status.busy": "2020-11-29T17:58:34.393168Z",
     "iopub.status.idle": "2020-11-29T17:58:35.363055Z",
     "shell.execute_reply": "2020-11-29T17:58:35.362709Z"
    }
   },
   "outputs": [
    {
     "data": {
      "text/html": [
       "<div>\n",
       "<style scoped>\n",
       "    .dataframe tbody tr th:only-of-type {\n",
       "        vertical-align: middle;\n",
       "    }\n",
       "\n",
       "    .dataframe tbody tr th {\n",
       "        vertical-align: top;\n",
       "    }\n",
       "\n",
       "    .dataframe thead th {\n",
       "        text-align: right;\n",
       "    }\n",
       "</style>\n",
       "<table border=\"1\" class=\"dataframe\">\n",
       "  <thead>\n",
       "    <tr style=\"text-align: right;\">\n",
       "      <th></th>\n",
       "      <th>time</th>\n",
       "      <th>latitude</th>\n",
       "      <th>longitude</th>\n",
       "      <th>depth</th>\n",
       "      <th>mag</th>\n",
       "      <th>magType</th>\n",
       "      <th>nst</th>\n",
       "      <th>gap</th>\n",
       "      <th>dmin</th>\n",
       "      <th>rms</th>\n",
       "      <th>...</th>\n",
       "      <th>updated</th>\n",
       "      <th>place</th>\n",
       "      <th>type</th>\n",
       "      <th>horizontalError</th>\n",
       "      <th>depthError</th>\n",
       "      <th>magError</th>\n",
       "      <th>magNst</th>\n",
       "      <th>status</th>\n",
       "      <th>locationSource</th>\n",
       "      <th>magSource</th>\n",
       "    </tr>\n",
       "  </thead>\n",
       "  <tbody>\n",
       "    <tr>\n",
       "      <th>0</th>\n",
       "      <td>2020-09-07T06:12:39.688Z</td>\n",
       "      <td>-17.1102</td>\n",
       "      <td>168.5034</td>\n",
       "      <td>10.0</td>\n",
       "      <td>6.2</td>\n",
       "      <td>mww</td>\n",
       "      <td>NaN</td>\n",
       "      <td>41.0</td>\n",
       "      <td>2.072</td>\n",
       "      <td>1.03</td>\n",
       "      <td>...</td>\n",
       "      <td>2020-11-29T09:47:05.444Z</td>\n",
       "      <td>72 km NNE of Port-Vila, Vanuatu</td>\n",
       "      <td>earthquake</td>\n",
       "      <td>6.9</td>\n",
       "      <td>1.8</td>\n",
       "      <td>0.058</td>\n",
       "      <td>29.0</td>\n",
       "      <td>reviewed</td>\n",
       "      <td>us</td>\n",
       "      <td>us</td>\n",
       "    </tr>\n",
       "    <tr>\n",
       "      <th>1</th>\n",
       "      <td>2020-09-11T07:35:57.187Z</td>\n",
       "      <td>-21.3968</td>\n",
       "      <td>-69.9096</td>\n",
       "      <td>51.0</td>\n",
       "      <td>6.2</td>\n",
       "      <td>mww</td>\n",
       "      <td>NaN</td>\n",
       "      <td>72.0</td>\n",
       "      <td>0.077</td>\n",
       "      <td>0.88</td>\n",
       "      <td>...</td>\n",
       "      <td>2020-11-21T20:10:36.040Z</td>\n",
       "      <td>82 km NNE of Tocopilla, Chile</td>\n",
       "      <td>earthquake</td>\n",
       "      <td>6.3</td>\n",
       "      <td>1.9</td>\n",
       "      <td>0.071</td>\n",
       "      <td>19.0</td>\n",
       "      <td>reviewed</td>\n",
       "      <td>us</td>\n",
       "      <td>us</td>\n",
       "    </tr>\n",
       "    <tr>\n",
       "      <th>2</th>\n",
       "      <td>2020-09-12T02:44:11.224Z</td>\n",
       "      <td>38.7482</td>\n",
       "      <td>142.2446</td>\n",
       "      <td>34.0</td>\n",
       "      <td>6.1</td>\n",
       "      <td>mww</td>\n",
       "      <td>NaN</td>\n",
       "      <td>47.0</td>\n",
       "      <td>2.232</td>\n",
       "      <td>0.97</td>\n",
       "      <td>...</td>\n",
       "      <td>2020-11-21T20:10:37.040Z</td>\n",
       "      <td>58 km SE of Ōfunato, Japan</td>\n",
       "      <td>earthquake</td>\n",
       "      <td>5.7</td>\n",
       "      <td>1.7</td>\n",
       "      <td>0.057</td>\n",
       "      <td>30.0</td>\n",
       "      <td>reviewed</td>\n",
       "      <td>us</td>\n",
       "      <td>us</td>\n",
       "    </tr>\n",
       "    <tr>\n",
       "      <th>3</th>\n",
       "      <td>2020-09-08T00:45:20.853Z</td>\n",
       "      <td>-4.8713</td>\n",
       "      <td>129.7548</td>\n",
       "      <td>172.0</td>\n",
       "      <td>5.9</td>\n",
       "      <td>mww</td>\n",
       "      <td>NaN</td>\n",
       "      <td>13.0</td>\n",
       "      <td>3.154</td>\n",
       "      <td>0.78</td>\n",
       "      <td>...</td>\n",
       "      <td>2020-11-17T19:44:53.040Z</td>\n",
       "      <td>193 km SSE of Amahai, Indonesia</td>\n",
       "      <td>earthquake</td>\n",
       "      <td>5.3</td>\n",
       "      <td>1.8</td>\n",
       "      <td>0.098</td>\n",
       "      <td>10.0</td>\n",
       "      <td>reviewed</td>\n",
       "      <td>us</td>\n",
       "      <td>us</td>\n",
       "    </tr>\n",
       "    <tr>\n",
       "      <th>4</th>\n",
       "      <td>2020-09-12T08:34:27.321Z</td>\n",
       "      <td>-17.2562</td>\n",
       "      <td>167.6792</td>\n",
       "      <td>10.0</td>\n",
       "      <td>5.9</td>\n",
       "      <td>mww</td>\n",
       "      <td>NaN</td>\n",
       "      <td>64.0</td>\n",
       "      <td>1.856</td>\n",
       "      <td>0.69</td>\n",
       "      <td>...</td>\n",
       "      <td>2020-11-21T20:10:38.040Z</td>\n",
       "      <td>85 km NW of Port-Vila, Vanuatu</td>\n",
       "      <td>earthquake</td>\n",
       "      <td>6.8</td>\n",
       "      <td>1.9</td>\n",
       "      <td>0.043</td>\n",
       "      <td>51.0</td>\n",
       "      <td>reviewed</td>\n",
       "      <td>us</td>\n",
       "      <td>us</td>\n",
       "    </tr>\n",
       "  </tbody>\n",
       "</table>\n",
       "<p>5 rows × 22 columns</p>\n",
       "</div>"
      ],
      "text/plain": [
       "                       time  latitude  longitude  depth  mag magType  nst  \\\n",
       "0  2020-09-07T06:12:39.688Z  -17.1102   168.5034   10.0  6.2     mww  NaN   \n",
       "1  2020-09-11T07:35:57.187Z  -21.3968   -69.9096   51.0  6.2     mww  NaN   \n",
       "2  2020-09-12T02:44:11.224Z   38.7482   142.2446   34.0  6.1     mww  NaN   \n",
       "3  2020-09-08T00:45:20.853Z   -4.8713   129.7548  172.0  5.9     mww  NaN   \n",
       "4  2020-09-12T08:34:27.321Z  -17.2562   167.6792   10.0  5.9     mww  NaN   \n",
       "\n",
       "    gap   dmin   rms  ...                   updated  \\\n",
       "0  41.0  2.072  1.03  ...  2020-11-29T09:47:05.444Z   \n",
       "1  72.0  0.077  0.88  ...  2020-11-21T20:10:36.040Z   \n",
       "2  47.0  2.232  0.97  ...  2020-11-21T20:10:37.040Z   \n",
       "3  13.0  3.154  0.78  ...  2020-11-17T19:44:53.040Z   \n",
       "4  64.0  1.856  0.69  ...  2020-11-21T20:10:38.040Z   \n",
       "\n",
       "                             place        type horizontalError depthError  \\\n",
       "0  72 km NNE of Port-Vila, Vanuatu  earthquake             6.9        1.8   \n",
       "1    82 km NNE of Tocopilla, Chile  earthquake             6.3        1.9   \n",
       "2       58 km SE of Ōfunato, Japan  earthquake             5.7        1.7   \n",
       "3  193 km SSE of Amahai, Indonesia  earthquake             5.3        1.8   \n",
       "4   85 km NW of Port-Vila, Vanuatu  earthquake             6.8        1.9   \n",
       "\n",
       "   magError  magNst    status  locationSource magSource  \n",
       "0     0.058    29.0  reviewed              us        us  \n",
       "1     0.071    19.0  reviewed              us        us  \n",
       "2     0.057    30.0  reviewed              us        us  \n",
       "3     0.098    10.0  reviewed              us        us  \n",
       "4     0.043    51.0  reviewed              us        us  \n",
       "\n",
       "[5 rows x 22 columns]"
      ]
     },
     "execution_count": 12,
     "metadata": {},
     "output_type": "execute_result"
    }
   ],
   "source": [
    "start_day = '2020-09-07'\n",
    "end_day = '2020-09-14'\n",
    "standard_url = 'https://earthquake.usgs.gov/fdsnws/event/1/query?format=csv&orderby=magnitude'\n",
    "\n",
    "query_url = standard_url + '&starttime=' + start_day + '&endtime=' + end_day + '&minmagnitude=2.5'\n",
    "EQ_data = pd.read_csv(query_url)\n",
    "EQ_data .head()"
   ]
  },
  {
   "cell_type": "markdown",
   "metadata": {},
   "source": [
    "We have seen referencing individual columns (which are called `Series`) with: `DataFrame['Column_Name']`."
   ]
  },
  {
   "cell_type": "code",
   "execution_count": 13,
   "metadata": {
    "execution": {
     "iopub.execute_input": "2020-11-29T17:58:35.368013Z",
     "iopub.status.busy": "2020-11-29T17:58:35.367452Z",
     "iopub.status.idle": "2020-11-29T17:58:35.370832Z",
     "shell.execute_reply": "2020-11-29T17:58:35.370383Z"
    }
   },
   "outputs": [
    {
     "data": {
      "text/plain": [
       "0       10.00\n",
       "1       51.00\n",
       "2       34.00\n",
       "3      172.00\n",
       "4       10.00\n",
       "        ...  \n",
       "446     36.40\n",
       "447      1.87\n",
       "448     25.60\n",
       "449      6.90\n",
       "450     24.04\n",
       "Name: depth, Length: 451, dtype: float64"
      ]
     },
     "execution_count": 13,
     "metadata": {},
     "output_type": "execute_result"
    }
   ],
   "source": [
    "EQ_data['depth']"
   ]
  },
  {
   "cell_type": "markdown",
   "metadata": {},
   "source": [
    "The `.values` function can be used to return the values of the `Series` as a `nparray`, so without the labled index values of the `Series`."
   ]
  },
  {
   "cell_type": "code",
   "execution_count": 14,
   "metadata": {
    "execution": {
     "iopub.execute_input": "2020-11-29T17:58:35.373887Z",
     "iopub.status.busy": "2020-11-29T17:58:35.373461Z",
     "iopub.status.idle": "2020-11-29T17:58:35.376345Z",
     "shell.execute_reply": "2020-11-29T17:58:35.375931Z"
    }
   },
   "outputs": [
    {
     "name": "stdout",
     "output_type": "stream",
     "text": [
      "<class 'pandas.core.series.Series'>\n"
     ]
    }
   ],
   "source": [
    "print(type(EQ_data['depth']))"
   ]
  },
  {
   "cell_type": "code",
   "execution_count": 15,
   "metadata": {
    "execution": {
     "iopub.execute_input": "2020-11-29T17:58:35.383471Z",
     "iopub.status.busy": "2020-11-29T17:58:35.382863Z",
     "iopub.status.idle": "2020-11-29T17:58:35.385802Z",
     "shell.execute_reply": "2020-11-29T17:58:35.386130Z"
    }
   },
   "outputs": [
    {
     "data": {
      "text/plain": [
       "array([1.0000e+01, 5.1000e+01, 3.4000e+01, 1.7200e+02, 1.0000e+01,\n",
       "       1.0000e+01, 1.7000e+01, 1.0000e+01, 5.5966e+02, 2.5000e+01,\n",
       "       1.0000e+01, 3.0920e+01, 3.1061e+02, 1.3893e+02, 5.8030e+01,\n",
       "       1.3380e+02, 1.0000e+01, 1.0000e+01, 5.7700e+01, 1.0000e+01,\n",
       "       1.3161e+02, 1.0000e+01, 1.0000e+01, 3.8760e+01, 3.5000e+01,\n",
       "       1.0000e+01, 1.2154e+02, 1.4900e+01, 1.0000e+01, 1.0125e+02,\n",
       "       7.3140e+01, 1.0000e+01, 3.5000e+01, 1.0000e+01, 1.0000e+01,\n",
       "       1.0000e+01, 1.0000e+01, 1.0000e+01, 6.0190e+01, 1.0956e+02,\n",
       "       1.3670e+01, 4.1180e+01, 2.5640e+01, 1.0000e+01, 9.1090e+01,\n",
       "       1.0000e+01, 1.0000e+01, 4.1160e+01, 4.6839e+02, 1.0000e+01,\n",
       "       1.0000e+01, 1.1292e+02, 1.0000e+01, 1.0000e+01, 9.9500e+00,\n",
       "       1.0000e+01, 1.0000e+01, 6.9820e+01, 1.0000e+01, 1.0000e+01,\n",
       "       1.0000e+01, 1.5297e+02, 1.0000e+01, 1.0000e+01, 1.0000e+01,\n",
       "       1.0000e+01, 1.0470e+01, 5.3357e+02, 1.0000e+01, 1.0000e+01,\n",
       "       1.0000e+01, 1.0000e+01, 6.3290e+01, 1.0000e+01, 1.0000e+01,\n",
       "       1.0000e+01, 1.2395e+02, 7.6540e+01, 3.5000e+01, 1.4690e+01,\n",
       "       1.4010e+01, 1.0000e+01, 1.0000e+01, 3.5000e+01, 1.0000e+01,\n",
       "       1.0000e+01, 1.0000e+01, 1.0000e+01, 1.0000e+01, 2.1316e+02,\n",
       "       7.4360e+01, 6.7880e+01, 1.0000e+01, 1.6725e+02, 5.3140e+01,\n",
       "       3.5000e+01, 1.0000e+01, 2.5090e+01, 1.0000e+01, 1.8132e+02,\n",
       "       3.5000e+01, 1.3016e+02, 1.0000e+01, 4.8605e+02, 4.2380e+01,\n",
       "       1.0391e+02, 2.3725e+02, 4.5090e+01, 5.1830e+01, 1.0000e+01,\n",
       "       1.0000e+01, 3.5000e+01, 4.3770e+01, 3.5000e+01, 2.0400e+01,\n",
       "       1.4044e+02, 1.0000e+01, 1.0000e+01, 1.0000e+01, 1.0000e+01,\n",
       "       1.0000e+01, 4.5140e+01, 1.6290e+01, 3.5000e+01, 2.9330e+01,\n",
       "       1.0000e+01, 1.0000e+01, 1.0000e+01, 1.0000e+01, 1.0000e+01,\n",
       "       2.5010e+01, 1.8181e+02, 1.0000e+01, 3.5000e+01, 1.0000e+01,\n",
       "       1.6640e+01, 1.0000e+01, 8.6100e+01, 1.8800e+02, 9.0490e+01,\n",
       "       1.0000e+01, 1.0000e+01, 1.9186e+02, 1.0000e+01, 1.0000e+01,\n",
       "       3.5000e+01, 1.0000e+01, 1.1536e+02, 1.0000e+01, 1.0000e+01,\n",
       "       3.7721e+02, 6.3670e+01, 7.8550e+01, 5.1430e+01, 2.4226e+02,\n",
       "       4.5660e+01, 1.0000e+01, 1.5310e+02, 1.3880e+01, 8.8000e+00,\n",
       "       1.0000e+01, 6.5570e+01, 4.0000e+01, 3.5000e+01, 5.3160e+01,\n",
       "       9.4700e+00, 2.7230e+01, 1.0000e+01, 6.0520e+02, 1.5339e+02,\n",
       "       1.0000e+01, 1.0000e+01, 4.0940e+01, 1.0000e+01, 1.0000e+01,\n",
       "       1.0000e+01, 6.7050e+01, 1.2725e+02, 1.3770e+01, 1.2202e+02,\n",
       "       1.0000e+01, 1.0028e+02, 1.0000e+01, 1.0000e+01, 1.2170e+02,\n",
       "       1.0000e+01, 4.9036e+02, 7.1140e+01, 4.0090e+01, 3.7430e+01,\n",
       "       1.0000e+01, 5.5077e+02, 6.4040e+01, 9.3300e+00, 5.2798e+02,\n",
       "       3.9300e+00, 1.0000e+01, 4.0810e+01, 2.7372e+02, 1.0000e+01,\n",
       "       1.0000e+01, 5.1980e+01, 1.0000e+01, 1.0000e+01, 3.5000e+01,\n",
       "       1.0000e+01, 1.0000e+01, 2.1000e+00, 1.2016e+02, 5.3610e+01,\n",
       "       6.8400e+01, 7.3150e+01, 2.1260e+02, 1.6893e+02, 7.8770e+01,\n",
       "       1.7110e+02, 4.8255e+02, 3.5000e+01, 1.0000e+01, 3.1160e+01,\n",
       "       4.7420e+01, 3.6170e+01, 6.2320e+01, 1.0073e+02, 1.1993e+02,\n",
       "       2.9170e+01, 1.0000e+01, 1.1844e+02, 1.7430e+01, 1.0000e+01,\n",
       "       6.1590e+01, 1.8810e+01, 1.5361e+02, 9.2860e+01, 4.8296e+02,\n",
       "       7.6560e+01, 1.0000e+01, 1.0000e+01, 1.0000e+01, 5.3973e+02,\n",
       "       5.0372e+02, 5.9451e+02, 5.3977e+02, 8.8560e+01, 1.0000e+01,\n",
       "       4.4250e+01, 3.0500e+01, 3.5000e+01, 1.0000e+01, 1.8704e+02,\n",
       "       1.0000e+01, 3.1700e+01, 2.1725e+02, 1.9963e+02, 2.3488e+02,\n",
       "       1.4845e+02, 4.6990e+01, 1.0000e+01, 8.0770e+01, 1.0000e+01,\n",
       "       3.8000e+01, 3.7000e+01, 5.0000e+00, 6.0000e+01, 3.3000e+01,\n",
       "       3.8000e+01, 3.7000e+01, 7.0890e+01, 1.0000e+01, 1.0400e+01,\n",
       "       3.7000e+00, 3.2600e+01, 2.0000e+01, 1.2900e+02, 4.5000e+01,\n",
       "       1.0100e+01, 3.5000e+01, 2.6500e+01, 1.8000e+00, 1.6790e+01,\n",
       "       1.0000e+01, 3.4700e+01, 4.0000e+00, 5.0000e+00, 6.0000e+00,\n",
       "       1.3000e+01, 1.1000e+01, 1.1000e+01, 2.3400e+00, 2.5110e+01,\n",
       "       3.6400e+01, 1.0000e+01, 1.2000e+01, 5.3000e+01, 1.3000e+01,\n",
       "       8.3100e+01, 1.3110e+01, 3.5000e+01, 0.0000e+00, 1.1780e+01,\n",
       "       1.5880e+01, 1.3000e+01, 6.0000e+00, 1.1000e+01, 1.4000e+01,\n",
       "       1.5530e+01, 5.6100e+00, 5.0000e+00, 8.4880e+01, 2.4840e+01,\n",
       "       3.2940e+01, 1.1000e+01, 6.0000e+00, 1.1000e+01, 1.3000e+01,\n",
       "       5.0000e+00, 3.5000e+01, 1.0000e+01, 1.4648e+02, 1.0000e+01,\n",
       "       1.0000e+01, 1.0000e+01, 1.4638e+02, 1.0000e+01, 1.4429e+02,\n",
       "       1.0000e+01, 9.0000e+00, 1.2000e+01, 6.8300e+00, 1.3000e+01,\n",
       "       8.0000e+00, 1.0000e+01, 1.3790e+01, 1.1000e+01, 1.2000e+01,\n",
       "       2.3490e+01, 8.0000e+00, 2.0370e+01, 9.0000e+00, 1.0000e+01,\n",
       "       1.0000e+01, 1.0000e+01, 1.3727e+02, 1.4000e+01, 3.6500e+01,\n",
       "       1.4700e+01, 7.6770e+01, 0.0000e+00, 2.5080e+01, 9.8420e+01,\n",
       "       1.0000e+01, 1.0000e+01, 1.0000e+01, 1.1000e+01, 5.5900e+00,\n",
       "       1.1000e+01, 1.4000e+01, 1.8800e+00, 3.1000e+00, 6.9600e+01,\n",
       "       1.4100e+01, 1.0000e+01, 1.0000e+01, 1.7800e+01, 3.5200e+01,\n",
       "       5.4000e-01, 4.5300e+01, 1.3600e+00, 1.0000e+01, 1.5000e+01,\n",
       "       1.8000e+01, 6.3500e+00, 6.9700e+00, 1.0000e+01, 9.0000e+00,\n",
       "       1.8000e+01, 6.7800e+00, 1.5597e+02, 5.0000e+00, 9.1100e+01,\n",
       "       4.7000e+00, 2.4100e+00, 3.7000e+00, 1.0000e+01, 3.5000e+01,\n",
       "       1.2240e+01, 1.2050e+02, 2.5680e+01, 2.5570e+01, 3.2240e+01,\n",
       "       3.7300e+00, 1.8900e+00, 4.4100e+00, 1.4000e+01, 1.1000e+01,\n",
       "       9.0000e+00, 1.3000e+01, 1.0000e+01, 2.1000e+01, 1.0000e+01,\n",
       "       6.9800e+00, 1.0000e+01, 1.1900e+00, 9.0000e+00, 1.2000e+01,\n",
       "       1.4000e+01, 7.5000e+00, 2.6670e+01, 5.3600e+01, 4.5690e+01,\n",
       "       5.6910e+01, 3.0810e+01, 1.6000e+01, 1.2670e+01, 3.5000e+01,\n",
       "       5.3000e+00, 1.0000e+01, 3.9500e+01, 1.4120e+01, 9.1000e+01,\n",
       "       6.0000e+00, 1.6246e+02, 1.0000e+01, 9.9300e+00, 1.1000e+01,\n",
       "       2.2000e+01, 6.7500e+00, 1.1000e+01, 6.0000e+00, 1.2000e+00,\n",
       "       1.1000e+01, 1.3000e+01, 1.2000e+01, 3.2310e+01, 6.0000e+00,\n",
       "       1.6000e+01, 3.2800e+01, 1.3000e+01, 1.2400e+01, 1.0000e+01,\n",
       "       1.1087e+02, 4.5600e+01, 1.0040e+01, 1.0000e+01, 1.0080e+02,\n",
       "       1.0210e+02, 3.6400e+01, 1.8700e+00, 2.5600e+01, 6.9000e+00,\n",
       "       2.4040e+01])"
      ]
     },
     "execution_count": 15,
     "metadata": {},
     "output_type": "execute_result"
    }
   ],
   "source": [
    "EQ_data['depth'].values"
   ]
  },
  {
   "cell_type": "code",
   "execution_count": 16,
   "metadata": {
    "execution": {
     "iopub.execute_input": "2020-11-29T17:58:35.389452Z",
     "iopub.status.busy": "2020-11-29T17:58:35.388888Z",
     "iopub.status.idle": "2020-11-29T17:58:35.392276Z",
     "shell.execute_reply": "2020-11-29T17:58:35.391866Z"
    }
   },
   "outputs": [
    {
     "data": {
      "text/plain": [
       "numpy.ndarray"
      ]
     },
     "execution_count": 16,
     "metadata": {},
     "output_type": "execute_result"
    }
   ],
   "source": [
    "type(EQ_data['depth'].values)"
   ]
  },
  {
   "cell_type": "markdown",
   "metadata": {},
   "source": [
    "## Indexing and Slicing\n",
    "\n",
    "Arrays and dataframes have two axes of indices, rows and columns. Remember that python indexing starts at zero, and the end bounds are generally exclusive.\n",
    "\n",
    "![indices](./figures/indices.png)\n",
    "> Source: Python for Data Analysis (2nd Edition) McKinney, W.\n",
    "\n",
    "<br>\n",
    "\n",
    "Using square brackes we can select subsections of tables to work with:\n",
    "\n",
    "![slicing](./figures/array_slicing.png)\n",
    "> Source: Python for Data Analysis (2nd Edition) McKinney, W."
   ]
  },
  {
   "cell_type": "code",
   "execution_count": 17,
   "metadata": {
    "execution": {
     "iopub.execute_input": "2020-11-29T17:58:35.396455Z",
     "iopub.status.busy": "2020-11-29T17:58:35.395883Z",
     "iopub.status.idle": "2020-11-29T17:58:35.399149Z",
     "shell.execute_reply": "2020-11-29T17:58:35.399465Z"
    }
   },
   "outputs": [
    {
     "data": {
      "text/plain": [
       "array([[-0.65625165,  2.38599685,  0.04937532, -0.76770087,  0.15411844],\n",
       "       [ 2.85665275, -1.0261144 ,  1.09814647,  0.11767113, -1.9833632 ],\n",
       "       [ 0.18385078,  1.29815227, -0.18665609,  2.39560559, -1.11347955],\n",
       "       [ 0.68654461, -0.78666554, -0.37731806, -0.08812208, -1.17251183],\n",
       "       [-1.59634893,  0.88657028, -0.17185229, -0.53773366,  0.74341805],\n",
       "       [-0.07283298, -0.51451318, -0.59995961, -2.60777899,  1.27196394],\n",
       "       [ 1.36863487,  2.29502926, -0.40297136,  1.5526885 , -2.74818569],\n",
       "       [-0.35840188,  0.44278548, -1.53940587,  1.36011313,  0.99834029],\n",
       "       [ 0.39874941, -2.81366946,  0.58187133,  0.49839446,  1.00206399],\n",
       "       [ 0.01078945, -0.45778293,  0.40168924,  1.35650175,  0.44681168]])"
      ]
     },
     "execution_count": 17,
     "metadata": {},
     "output_type": "execute_result"
    }
   ],
   "source": [
    "# generate a random array\n",
    "arr_data = np.random.randn(10,5)\n",
    "arr_data"
   ]
  },
  {
   "cell_type": "markdown",
   "metadata": {},
   "source": [
    "**slice out the first 3 rows of arr_data**"
   ]
  },
  {
   "cell_type": "code",
   "execution_count": 18,
   "metadata": {
    "execution": {
     "iopub.execute_input": "2020-11-29T17:58:35.403561Z",
     "iopub.status.busy": "2020-11-29T17:58:35.403024Z",
     "iopub.status.idle": "2020-11-29T17:58:35.405706Z",
     "shell.execute_reply": "2020-11-29T17:58:35.406035Z"
    }
   },
   "outputs": [
    {
     "data": {
      "text/plain": [
       "array([[-0.65625165,  2.38599685,  0.04937532, -0.76770087,  0.15411844],\n",
       "       [ 2.85665275, -1.0261144 ,  1.09814647,  0.11767113, -1.9833632 ],\n",
       "       [ 0.18385078,  1.29815227, -0.18665609,  2.39560559, -1.11347955]])"
      ]
     },
     "execution_count": 18,
     "metadata": {},
     "output_type": "execute_result"
    }
   ],
   "source": [
    "a = arr_data[:3]\n",
    "a"
   ]
  },
  {
   "cell_type": "markdown",
   "metadata": {},
   "source": [
    "**slice out the last 2 columns of arr_data**"
   ]
  },
  {
   "cell_type": "code",
   "execution_count": 19,
   "metadata": {
    "execution": {
     "iopub.execute_input": "2020-11-29T17:58:35.409609Z",
     "iopub.status.busy": "2020-11-29T17:58:35.409128Z",
     "iopub.status.idle": "2020-11-29T17:58:35.412982Z",
     "shell.execute_reply": "2020-11-29T17:58:35.412184Z"
    }
   },
   "outputs": [
    {
     "data": {
      "text/plain": [
       "array([[-0.76770087,  0.15411844],\n",
       "       [ 0.11767113, -1.9833632 ],\n",
       "       [ 2.39560559, -1.11347955],\n",
       "       [-0.08812208, -1.17251183],\n",
       "       [-0.53773366,  0.74341805],\n",
       "       [-2.60777899,  1.27196394],\n",
       "       [ 1.5526885 , -2.74818569],\n",
       "       [ 1.36011313,  0.99834029],\n",
       "       [ 0.49839446,  1.00206399],\n",
       "       [ 1.35650175,  0.44681168]])"
      ]
     },
     "execution_count": 19,
     "metadata": {},
     "output_type": "execute_result"
    }
   ],
   "source": [
    "b = arr_data[:,-2:]  \n",
    "b"
   ]
  },
  {
   "cell_type": "code",
   "execution_count": 20,
   "metadata": {
    "execution": {
     "iopub.execute_input": "2020-11-29T17:58:35.419159Z",
     "iopub.status.busy": "2020-11-29T17:58:35.418376Z",
     "iopub.status.idle": "2020-11-29T17:58:35.421668Z",
     "shell.execute_reply": "2020-11-29T17:58:35.422006Z"
    }
   },
   "outputs": [
    {
     "data": {
      "text/plain": [
       "array([[-0.76770087,  0.15411844],\n",
       "       [ 0.11767113, -1.9833632 ],\n",
       "       [ 2.39560559, -1.11347955],\n",
       "       [-0.08812208, -1.17251183],\n",
       "       [-0.53773366,  0.74341805],\n",
       "       [-2.60777899,  1.27196394],\n",
       "       [ 1.5526885 , -2.74818569],\n",
       "       [ 1.36011313,  0.99834029],\n",
       "       [ 0.49839446,  1.00206399],\n",
       "       [ 1.35650175,  0.44681168]])"
      ]
     },
     "execution_count": 20,
     "metadata": {},
     "output_type": "execute_result"
    }
   ],
   "source": [
    "#Or this works too\n",
    "b = arr_data[:,3:] \n",
    "b"
   ]
  },
  {
   "cell_type": "markdown",
   "metadata": {},
   "source": [
    "Slicing a `DataFrame` is a bit different because you can reference the index labels and use `.iloc`.\n",
    "\n",
    "**slice out the first 10 rows of EQ_data**"
   ]
  },
  {
   "cell_type": "code",
   "execution_count": 21,
   "metadata": {
    "execution": {
     "iopub.execute_input": "2020-11-29T17:58:35.435343Z",
     "iopub.status.busy": "2020-11-29T17:58:35.424002Z",
     "iopub.status.idle": "2020-11-29T17:58:35.450151Z",
     "shell.execute_reply": "2020-11-29T17:58:35.450503Z"
    }
   },
   "outputs": [
    {
     "data": {
      "text/html": [
       "<div>\n",
       "<style scoped>\n",
       "    .dataframe tbody tr th:only-of-type {\n",
       "        vertical-align: middle;\n",
       "    }\n",
       "\n",
       "    .dataframe tbody tr th {\n",
       "        vertical-align: top;\n",
       "    }\n",
       "\n",
       "    .dataframe thead th {\n",
       "        text-align: right;\n",
       "    }\n",
       "</style>\n",
       "<table border=\"1\" class=\"dataframe\">\n",
       "  <thead>\n",
       "    <tr style=\"text-align: right;\">\n",
       "      <th></th>\n",
       "      <th>time</th>\n",
       "      <th>latitude</th>\n",
       "      <th>longitude</th>\n",
       "      <th>depth</th>\n",
       "      <th>mag</th>\n",
       "      <th>magType</th>\n",
       "      <th>nst</th>\n",
       "      <th>gap</th>\n",
       "      <th>dmin</th>\n",
       "      <th>rms</th>\n",
       "      <th>...</th>\n",
       "      <th>updated</th>\n",
       "      <th>place</th>\n",
       "      <th>type</th>\n",
       "      <th>horizontalError</th>\n",
       "      <th>depthError</th>\n",
       "      <th>magError</th>\n",
       "      <th>magNst</th>\n",
       "      <th>status</th>\n",
       "      <th>locationSource</th>\n",
       "      <th>magSource</th>\n",
       "    </tr>\n",
       "  </thead>\n",
       "  <tbody>\n",
       "    <tr>\n",
       "      <th>0</th>\n",
       "      <td>2020-09-07T06:12:39.688Z</td>\n",
       "      <td>-17.1102</td>\n",
       "      <td>168.5034</td>\n",
       "      <td>10.00</td>\n",
       "      <td>6.2</td>\n",
       "      <td>mww</td>\n",
       "      <td>NaN</td>\n",
       "      <td>41.0</td>\n",
       "      <td>2.072</td>\n",
       "      <td>1.03</td>\n",
       "      <td>...</td>\n",
       "      <td>2020-11-29T09:47:05.444Z</td>\n",
       "      <td>72 km NNE of Port-Vila, Vanuatu</td>\n",
       "      <td>earthquake</td>\n",
       "      <td>6.9</td>\n",
       "      <td>1.8</td>\n",
       "      <td>0.058</td>\n",
       "      <td>29.0</td>\n",
       "      <td>reviewed</td>\n",
       "      <td>us</td>\n",
       "      <td>us</td>\n",
       "    </tr>\n",
       "    <tr>\n",
       "      <th>1</th>\n",
       "      <td>2020-09-11T07:35:57.187Z</td>\n",
       "      <td>-21.3968</td>\n",
       "      <td>-69.9096</td>\n",
       "      <td>51.00</td>\n",
       "      <td>6.2</td>\n",
       "      <td>mww</td>\n",
       "      <td>NaN</td>\n",
       "      <td>72.0</td>\n",
       "      <td>0.077</td>\n",
       "      <td>0.88</td>\n",
       "      <td>...</td>\n",
       "      <td>2020-11-21T20:10:36.040Z</td>\n",
       "      <td>82 km NNE of Tocopilla, Chile</td>\n",
       "      <td>earthquake</td>\n",
       "      <td>6.3</td>\n",
       "      <td>1.9</td>\n",
       "      <td>0.071</td>\n",
       "      <td>19.0</td>\n",
       "      <td>reviewed</td>\n",
       "      <td>us</td>\n",
       "      <td>us</td>\n",
       "    </tr>\n",
       "    <tr>\n",
       "      <th>2</th>\n",
       "      <td>2020-09-12T02:44:11.224Z</td>\n",
       "      <td>38.7482</td>\n",
       "      <td>142.2446</td>\n",
       "      <td>34.00</td>\n",
       "      <td>6.1</td>\n",
       "      <td>mww</td>\n",
       "      <td>NaN</td>\n",
       "      <td>47.0</td>\n",
       "      <td>2.232</td>\n",
       "      <td>0.97</td>\n",
       "      <td>...</td>\n",
       "      <td>2020-11-21T20:10:37.040Z</td>\n",
       "      <td>58 km SE of Ōfunato, Japan</td>\n",
       "      <td>earthquake</td>\n",
       "      <td>5.7</td>\n",
       "      <td>1.7</td>\n",
       "      <td>0.057</td>\n",
       "      <td>30.0</td>\n",
       "      <td>reviewed</td>\n",
       "      <td>us</td>\n",
       "      <td>us</td>\n",
       "    </tr>\n",
       "    <tr>\n",
       "      <th>3</th>\n",
       "      <td>2020-09-08T00:45:20.853Z</td>\n",
       "      <td>-4.8713</td>\n",
       "      <td>129.7548</td>\n",
       "      <td>172.00</td>\n",
       "      <td>5.9</td>\n",
       "      <td>mww</td>\n",
       "      <td>NaN</td>\n",
       "      <td>13.0</td>\n",
       "      <td>3.154</td>\n",
       "      <td>0.78</td>\n",
       "      <td>...</td>\n",
       "      <td>2020-11-17T19:44:53.040Z</td>\n",
       "      <td>193 km SSE of Amahai, Indonesia</td>\n",
       "      <td>earthquake</td>\n",
       "      <td>5.3</td>\n",
       "      <td>1.8</td>\n",
       "      <td>0.098</td>\n",
       "      <td>10.0</td>\n",
       "      <td>reviewed</td>\n",
       "      <td>us</td>\n",
       "      <td>us</td>\n",
       "    </tr>\n",
       "    <tr>\n",
       "      <th>4</th>\n",
       "      <td>2020-09-12T08:34:27.321Z</td>\n",
       "      <td>-17.2562</td>\n",
       "      <td>167.6792</td>\n",
       "      <td>10.00</td>\n",
       "      <td>5.9</td>\n",
       "      <td>mww</td>\n",
       "      <td>NaN</td>\n",
       "      <td>64.0</td>\n",
       "      <td>1.856</td>\n",
       "      <td>0.69</td>\n",
       "      <td>...</td>\n",
       "      <td>2020-11-21T20:10:38.040Z</td>\n",
       "      <td>85 km NW of Port-Vila, Vanuatu</td>\n",
       "      <td>earthquake</td>\n",
       "      <td>6.8</td>\n",
       "      <td>1.9</td>\n",
       "      <td>0.043</td>\n",
       "      <td>51.0</td>\n",
       "      <td>reviewed</td>\n",
       "      <td>us</td>\n",
       "      <td>us</td>\n",
       "    </tr>\n",
       "    <tr>\n",
       "      <th>5</th>\n",
       "      <td>2020-09-07T06:29:14.938Z</td>\n",
       "      <td>-17.1622</td>\n",
       "      <td>168.5076</td>\n",
       "      <td>10.00</td>\n",
       "      <td>5.7</td>\n",
       "      <td>mww</td>\n",
       "      <td>NaN</td>\n",
       "      <td>41.0</td>\n",
       "      <td>2.116</td>\n",
       "      <td>0.83</td>\n",
       "      <td>...</td>\n",
       "      <td>2020-11-17T19:44:50.040Z</td>\n",
       "      <td>66 km NNE of Port-Vila, Vanuatu</td>\n",
       "      <td>earthquake</td>\n",
       "      <td>7.0</td>\n",
       "      <td>1.8</td>\n",
       "      <td>0.050</td>\n",
       "      <td>38.0</td>\n",
       "      <td>reviewed</td>\n",
       "      <td>us</td>\n",
       "      <td>us</td>\n",
       "    </tr>\n",
       "    <tr>\n",
       "      <th>6</th>\n",
       "      <td>2020-09-09T07:18:40.291Z</td>\n",
       "      <td>4.1773</td>\n",
       "      <td>126.6447</td>\n",
       "      <td>17.00</td>\n",
       "      <td>5.7</td>\n",
       "      <td>mww</td>\n",
       "      <td>NaN</td>\n",
       "      <td>32.0</td>\n",
       "      <td>3.062</td>\n",
       "      <td>1.17</td>\n",
       "      <td>...</td>\n",
       "      <td>2020-11-21T20:10:33.040Z</td>\n",
       "      <td>188 km SE of Sarangani, Philippines</td>\n",
       "      <td>earthquake</td>\n",
       "      <td>6.8</td>\n",
       "      <td>1.7</td>\n",
       "      <td>0.089</td>\n",
       "      <td>12.0</td>\n",
       "      <td>reviewed</td>\n",
       "      <td>us</td>\n",
       "      <td>us</td>\n",
       "    </tr>\n",
       "    <tr>\n",
       "      <th>7</th>\n",
       "      <td>2020-09-07T17:40:44.173Z</td>\n",
       "      <td>-24.5115</td>\n",
       "      <td>-111.9893</td>\n",
       "      <td>10.00</td>\n",
       "      <td>5.6</td>\n",
       "      <td>mww</td>\n",
       "      <td>NaN</td>\n",
       "      <td>34.0</td>\n",
       "      <td>3.501</td>\n",
       "      <td>1.10</td>\n",
       "      <td>...</td>\n",
       "      <td>2020-11-17T19:44:52.040Z</td>\n",
       "      <td>Easter Island region</td>\n",
       "      <td>earthquake</td>\n",
       "      <td>10.1</td>\n",
       "      <td>1.8</td>\n",
       "      <td>0.066</td>\n",
       "      <td>22.0</td>\n",
       "      <td>reviewed</td>\n",
       "      <td>us</td>\n",
       "      <td>us</td>\n",
       "    </tr>\n",
       "    <tr>\n",
       "      <th>8</th>\n",
       "      <td>2020-09-12T02:37:29.903Z</td>\n",
       "      <td>-17.8804</td>\n",
       "      <td>-178.0054</td>\n",
       "      <td>559.66</td>\n",
       "      <td>5.6</td>\n",
       "      <td>mww</td>\n",
       "      <td>NaN</td>\n",
       "      <td>36.0</td>\n",
       "      <td>3.554</td>\n",
       "      <td>1.06</td>\n",
       "      <td>...</td>\n",
       "      <td>2020-11-21T20:10:37.040Z</td>\n",
       "      <td>284 km E of Levuka, Fiji</td>\n",
       "      <td>earthquake</td>\n",
       "      <td>9.1</td>\n",
       "      <td>4.9</td>\n",
       "      <td>0.093</td>\n",
       "      <td>11.0</td>\n",
       "      <td>reviewed</td>\n",
       "      <td>us</td>\n",
       "      <td>us</td>\n",
       "    </tr>\n",
       "    <tr>\n",
       "      <th>9</th>\n",
       "      <td>2020-09-08T08:28:53.492Z</td>\n",
       "      <td>-15.1737</td>\n",
       "      <td>-172.9796</td>\n",
       "      <td>25.00</td>\n",
       "      <td>5.4</td>\n",
       "      <td>mww</td>\n",
       "      <td>NaN</td>\n",
       "      <td>54.0</td>\n",
       "      <td>1.710</td>\n",
       "      <td>0.93</td>\n",
       "      <td>...</td>\n",
       "      <td>2020-11-17T19:44:55.040Z</td>\n",
       "      <td>123 km NE of Hihifo, Tonga</td>\n",
       "      <td>earthquake</td>\n",
       "      <td>7.2</td>\n",
       "      <td>1.8</td>\n",
       "      <td>0.093</td>\n",
       "      <td>11.0</td>\n",
       "      <td>reviewed</td>\n",
       "      <td>us</td>\n",
       "      <td>us</td>\n",
       "    </tr>\n",
       "  </tbody>\n",
       "</table>\n",
       "<p>10 rows × 22 columns</p>\n",
       "</div>"
      ],
      "text/plain": [
       "                       time  latitude  longitude   depth  mag magType  nst  \\\n",
       "0  2020-09-07T06:12:39.688Z  -17.1102   168.5034   10.00  6.2     mww  NaN   \n",
       "1  2020-09-11T07:35:57.187Z  -21.3968   -69.9096   51.00  6.2     mww  NaN   \n",
       "2  2020-09-12T02:44:11.224Z   38.7482   142.2446   34.00  6.1     mww  NaN   \n",
       "3  2020-09-08T00:45:20.853Z   -4.8713   129.7548  172.00  5.9     mww  NaN   \n",
       "4  2020-09-12T08:34:27.321Z  -17.2562   167.6792   10.00  5.9     mww  NaN   \n",
       "5  2020-09-07T06:29:14.938Z  -17.1622   168.5076   10.00  5.7     mww  NaN   \n",
       "6  2020-09-09T07:18:40.291Z    4.1773   126.6447   17.00  5.7     mww  NaN   \n",
       "7  2020-09-07T17:40:44.173Z  -24.5115  -111.9893   10.00  5.6     mww  NaN   \n",
       "8  2020-09-12T02:37:29.903Z  -17.8804  -178.0054  559.66  5.6     mww  NaN   \n",
       "9  2020-09-08T08:28:53.492Z  -15.1737  -172.9796   25.00  5.4     mww  NaN   \n",
       "\n",
       "    gap   dmin   rms  ...                   updated  \\\n",
       "0  41.0  2.072  1.03  ...  2020-11-29T09:47:05.444Z   \n",
       "1  72.0  0.077  0.88  ...  2020-11-21T20:10:36.040Z   \n",
       "2  47.0  2.232  0.97  ...  2020-11-21T20:10:37.040Z   \n",
       "3  13.0  3.154  0.78  ...  2020-11-17T19:44:53.040Z   \n",
       "4  64.0  1.856  0.69  ...  2020-11-21T20:10:38.040Z   \n",
       "5  41.0  2.116  0.83  ...  2020-11-17T19:44:50.040Z   \n",
       "6  32.0  3.062  1.17  ...  2020-11-21T20:10:33.040Z   \n",
       "7  34.0  3.501  1.10  ...  2020-11-17T19:44:52.040Z   \n",
       "8  36.0  3.554  1.06  ...  2020-11-21T20:10:37.040Z   \n",
       "9  54.0  1.710  0.93  ...  2020-11-17T19:44:55.040Z   \n",
       "\n",
       "                                 place        type horizontalError depthError  \\\n",
       "0      72 km NNE of Port-Vila, Vanuatu  earthquake             6.9        1.8   \n",
       "1        82 km NNE of Tocopilla, Chile  earthquake             6.3        1.9   \n",
       "2           58 km SE of Ōfunato, Japan  earthquake             5.7        1.7   \n",
       "3      193 km SSE of Amahai, Indonesia  earthquake             5.3        1.8   \n",
       "4       85 km NW of Port-Vila, Vanuatu  earthquake             6.8        1.9   \n",
       "5      66 km NNE of Port-Vila, Vanuatu  earthquake             7.0        1.8   \n",
       "6  188 km SE of Sarangani, Philippines  earthquake             6.8        1.7   \n",
       "7                 Easter Island region  earthquake            10.1        1.8   \n",
       "8             284 km E of Levuka, Fiji  earthquake             9.1        4.9   \n",
       "9           123 km NE of Hihifo, Tonga  earthquake             7.2        1.8   \n",
       "\n",
       "   magError  magNst    status  locationSource magSource  \n",
       "0     0.058    29.0  reviewed              us        us  \n",
       "1     0.071    19.0  reviewed              us        us  \n",
       "2     0.057    30.0  reviewed              us        us  \n",
       "3     0.098    10.0  reviewed              us        us  \n",
       "4     0.043    51.0  reviewed              us        us  \n",
       "5     0.050    38.0  reviewed              us        us  \n",
       "6     0.089    12.0  reviewed              us        us  \n",
       "7     0.066    22.0  reviewed              us        us  \n",
       "8     0.093    11.0  reviewed              us        us  \n",
       "9     0.093    11.0  reviewed              us        us  \n",
       "\n",
       "[10 rows x 22 columns]"
      ]
     },
     "execution_count": 21,
     "metadata": {},
     "output_type": "execute_result"
    }
   ],
   "source": [
    "EQ_data.iloc[:10]"
   ]
  },
  {
   "cell_type": "markdown",
   "metadata": {},
   "source": [
    "**slice out the a chunk of depths starting at index 5 and up to (but excluding) index 10**"
   ]
  },
  {
   "cell_type": "code",
   "execution_count": 22,
   "metadata": {
    "execution": {
     "iopub.execute_input": "2020-11-29T17:58:35.454806Z",
     "iopub.status.busy": "2020-11-29T17:58:35.454262Z",
     "iopub.status.idle": "2020-11-29T17:58:35.457315Z",
     "shell.execute_reply": "2020-11-29T17:58:35.457789Z"
    }
   },
   "outputs": [
    {
     "data": {
      "text/plain": [
       "5     10.00\n",
       "6     17.00\n",
       "7     10.00\n",
       "8    559.66\n",
       "9     25.00\n",
       "Name: depth, dtype: float64"
      ]
     },
     "execution_count": 22,
     "metadata": {},
     "output_type": "execute_result"
    }
   ],
   "source": [
    "EQ_data.iloc[5:10]['depth']"
   ]
  },
  {
   "cell_type": "markdown",
   "metadata": {},
   "source": [
    "Notice that this is still a `Series` with corresponding index values. If you just want the values from that chunk and not the index labels use `.values`."
   ]
  },
  {
   "cell_type": "code",
   "execution_count": 23,
   "metadata": {
    "execution": {
     "iopub.execute_input": "2020-11-29T17:58:35.461798Z",
     "iopub.status.busy": "2020-11-29T17:58:35.461339Z",
     "iopub.status.idle": "2020-11-29T17:58:35.464226Z",
     "shell.execute_reply": "2020-11-29T17:58:35.464570Z"
    }
   },
   "outputs": [
    {
     "data": {
      "text/plain": [
       "array([ 10.  ,  17.  ,  10.  , 559.66,  25.  ])"
      ]
     },
     "execution_count": 23,
     "metadata": {},
     "output_type": "execute_result"
    }
   ],
   "source": [
    "EQ_data.iloc[5:10]['depth'].values"
   ]
  },
  {
   "cell_type": "markdown",
   "metadata": {},
   "source": [
    "## Boolean Indexing\n",
    "\n",
    "We can use Boolean (i.e. logical) indexing to select values from our DataFrame where the argument we want is `True`. You'll use the logical symbols (`<`,`>`,`==`,`&`,`|`,`~`)."
   ]
  },
  {
   "cell_type": "markdown",
   "metadata": {},
   "source": [
    "**Use Boolean Indexing to filter out data so that we are only looking at rows with magnitudes larger than or equal to 6.0**"
   ]
  },
  {
   "cell_type": "code",
   "execution_count": 24,
   "metadata": {
    "execution": {
     "iopub.execute_input": "2020-11-29T17:58:35.485341Z",
     "iopub.status.busy": "2020-11-29T17:58:35.470771Z",
     "iopub.status.idle": "2020-11-29T17:58:35.488048Z",
     "shell.execute_reply": "2020-11-29T17:58:35.488414Z"
    }
   },
   "outputs": [
    {
     "data": {
      "text/html": [
       "<div>\n",
       "<style scoped>\n",
       "    .dataframe tbody tr th:only-of-type {\n",
       "        vertical-align: middle;\n",
       "    }\n",
       "\n",
       "    .dataframe tbody tr th {\n",
       "        vertical-align: top;\n",
       "    }\n",
       "\n",
       "    .dataframe thead th {\n",
       "        text-align: right;\n",
       "    }\n",
       "</style>\n",
       "<table border=\"1\" class=\"dataframe\">\n",
       "  <thead>\n",
       "    <tr style=\"text-align: right;\">\n",
       "      <th></th>\n",
       "      <th>time</th>\n",
       "      <th>latitude</th>\n",
       "      <th>longitude</th>\n",
       "      <th>depth</th>\n",
       "      <th>mag</th>\n",
       "      <th>magType</th>\n",
       "      <th>nst</th>\n",
       "      <th>gap</th>\n",
       "      <th>dmin</th>\n",
       "      <th>rms</th>\n",
       "      <th>...</th>\n",
       "      <th>updated</th>\n",
       "      <th>place</th>\n",
       "      <th>type</th>\n",
       "      <th>horizontalError</th>\n",
       "      <th>depthError</th>\n",
       "      <th>magError</th>\n",
       "      <th>magNst</th>\n",
       "      <th>status</th>\n",
       "      <th>locationSource</th>\n",
       "      <th>magSource</th>\n",
       "    </tr>\n",
       "  </thead>\n",
       "  <tbody>\n",
       "    <tr>\n",
       "      <th>0</th>\n",
       "      <td>2020-09-07T06:12:39.688Z</td>\n",
       "      <td>-17.1102</td>\n",
       "      <td>168.5034</td>\n",
       "      <td>10.0</td>\n",
       "      <td>6.2</td>\n",
       "      <td>mww</td>\n",
       "      <td>NaN</td>\n",
       "      <td>41.0</td>\n",
       "      <td>2.072</td>\n",
       "      <td>1.03</td>\n",
       "      <td>...</td>\n",
       "      <td>2020-11-29T09:47:05.444Z</td>\n",
       "      <td>72 km NNE of Port-Vila, Vanuatu</td>\n",
       "      <td>earthquake</td>\n",
       "      <td>6.9</td>\n",
       "      <td>1.8</td>\n",
       "      <td>0.058</td>\n",
       "      <td>29.0</td>\n",
       "      <td>reviewed</td>\n",
       "      <td>us</td>\n",
       "      <td>us</td>\n",
       "    </tr>\n",
       "    <tr>\n",
       "      <th>1</th>\n",
       "      <td>2020-09-11T07:35:57.187Z</td>\n",
       "      <td>-21.3968</td>\n",
       "      <td>-69.9096</td>\n",
       "      <td>51.0</td>\n",
       "      <td>6.2</td>\n",
       "      <td>mww</td>\n",
       "      <td>NaN</td>\n",
       "      <td>72.0</td>\n",
       "      <td>0.077</td>\n",
       "      <td>0.88</td>\n",
       "      <td>...</td>\n",
       "      <td>2020-11-21T20:10:36.040Z</td>\n",
       "      <td>82 km NNE of Tocopilla, Chile</td>\n",
       "      <td>earthquake</td>\n",
       "      <td>6.3</td>\n",
       "      <td>1.9</td>\n",
       "      <td>0.071</td>\n",
       "      <td>19.0</td>\n",
       "      <td>reviewed</td>\n",
       "      <td>us</td>\n",
       "      <td>us</td>\n",
       "    </tr>\n",
       "    <tr>\n",
       "      <th>2</th>\n",
       "      <td>2020-09-12T02:44:11.224Z</td>\n",
       "      <td>38.7482</td>\n",
       "      <td>142.2446</td>\n",
       "      <td>34.0</td>\n",
       "      <td>6.1</td>\n",
       "      <td>mww</td>\n",
       "      <td>NaN</td>\n",
       "      <td>47.0</td>\n",
       "      <td>2.232</td>\n",
       "      <td>0.97</td>\n",
       "      <td>...</td>\n",
       "      <td>2020-11-21T20:10:37.040Z</td>\n",
       "      <td>58 km SE of Ōfunato, Japan</td>\n",
       "      <td>earthquake</td>\n",
       "      <td>5.7</td>\n",
       "      <td>1.7</td>\n",
       "      <td>0.057</td>\n",
       "      <td>30.0</td>\n",
       "      <td>reviewed</td>\n",
       "      <td>us</td>\n",
       "      <td>us</td>\n",
       "    </tr>\n",
       "  </tbody>\n",
       "</table>\n",
       "<p>3 rows × 22 columns</p>\n",
       "</div>"
      ],
      "text/plain": [
       "                       time  latitude  longitude  depth  mag magType  nst  \\\n",
       "0  2020-09-07T06:12:39.688Z  -17.1102   168.5034   10.0  6.2     mww  NaN   \n",
       "1  2020-09-11T07:35:57.187Z  -21.3968   -69.9096   51.0  6.2     mww  NaN   \n",
       "2  2020-09-12T02:44:11.224Z   38.7482   142.2446   34.0  6.1     mww  NaN   \n",
       "\n",
       "    gap   dmin   rms  ...                   updated  \\\n",
       "0  41.0  2.072  1.03  ...  2020-11-29T09:47:05.444Z   \n",
       "1  72.0  0.077  0.88  ...  2020-11-21T20:10:36.040Z   \n",
       "2  47.0  2.232  0.97  ...  2020-11-21T20:10:37.040Z   \n",
       "\n",
       "                             place        type horizontalError depthError  \\\n",
       "0  72 km NNE of Port-Vila, Vanuatu  earthquake             6.9        1.8   \n",
       "1    82 km NNE of Tocopilla, Chile  earthquake             6.3        1.9   \n",
       "2       58 km SE of Ōfunato, Japan  earthquake             5.7        1.7   \n",
       "\n",
       "   magError  magNst    status  locationSource magSource  \n",
       "0     0.058    29.0  reviewed              us        us  \n",
       "1     0.071    19.0  reviewed              us        us  \n",
       "2     0.057    30.0  reviewed              us        us  \n",
       "\n",
       "[3 rows x 22 columns]"
      ]
     },
     "execution_count": 24,
     "metadata": {},
     "output_type": "execute_result"
    }
   ],
   "source": [
    "EQ_data[EQ_data['mag']>=6.0]"
   ]
  },
  {
   "cell_type": "markdown",
   "metadata": {},
   "source": [
    "## Sorting\n",
    "\n",
    "DataFrames can be sorted by the values in a given column (`.sort_values`)."
   ]
  },
  {
   "cell_type": "code",
   "execution_count": 25,
   "metadata": {
    "execution": {
     "iopub.execute_input": "2020-11-29T17:58:35.494350Z",
     "iopub.status.busy": "2020-11-29T17:58:35.493906Z",
     "iopub.status.idle": "2020-11-29T17:58:35.516808Z",
     "shell.execute_reply": "2020-11-29T17:58:35.517131Z"
    }
   },
   "outputs": [
    {
     "data": {
      "text/html": [
       "<div>\n",
       "<style scoped>\n",
       "    .dataframe tbody tr th:only-of-type {\n",
       "        vertical-align: middle;\n",
       "    }\n",
       "\n",
       "    .dataframe tbody tr th {\n",
       "        vertical-align: top;\n",
       "    }\n",
       "\n",
       "    .dataframe thead th {\n",
       "        text-align: right;\n",
       "    }\n",
       "</style>\n",
       "<table border=\"1\" class=\"dataframe\">\n",
       "  <thead>\n",
       "    <tr style=\"text-align: right;\">\n",
       "      <th></th>\n",
       "      <th>time</th>\n",
       "      <th>latitude</th>\n",
       "      <th>longitude</th>\n",
       "      <th>depth</th>\n",
       "      <th>mag</th>\n",
       "      <th>magType</th>\n",
       "      <th>nst</th>\n",
       "      <th>gap</th>\n",
       "      <th>dmin</th>\n",
       "      <th>rms</th>\n",
       "      <th>...</th>\n",
       "      <th>updated</th>\n",
       "      <th>place</th>\n",
       "      <th>type</th>\n",
       "      <th>horizontalError</th>\n",
       "      <th>depthError</th>\n",
       "      <th>magError</th>\n",
       "      <th>magNst</th>\n",
       "      <th>status</th>\n",
       "      <th>locationSource</th>\n",
       "      <th>magSource</th>\n",
       "    </tr>\n",
       "  </thead>\n",
       "  <tbody>\n",
       "    <tr>\n",
       "      <th>298</th>\n",
       "      <td>2020-09-11T19:15:33.180Z</td>\n",
       "      <td>43.528800</td>\n",
       "      <td>-105.332200</td>\n",
       "      <td>0.00</td>\n",
       "      <td>3.20</td>\n",
       "      <td>ml</td>\n",
       "      <td>NaN</td>\n",
       "      <td>68.0</td>\n",
       "      <td>1.10900</td>\n",
       "      <td>0.75</td>\n",
       "      <td>...</td>\n",
       "      <td>2020-11-21T20:10:49.040Z</td>\n",
       "      <td>27 km SSE of Wright, Wyoming</td>\n",
       "      <td>mining explosion</td>\n",
       "      <td>2.50</td>\n",
       "      <td>1.80</td>\n",
       "      <td>0.053</td>\n",
       "      <td>46.0</td>\n",
       "      <td>reviewed</td>\n",
       "      <td>us</td>\n",
       "      <td>us</td>\n",
       "    </tr>\n",
       "    <tr>\n",
       "      <th>347</th>\n",
       "      <td>2020-09-12T16:00:45.986Z</td>\n",
       "      <td>43.994900</td>\n",
       "      <td>-105.389800</td>\n",
       "      <td>0.00</td>\n",
       "      <td>2.90</td>\n",
       "      <td>ml</td>\n",
       "      <td>NaN</td>\n",
       "      <td>100.0</td>\n",
       "      <td>0.98400</td>\n",
       "      <td>0.34</td>\n",
       "      <td>...</td>\n",
       "      <td>2020-11-21T20:10:49.040Z</td>\n",
       "      <td>26 km SSE of Antelope Valley-Crestview, Wyoming</td>\n",
       "      <td>mining explosion</td>\n",
       "      <td>6.70</td>\n",
       "      <td>1.80</td>\n",
       "      <td>0.097</td>\n",
       "      <td>14.0</td>\n",
       "      <td>reviewed</td>\n",
       "      <td>us</td>\n",
       "      <td>us</td>\n",
       "    </tr>\n",
       "    <tr>\n",
       "      <th>365</th>\n",
       "      <td>2020-09-10T12:09:31.800Z</td>\n",
       "      <td>44.322333</td>\n",
       "      <td>-110.520833</td>\n",
       "      <td>0.54</td>\n",
       "      <td>2.80</td>\n",
       "      <td>md</td>\n",
       "      <td>10.0</td>\n",
       "      <td>118.0</td>\n",
       "      <td>0.05854</td>\n",
       "      <td>0.27</td>\n",
       "      <td>...</td>\n",
       "      <td>2020-11-21T20:10:35.040Z</td>\n",
       "      <td>59 km SE of West Yellowstone, Montana</td>\n",
       "      <td>earthquake</td>\n",
       "      <td>0.82</td>\n",
       "      <td>0.40</td>\n",
       "      <td>0.200</td>\n",
       "      <td>4.0</td>\n",
       "      <td>reviewed</td>\n",
       "      <td>uu</td>\n",
       "      <td>uu</td>\n",
       "    </tr>\n",
       "    <tr>\n",
       "      <th>402</th>\n",
       "      <td>2020-09-10T18:33:51.740Z</td>\n",
       "      <td>44.333333</td>\n",
       "      <td>-110.505500</td>\n",
       "      <td>1.19</td>\n",
       "      <td>2.62</td>\n",
       "      <td>ml</td>\n",
       "      <td>17.0</td>\n",
       "      <td>125.0</td>\n",
       "      <td>0.07115</td>\n",
       "      <td>0.18</td>\n",
       "      <td>...</td>\n",
       "      <td>2020-11-21T20:10:35.040Z</td>\n",
       "      <td>60 km SE of West Yellowstone, Montana</td>\n",
       "      <td>earthquake</td>\n",
       "      <td>0.57</td>\n",
       "      <td>0.50</td>\n",
       "      <td>0.264</td>\n",
       "      <td>8.0</td>\n",
       "      <td>reviewed</td>\n",
       "      <td>uu</td>\n",
       "      <td>uu</td>\n",
       "    </tr>\n",
       "    <tr>\n",
       "      <th>429</th>\n",
       "      <td>2020-09-10T11:40:22.540Z</td>\n",
       "      <td>44.320333</td>\n",
       "      <td>-110.497000</td>\n",
       "      <td>1.20</td>\n",
       "      <td>2.56</td>\n",
       "      <td>ml</td>\n",
       "      <td>19.0</td>\n",
       "      <td>134.0</td>\n",
       "      <td>0.06052</td>\n",
       "      <td>0.21</td>\n",
       "      <td>...</td>\n",
       "      <td>2020-11-21T20:10:34.040Z</td>\n",
       "      <td>61 km SE of West Yellowstone, Montana</td>\n",
       "      <td>earthquake</td>\n",
       "      <td>0.83</td>\n",
       "      <td>0.73</td>\n",
       "      <td>0.321</td>\n",
       "      <td>8.0</td>\n",
       "      <td>reviewed</td>\n",
       "      <td>uu</td>\n",
       "      <td>uu</td>\n",
       "    </tr>\n",
       "  </tbody>\n",
       "</table>\n",
       "<p>5 rows × 22 columns</p>\n",
       "</div>"
      ],
      "text/plain": [
       "                         time   latitude   longitude  depth   mag magType  \\\n",
       "298  2020-09-11T19:15:33.180Z  43.528800 -105.332200   0.00  3.20      ml   \n",
       "347  2020-09-12T16:00:45.986Z  43.994900 -105.389800   0.00  2.90      ml   \n",
       "365  2020-09-10T12:09:31.800Z  44.322333 -110.520833   0.54  2.80      md   \n",
       "402  2020-09-10T18:33:51.740Z  44.333333 -110.505500   1.19  2.62      ml   \n",
       "429  2020-09-10T11:40:22.540Z  44.320333 -110.497000   1.20  2.56      ml   \n",
       "\n",
       "      nst    gap     dmin   rms  ...                   updated  \\\n",
       "298   NaN   68.0  1.10900  0.75  ...  2020-11-21T20:10:49.040Z   \n",
       "347   NaN  100.0  0.98400  0.34  ...  2020-11-21T20:10:49.040Z   \n",
       "365  10.0  118.0  0.05854  0.27  ...  2020-11-21T20:10:35.040Z   \n",
       "402  17.0  125.0  0.07115  0.18  ...  2020-11-21T20:10:35.040Z   \n",
       "429  19.0  134.0  0.06052  0.21  ...  2020-11-21T20:10:34.040Z   \n",
       "\n",
       "                                               place              type  \\\n",
       "298                     27 km SSE of Wright, Wyoming  mining explosion   \n",
       "347  26 km SSE of Antelope Valley-Crestview, Wyoming  mining explosion   \n",
       "365            59 km SE of West Yellowstone, Montana        earthquake   \n",
       "402            60 km SE of West Yellowstone, Montana        earthquake   \n",
       "429            61 km SE of West Yellowstone, Montana        earthquake   \n",
       "\n",
       "    horizontalError depthError  magError  magNst    status  locationSource  \\\n",
       "298            2.50       1.80     0.053    46.0  reviewed              us   \n",
       "347            6.70       1.80     0.097    14.0  reviewed              us   \n",
       "365            0.82       0.40     0.200     4.0  reviewed              uu   \n",
       "402            0.57       0.50     0.264     8.0  reviewed              uu   \n",
       "429            0.83       0.73     0.321     8.0  reviewed              uu   \n",
       "\n",
       "    magSource  \n",
       "298        us  \n",
       "347        us  \n",
       "365        uu  \n",
       "402        uu  \n",
       "429        uu  \n",
       "\n",
       "[5 rows x 22 columns]"
      ]
     },
     "execution_count": 25,
     "metadata": {},
     "output_type": "execute_result"
    }
   ],
   "source": [
    "EQ_data.sort_values(by=['depth']).head()"
   ]
  },
  {
   "cell_type": "markdown",
   "metadata": {},
   "source": [
    "You can reverse the order of sorting with `ascending=False`."
   ]
  },
  {
   "cell_type": "code",
   "execution_count": 26,
   "metadata": {
    "execution": {
     "iopub.execute_input": "2020-11-29T17:58:35.539058Z",
     "iopub.status.busy": "2020-11-29T17:58:35.520380Z",
     "iopub.status.idle": "2020-11-29T17:58:35.542469Z",
     "shell.execute_reply": "2020-11-29T17:58:35.541986Z"
    }
   },
   "outputs": [
    {
     "data": {
      "text/html": [
       "<div>\n",
       "<style scoped>\n",
       "    .dataframe tbody tr th:only-of-type {\n",
       "        vertical-align: middle;\n",
       "    }\n",
       "\n",
       "    .dataframe tbody tr th {\n",
       "        vertical-align: top;\n",
       "    }\n",
       "\n",
       "    .dataframe thead th {\n",
       "        text-align: right;\n",
       "    }\n",
       "</style>\n",
       "<table border=\"1\" class=\"dataframe\">\n",
       "  <thead>\n",
       "    <tr style=\"text-align: right;\">\n",
       "      <th></th>\n",
       "      <th>time</th>\n",
       "      <th>latitude</th>\n",
       "      <th>longitude</th>\n",
       "      <th>depth</th>\n",
       "      <th>mag</th>\n",
       "      <th>magType</th>\n",
       "      <th>nst</th>\n",
       "      <th>gap</th>\n",
       "      <th>dmin</th>\n",
       "      <th>rms</th>\n",
       "      <th>...</th>\n",
       "      <th>updated</th>\n",
       "      <th>place</th>\n",
       "      <th>type</th>\n",
       "      <th>horizontalError</th>\n",
       "      <th>depthError</th>\n",
       "      <th>magError</th>\n",
       "      <th>magNst</th>\n",
       "      <th>status</th>\n",
       "      <th>locationSource</th>\n",
       "      <th>magSource</th>\n",
       "    </tr>\n",
       "  </thead>\n",
       "  <tbody>\n",
       "    <tr>\n",
       "      <th>168</th>\n",
       "      <td>2020-09-07T22:22:20.306Z</td>\n",
       "      <td>-20.8541</td>\n",
       "      <td>-178.6937</td>\n",
       "      <td>605.20</td>\n",
       "      <td>4.3</td>\n",
       "      <td>mb</td>\n",
       "      <td>NaN</td>\n",
       "      <td>115.0</td>\n",
       "      <td>4.359</td>\n",
       "      <td>0.82</td>\n",
       "      <td>...</td>\n",
       "      <td>2020-11-17T19:44:53.040Z</td>\n",
       "      <td>Fiji region</td>\n",
       "      <td>earthquake</td>\n",
       "      <td>14.9</td>\n",
       "      <td>8.6</td>\n",
       "      <td>0.116</td>\n",
       "      <td>21.0</td>\n",
       "      <td>reviewed</td>\n",
       "      <td>us</td>\n",
       "      <td>us</td>\n",
       "    </tr>\n",
       "    <tr>\n",
       "      <th>241</th>\n",
       "      <td>2020-09-13T03:50:49.167Z</td>\n",
       "      <td>-21.8264</td>\n",
       "      <td>-179.4210</td>\n",
       "      <td>594.51</td>\n",
       "      <td>4.1</td>\n",
       "      <td>mb</td>\n",
       "      <td>NaN</td>\n",
       "      <td>112.0</td>\n",
       "      <td>4.705</td>\n",
       "      <td>0.73</td>\n",
       "      <td>...</td>\n",
       "      <td>2020-11-21T20:10:46.040Z</td>\n",
       "      <td>Fiji region</td>\n",
       "      <td>earthquake</td>\n",
       "      <td>12.9</td>\n",
       "      <td>8.5</td>\n",
       "      <td>0.115</td>\n",
       "      <td>21.0</td>\n",
       "      <td>reviewed</td>\n",
       "      <td>us</td>\n",
       "      <td>us</td>\n",
       "    </tr>\n",
       "    <tr>\n",
       "      <th>8</th>\n",
       "      <td>2020-09-12T02:37:29.903Z</td>\n",
       "      <td>-17.8804</td>\n",
       "      <td>-178.0054</td>\n",
       "      <td>559.66</td>\n",
       "      <td>5.6</td>\n",
       "      <td>mww</td>\n",
       "      <td>NaN</td>\n",
       "      <td>36.0</td>\n",
       "      <td>3.554</td>\n",
       "      <td>1.06</td>\n",
       "      <td>...</td>\n",
       "      <td>2020-11-21T20:10:37.040Z</td>\n",
       "      <td>284 km E of Levuka, Fiji</td>\n",
       "      <td>earthquake</td>\n",
       "      <td>9.1</td>\n",
       "      <td>4.9</td>\n",
       "      <td>0.093</td>\n",
       "      <td>11.0</td>\n",
       "      <td>reviewed</td>\n",
       "      <td>us</td>\n",
       "      <td>us</td>\n",
       "    </tr>\n",
       "    <tr>\n",
       "      <th>191</th>\n",
       "      <td>2020-09-13T03:28:35.972Z</td>\n",
       "      <td>-24.1523</td>\n",
       "      <td>-179.9576</td>\n",
       "      <td>550.77</td>\n",
       "      <td>4.3</td>\n",
       "      <td>mb</td>\n",
       "      <td>NaN</td>\n",
       "      <td>143.0</td>\n",
       "      <td>17.743</td>\n",
       "      <td>0.28</td>\n",
       "      <td>...</td>\n",
       "      <td>2020-11-21T20:10:46.040Z</td>\n",
       "      <td>south of the Fiji Islands</td>\n",
       "      <td>earthquake</td>\n",
       "      <td>19.1</td>\n",
       "      <td>13.7</td>\n",
       "      <td>0.147</td>\n",
       "      <td>14.0</td>\n",
       "      <td>reviewed</td>\n",
       "      <td>us</td>\n",
       "      <td>us</td>\n",
       "    </tr>\n",
       "    <tr>\n",
       "      <th>242</th>\n",
       "      <td>2020-09-13T04:05:14.608Z</td>\n",
       "      <td>6.0551</td>\n",
       "      <td>123.8095</td>\n",
       "      <td>539.77</td>\n",
       "      <td>4.1</td>\n",
       "      <td>mb</td>\n",
       "      <td>NaN</td>\n",
       "      <td>76.0</td>\n",
       "      <td>2.026</td>\n",
       "      <td>0.63</td>\n",
       "      <td>...</td>\n",
       "      <td>2020-11-21T20:10:46.040Z</td>\n",
       "      <td>45 km WSW of Palimbang, Philippines</td>\n",
       "      <td>earthquake</td>\n",
       "      <td>15.9</td>\n",
       "      <td>14.2</td>\n",
       "      <td>0.198</td>\n",
       "      <td>7.0</td>\n",
       "      <td>reviewed</td>\n",
       "      <td>us</td>\n",
       "      <td>us</td>\n",
       "    </tr>\n",
       "  </tbody>\n",
       "</table>\n",
       "<p>5 rows × 22 columns</p>\n",
       "</div>"
      ],
      "text/plain": [
       "                         time  latitude  longitude   depth  mag magType  nst  \\\n",
       "168  2020-09-07T22:22:20.306Z  -20.8541  -178.6937  605.20  4.3      mb  NaN   \n",
       "241  2020-09-13T03:50:49.167Z  -21.8264  -179.4210  594.51  4.1      mb  NaN   \n",
       "8    2020-09-12T02:37:29.903Z  -17.8804  -178.0054  559.66  5.6     mww  NaN   \n",
       "191  2020-09-13T03:28:35.972Z  -24.1523  -179.9576  550.77  4.3      mb  NaN   \n",
       "242  2020-09-13T04:05:14.608Z    6.0551   123.8095  539.77  4.1      mb  NaN   \n",
       "\n",
       "       gap    dmin   rms  ...                   updated  \\\n",
       "168  115.0   4.359  0.82  ...  2020-11-17T19:44:53.040Z   \n",
       "241  112.0   4.705  0.73  ...  2020-11-21T20:10:46.040Z   \n",
       "8     36.0   3.554  1.06  ...  2020-11-21T20:10:37.040Z   \n",
       "191  143.0  17.743  0.28  ...  2020-11-21T20:10:46.040Z   \n",
       "242   76.0   2.026  0.63  ...  2020-11-21T20:10:46.040Z   \n",
       "\n",
       "                                   place        type horizontalError  \\\n",
       "168                          Fiji region  earthquake            14.9   \n",
       "241                          Fiji region  earthquake            12.9   \n",
       "8               284 km E of Levuka, Fiji  earthquake             9.1   \n",
       "191            south of the Fiji Islands  earthquake            19.1   \n",
       "242  45 km WSW of Palimbang, Philippines  earthquake            15.9   \n",
       "\n",
       "    depthError  magError  magNst    status  locationSource magSource  \n",
       "168        8.6     0.116    21.0  reviewed              us        us  \n",
       "241        8.5     0.115    21.0  reviewed              us        us  \n",
       "8          4.9     0.093    11.0  reviewed              us        us  \n",
       "191       13.7     0.147    14.0  reviewed              us        us  \n",
       "242       14.2     0.198     7.0  reviewed              us        us  \n",
       "\n",
       "[5 rows x 22 columns]"
      ]
     },
     "execution_count": 26,
     "metadata": {},
     "output_type": "execute_result"
    }
   ],
   "source": [
    "EQ_data.sort_values(by=['depth'],ascending=False).head()"
   ]
  },
  {
   "cell_type": "markdown",
   "metadata": {},
   "source": [
    "## Data cleaning and inspection\n",
    "\n",
    "`.drop()` can be used to drop whole columns from a DataFrame."
   ]
  },
  {
   "cell_type": "code",
   "execution_count": 27,
   "metadata": {
    "execution": {
     "iopub.execute_input": "2020-11-29T17:58:35.552582Z",
     "iopub.status.busy": "2020-11-29T17:58:35.552054Z",
     "iopub.status.idle": "2020-11-29T17:58:35.555704Z",
     "shell.execute_reply": "2020-11-29T17:58:35.555219Z"
    }
   },
   "outputs": [
    {
     "data": {
      "text/html": [
       "<div>\n",
       "<style scoped>\n",
       "    .dataframe tbody tr th:only-of-type {\n",
       "        vertical-align: middle;\n",
       "    }\n",
       "\n",
       "    .dataframe tbody tr th {\n",
       "        vertical-align: top;\n",
       "    }\n",
       "\n",
       "    .dataframe thead th {\n",
       "        text-align: right;\n",
       "    }\n",
       "</style>\n",
       "<table border=\"1\" class=\"dataframe\">\n",
       "  <thead>\n",
       "    <tr style=\"text-align: right;\">\n",
       "      <th></th>\n",
       "      <th>time</th>\n",
       "      <th>latitude</th>\n",
       "      <th>longitude</th>\n",
       "      <th>depth</th>\n",
       "      <th>mag</th>\n",
       "    </tr>\n",
       "  </thead>\n",
       "  <tbody>\n",
       "    <tr>\n",
       "      <th>0</th>\n",
       "      <td>2020-09-07T06:12:39.688Z</td>\n",
       "      <td>-17.1102</td>\n",
       "      <td>168.5034</td>\n",
       "      <td>10.0</td>\n",
       "      <td>6.2</td>\n",
       "    </tr>\n",
       "    <tr>\n",
       "      <th>1</th>\n",
       "      <td>2020-09-11T07:35:57.187Z</td>\n",
       "      <td>-21.3968</td>\n",
       "      <td>-69.9096</td>\n",
       "      <td>51.0</td>\n",
       "      <td>6.2</td>\n",
       "    </tr>\n",
       "    <tr>\n",
       "      <th>2</th>\n",
       "      <td>2020-09-12T02:44:11.224Z</td>\n",
       "      <td>38.7482</td>\n",
       "      <td>142.2446</td>\n",
       "      <td>34.0</td>\n",
       "      <td>6.1</td>\n",
       "    </tr>\n",
       "    <tr>\n",
       "      <th>3</th>\n",
       "      <td>2020-09-08T00:45:20.853Z</td>\n",
       "      <td>-4.8713</td>\n",
       "      <td>129.7548</td>\n",
       "      <td>172.0</td>\n",
       "      <td>5.9</td>\n",
       "    </tr>\n",
       "    <tr>\n",
       "      <th>4</th>\n",
       "      <td>2020-09-12T08:34:27.321Z</td>\n",
       "      <td>-17.2562</td>\n",
       "      <td>167.6792</td>\n",
       "      <td>10.0</td>\n",
       "      <td>5.9</td>\n",
       "    </tr>\n",
       "  </tbody>\n",
       "</table>\n",
       "</div>"
      ],
      "text/plain": [
       "                       time  latitude  longitude  depth  mag\n",
       "0  2020-09-07T06:12:39.688Z  -17.1102   168.5034   10.0  6.2\n",
       "1  2020-09-11T07:35:57.187Z  -21.3968   -69.9096   51.0  6.2\n",
       "2  2020-09-12T02:44:11.224Z   38.7482   142.2446   34.0  6.1\n",
       "3  2020-09-08T00:45:20.853Z   -4.8713   129.7548  172.0  5.9\n",
       "4  2020-09-12T08:34:27.321Z  -17.2562   167.6792   10.0  5.9"
      ]
     },
     "execution_count": 27,
     "metadata": {},
     "output_type": "execute_result"
    }
   ],
   "source": [
    "EQ_data_concise = EQ_data.drop(['magType','nst','gap','dmin','rms','net','id','updated','place','type','horizontalError','depthError','magError','magNst','status','locationSource','magSource',], axis='columns')\n",
    "EQ_data_concise.head()"
   ]
  },
  {
   "cell_type": "markdown",
   "metadata": {},
   "source": [
    "`.unique()` returns the unique values from the specified object."
   ]
  },
  {
   "cell_type": "code",
   "execution_count": 28,
   "metadata": {
    "execution": {
     "iopub.execute_input": "2020-11-29T17:58:35.560954Z",
     "iopub.status.busy": "2020-11-29T17:58:35.560442Z",
     "iopub.status.idle": "2020-11-29T17:58:35.563111Z",
     "shell.execute_reply": "2020-11-29T17:58:35.563445Z"
    }
   },
   "outputs": [
    {
     "data": {
      "text/plain": [
       "array([2.5 , 2.51, 2.53, 2.54, 2.55, 2.56, 2.57, 2.58, 2.6 , 2.61, 2.62,\n",
       "       2.63, 2.64, 2.65, 2.66, 2.68, 2.69, 2.7 , 2.74, 2.75, 2.76, 2.77,\n",
       "       2.78, 2.79, 2.8 , 2.81, 2.82, 2.84, 2.86, 2.9 , 2.91, 2.92, 2.95,\n",
       "       2.96, 2.97, 2.98, 2.99, 3.  , 3.01, 3.02, 3.03, 3.06, 3.1 , 3.17,\n",
       "       3.18, 3.2 , 3.21, 3.23, 3.26, 3.3 , 3.32, 3.34, 3.42, 3.43, 3.44,\n",
       "       3.46, 3.5 , 3.53, 3.59, 3.6 , 3.7 , 3.71, 3.72, 3.74, 3.75, 3.8 ,\n",
       "       3.83, 3.9 , 4.  , 4.1 , 4.2 , 4.22, 4.3 , 4.33, 4.36, 4.4 , 4.5 ,\n",
       "       4.6 , 4.7 , 4.8 , 4.9 , 5.  , 5.1 , 5.2 , 5.4 , 5.6 , 5.7 , 5.9 ,\n",
       "       6.1 , 6.2 ])"
      ]
     },
     "execution_count": 28,
     "metadata": {},
     "output_type": "execute_result"
    }
   ],
   "source": [
    "unique_mags = EQ_data_concise['mag'].unique()\n",
    "unique_mags.sort()\n",
    "unique_mags"
   ]
  },
  {
   "cell_type": "markdown",
   "metadata": {},
   "source": [
    "`.value_counts()` returns the count of each unique value from the specified object. This functionality can be used to find duplicate values."
   ]
  },
  {
   "cell_type": "code",
   "execution_count": 29,
   "metadata": {
    "execution": {
     "iopub.execute_input": "2020-11-29T17:58:35.566687Z",
     "iopub.status.busy": "2020-11-29T17:58:35.566149Z",
     "iopub.status.idle": "2020-11-29T17:58:35.571914Z",
     "shell.execute_reply": "2020-11-29T17:58:35.571467Z"
    }
   },
   "outputs": [
    {
     "data": {
      "text/plain": [
       "4.40    38\n",
       "4.50    35\n",
       "4.20    32\n",
       "4.30    31\n",
       "4.60    31\n",
       "        ..\n",
       "2.69     1\n",
       "3.53     1\n",
       "3.72     1\n",
       "3.21     1\n",
       "3.44     1\n",
       "Name: mag, Length: 90, dtype: int64"
      ]
     },
     "execution_count": 29,
     "metadata": {},
     "output_type": "execute_result"
    }
   ],
   "source": [
    "EQ_data_concise['mag'].value_counts()"
   ]
  },
  {
   "cell_type": "markdown",
   "metadata": {},
   "source": [
    "### Finding missing data (NaNs)\n",
    "\n",
    "NaN stands for not a number and is used as a placeholder in data tables where no value exists. `np.isnan` returns a boolean object with True where NaNs appear in the DataFrame."
   ]
  },
  {
   "cell_type": "code",
   "execution_count": 30,
   "metadata": {
    "execution": {
     "iopub.execute_input": "2020-11-29T17:58:35.576600Z",
     "iopub.status.busy": "2020-11-29T17:58:35.576070Z",
     "iopub.status.idle": "2020-11-29T17:58:35.579201Z",
     "shell.execute_reply": "2020-11-29T17:58:35.578838Z"
    }
   },
   "outputs": [
    {
     "data": {
      "text/plain": [
       "0       True\n",
       "1       True\n",
       "2       True\n",
       "3       True\n",
       "4       True\n",
       "       ...  \n",
       "446     True\n",
       "447    False\n",
       "448     True\n",
       "449    False\n",
       "450     True\n",
       "Name: nst, Length: 451, dtype: bool"
      ]
     },
     "execution_count": 30,
     "metadata": {},
     "output_type": "execute_result"
    }
   ],
   "source": [
    "np.isnan(EQ_data['nst'])"
   ]
  },
  {
   "cell_type": "code",
   "execution_count": 31,
   "metadata": {
    "execution": {
     "iopub.execute_input": "2020-11-29T17:58:35.584752Z",
     "iopub.status.busy": "2020-11-29T17:58:35.584248Z",
     "iopub.status.idle": "2020-11-29T17:58:35.587213Z",
     "shell.execute_reply": "2020-11-29T17:58:35.586781Z"
    }
   },
   "outputs": [
    {
     "data": {
      "text/plain": [
       "0      False\n",
       "1      False\n",
       "2      False\n",
       "3      False\n",
       "4      False\n",
       "       ...  \n",
       "446    False\n",
       "447     True\n",
       "448    False\n",
       "449     True\n",
       "450    False\n",
       "Name: nst, Length: 451, dtype: bool"
      ]
     },
     "execution_count": 31,
     "metadata": {},
     "output_type": "execute_result"
    }
   ],
   "source": [
    "~np.isnan(EQ_data['nst'])"
   ]
  },
  {
   "cell_type": "markdown",
   "metadata": {},
   "source": [
    "You can use this boolean object to filter-out rows that contain NaNs."
   ]
  },
  {
   "cell_type": "code",
   "execution_count": 32,
   "metadata": {
    "execution": {
     "iopub.execute_input": "2020-11-29T17:58:35.618660Z",
     "iopub.status.busy": "2020-11-29T17:58:35.606865Z",
     "iopub.status.idle": "2020-11-29T17:58:35.621771Z",
     "shell.execute_reply": "2020-11-29T17:58:35.622110Z"
    }
   },
   "outputs": [
    {
     "data": {
      "text/html": [
       "<div>\n",
       "<style scoped>\n",
       "    .dataframe tbody tr th:only-of-type {\n",
       "        vertical-align: middle;\n",
       "    }\n",
       "\n",
       "    .dataframe tbody tr th {\n",
       "        vertical-align: top;\n",
       "    }\n",
       "\n",
       "    .dataframe thead th {\n",
       "        text-align: right;\n",
       "    }\n",
       "</style>\n",
       "<table border=\"1\" class=\"dataframe\">\n",
       "  <thead>\n",
       "    <tr style=\"text-align: right;\">\n",
       "      <th></th>\n",
       "      <th>time</th>\n",
       "      <th>latitude</th>\n",
       "      <th>longitude</th>\n",
       "      <th>depth</th>\n",
       "      <th>mag</th>\n",
       "      <th>magType</th>\n",
       "      <th>nst</th>\n",
       "      <th>gap</th>\n",
       "      <th>dmin</th>\n",
       "      <th>rms</th>\n",
       "      <th>...</th>\n",
       "      <th>updated</th>\n",
       "      <th>place</th>\n",
       "      <th>type</th>\n",
       "      <th>horizontalError</th>\n",
       "      <th>depthError</th>\n",
       "      <th>magError</th>\n",
       "      <th>magNst</th>\n",
       "      <th>status</th>\n",
       "      <th>locationSource</th>\n",
       "      <th>magSource</th>\n",
       "    </tr>\n",
       "  </thead>\n",
       "  <tbody>\n",
       "    <tr>\n",
       "      <th>162</th>\n",
       "      <td>2020-09-12T23:22:04.540Z</td>\n",
       "      <td>19.304600</td>\n",
       "      <td>-64.389600</td>\n",
       "      <td>40.00</td>\n",
       "      <td>4.36</td>\n",
       "      <td>md</td>\n",
       "      <td>19.0</td>\n",
       "      <td>233.0</td>\n",
       "      <td>1.86560</td>\n",
       "      <td>0.4800</td>\n",
       "      <td>...</td>\n",
       "      <td>2020-11-21T20:10:38.040Z</td>\n",
       "      <td>115 km NNE of Cruz Bay, U.S. Virgin Islands</td>\n",
       "      <td>earthquake</td>\n",
       "      <td>3.57</td>\n",
       "      <td>29.63</td>\n",
       "      <td>0.060000</td>\n",
       "      <td>8.0</td>\n",
       "      <td>reviewed</td>\n",
       "      <td>pr</td>\n",
       "      <td>pr</td>\n",
       "    </tr>\n",
       "    <tr>\n",
       "      <th>163</th>\n",
       "      <td>2020-09-13T07:12:58.980Z</td>\n",
       "      <td>19.396000</td>\n",
       "      <td>-64.284100</td>\n",
       "      <td>35.00</td>\n",
       "      <td>4.33</td>\n",
       "      <td>md</td>\n",
       "      <td>26.0</td>\n",
       "      <td>234.0</td>\n",
       "      <td>2.00520</td>\n",
       "      <td>0.2900</td>\n",
       "      <td>...</td>\n",
       "      <td>2020-11-21T20:10:39.040Z</td>\n",
       "      <td>129 km NNE of Cruz Bay, U.S. Virgin Islands</td>\n",
       "      <td>earthquake</td>\n",
       "      <td>1.81</td>\n",
       "      <td>21.72</td>\n",
       "      <td>0.130000</td>\n",
       "      <td>16.0</td>\n",
       "      <td>reviewed</td>\n",
       "      <td>pr</td>\n",
       "      <td>pr</td>\n",
       "    </tr>\n",
       "    <tr>\n",
       "      <th>195</th>\n",
       "      <td>2020-09-11T07:55:45.450Z</td>\n",
       "      <td>36.440667</td>\n",
       "      <td>-117.994500</td>\n",
       "      <td>3.93</td>\n",
       "      <td>4.22</td>\n",
       "      <td>ml</td>\n",
       "      <td>45.0</td>\n",
       "      <td>66.0</td>\n",
       "      <td>0.06908</td>\n",
       "      <td>0.1800</td>\n",
       "      <td>...</td>\n",
       "      <td>2020-11-21T20:10:36.040Z</td>\n",
       "      <td>18km SSE of Lone Pine, CA</td>\n",
       "      <td>earthquake</td>\n",
       "      <td>0.18</td>\n",
       "      <td>0.57</td>\n",
       "      <td>0.140000</td>\n",
       "      <td>320.0</td>\n",
       "      <td>reviewed</td>\n",
       "      <td>ci</td>\n",
       "      <td>ci</td>\n",
       "    </tr>\n",
       "    <tr>\n",
       "      <th>260</th>\n",
       "      <td>2020-09-08T01:19:54.510Z</td>\n",
       "      <td>19.121300</td>\n",
       "      <td>-64.398500</td>\n",
       "      <td>38.00</td>\n",
       "      <td>3.83</td>\n",
       "      <td>md</td>\n",
       "      <td>17.0</td>\n",
       "      <td>338.0</td>\n",
       "      <td>1.74990</td>\n",
       "      <td>0.4000</td>\n",
       "      <td>...</td>\n",
       "      <td>2020-11-17T19:44:53.040Z</td>\n",
       "      <td>96 km NNE of Cruz Bay, U.S. Virgin Islands</td>\n",
       "      <td>earthquake</td>\n",
       "      <td>3.23</td>\n",
       "      <td>24.52</td>\n",
       "      <td>0.110000</td>\n",
       "      <td>14.0</td>\n",
       "      <td>reviewed</td>\n",
       "      <td>pr</td>\n",
       "      <td>pr</td>\n",
       "    </tr>\n",
       "    <tr>\n",
       "      <th>261</th>\n",
       "      <td>2020-09-08T06:35:40.270Z</td>\n",
       "      <td>19.316600</td>\n",
       "      <td>-64.570800</td>\n",
       "      <td>37.00</td>\n",
       "      <td>3.83</td>\n",
       "      <td>md</td>\n",
       "      <td>20.0</td>\n",
       "      <td>335.0</td>\n",
       "      <td>1.73570</td>\n",
       "      <td>0.4100</td>\n",
       "      <td>...</td>\n",
       "      <td>2020-11-17T19:44:54.040Z</td>\n",
       "      <td>111 km NNE of Cruz Bay, U.S. Virgin Islands</td>\n",
       "      <td>earthquake</td>\n",
       "      <td>3.32</td>\n",
       "      <td>26.87</td>\n",
       "      <td>0.120000</td>\n",
       "      <td>10.0</td>\n",
       "      <td>reviewed</td>\n",
       "      <td>pr</td>\n",
       "      <td>pr</td>\n",
       "    </tr>\n",
       "    <tr>\n",
       "      <th>...</th>\n",
       "      <td>...</td>\n",
       "      <td>...</td>\n",
       "      <td>...</td>\n",
       "      <td>...</td>\n",
       "      <td>...</td>\n",
       "      <td>...</td>\n",
       "      <td>...</td>\n",
       "      <td>...</td>\n",
       "      <td>...</td>\n",
       "      <td>...</td>\n",
       "      <td>...</td>\n",
       "      <td>...</td>\n",
       "      <td>...</td>\n",
       "      <td>...</td>\n",
       "      <td>...</td>\n",
       "      <td>...</td>\n",
       "      <td>...</td>\n",
       "      <td>...</td>\n",
       "      <td>...</td>\n",
       "      <td>...</td>\n",
       "      <td>...</td>\n",
       "    </tr>\n",
       "    <tr>\n",
       "      <th>435</th>\n",
       "      <td>2020-09-08T11:03:53.600Z</td>\n",
       "      <td>18.027300</td>\n",
       "      <td>-66.828000</td>\n",
       "      <td>16.00</td>\n",
       "      <td>2.51</td>\n",
       "      <td>md</td>\n",
       "      <td>12.0</td>\n",
       "      <td>117.0</td>\n",
       "      <td>0.07310</td>\n",
       "      <td>0.1500</td>\n",
       "      <td>...</td>\n",
       "      <td>2020-09-08T11:14:28.314Z</td>\n",
       "      <td>2 km ESE of Yauco, Puerto Rico</td>\n",
       "      <td>earthquake</td>\n",
       "      <td>0.58</td>\n",
       "      <td>0.73</td>\n",
       "      <td>0.150000</td>\n",
       "      <td>5.0</td>\n",
       "      <td>reviewed</td>\n",
       "      <td>pr</td>\n",
       "      <td>pr</td>\n",
       "    </tr>\n",
       "    <tr>\n",
       "      <th>436</th>\n",
       "      <td>2020-09-13T17:55:42.130Z</td>\n",
       "      <td>19.182333</td>\n",
       "      <td>-155.475833</td>\n",
       "      <td>32.80</td>\n",
       "      <td>2.51</td>\n",
       "      <td>md</td>\n",
       "      <td>59.0</td>\n",
       "      <td>82.0</td>\n",
       "      <td>NaN</td>\n",
       "      <td>0.1200</td>\n",
       "      <td>...</td>\n",
       "      <td>2020-11-21T20:10:40.040Z</td>\n",
       "      <td>2 km S of Pāhala, Hawaii</td>\n",
       "      <td>earthquake</td>\n",
       "      <td>0.44</td>\n",
       "      <td>0.60</td>\n",
       "      <td>0.152709</td>\n",
       "      <td>27.0</td>\n",
       "      <td>reviewed</td>\n",
       "      <td>hv</td>\n",
       "      <td>hv</td>\n",
       "    </tr>\n",
       "    <tr>\n",
       "      <th>437</th>\n",
       "      <td>2020-09-07T08:24:04.300Z</td>\n",
       "      <td>17.932000</td>\n",
       "      <td>-66.947100</td>\n",
       "      <td>13.00</td>\n",
       "      <td>2.50</td>\n",
       "      <td>md</td>\n",
       "      <td>16.0</td>\n",
       "      <td>221.0</td>\n",
       "      <td>0.08040</td>\n",
       "      <td>0.1300</td>\n",
       "      <td>...</td>\n",
       "      <td>2020-09-07T09:46:21.114Z</td>\n",
       "      <td>6 km SW of Guánica, Puerto Rico</td>\n",
       "      <td>earthquake</td>\n",
       "      <td>0.79</td>\n",
       "      <td>0.30</td>\n",
       "      <td>0.120000</td>\n",
       "      <td>11.0</td>\n",
       "      <td>reviewed</td>\n",
       "      <td>pr</td>\n",
       "      <td>pr</td>\n",
       "    </tr>\n",
       "    <tr>\n",
       "      <th>447</th>\n",
       "      <td>2020-09-11T12:23:38.700Z</td>\n",
       "      <td>44.315167</td>\n",
       "      <td>-110.494500</td>\n",
       "      <td>1.87</td>\n",
       "      <td>2.50</td>\n",
       "      <td>ml</td>\n",
       "      <td>15.0</td>\n",
       "      <td>144.0</td>\n",
       "      <td>0.05648</td>\n",
       "      <td>0.1800</td>\n",
       "      <td>...</td>\n",
       "      <td>2020-11-21T20:10:36.040Z</td>\n",
       "      <td>61 km SE of West Yellowstone, Montana</td>\n",
       "      <td>earthquake</td>\n",
       "      <td>0.50</td>\n",
       "      <td>2.06</td>\n",
       "      <td>0.377000</td>\n",
       "      <td>8.0</td>\n",
       "      <td>reviewed</td>\n",
       "      <td>uu</td>\n",
       "      <td>uu</td>\n",
       "    </tr>\n",
       "    <tr>\n",
       "      <th>449</th>\n",
       "      <td>2020-09-12T05:56:08.720Z</td>\n",
       "      <td>38.169800</td>\n",
       "      <td>-117.964800</td>\n",
       "      <td>6.90</td>\n",
       "      <td>2.50</td>\n",
       "      <td>ml</td>\n",
       "      <td>28.0</td>\n",
       "      <td>47.8</td>\n",
       "      <td>0.03100</td>\n",
       "      <td>0.1599</td>\n",
       "      <td>...</td>\n",
       "      <td>2020-11-21T20:10:37.040Z</td>\n",
       "      <td>27 km SSE of Mina, Nevada</td>\n",
       "      <td>earthquake</td>\n",
       "      <td>NaN</td>\n",
       "      <td>0.60</td>\n",
       "      <td>0.290000</td>\n",
       "      <td>15.0</td>\n",
       "      <td>reviewed</td>\n",
       "      <td>nn</td>\n",
       "      <td>nn</td>\n",
       "    </tr>\n",
       "  </tbody>\n",
       "</table>\n",
       "<p>103 rows × 22 columns</p>\n",
       "</div>"
      ],
      "text/plain": [
       "                         time   latitude   longitude  depth   mag magType  \\\n",
       "162  2020-09-12T23:22:04.540Z  19.304600  -64.389600  40.00  4.36      md   \n",
       "163  2020-09-13T07:12:58.980Z  19.396000  -64.284100  35.00  4.33      md   \n",
       "195  2020-09-11T07:55:45.450Z  36.440667 -117.994500   3.93  4.22      ml   \n",
       "260  2020-09-08T01:19:54.510Z  19.121300  -64.398500  38.00  3.83      md   \n",
       "261  2020-09-08T06:35:40.270Z  19.316600  -64.570800  37.00  3.83      md   \n",
       "..                        ...        ...         ...    ...   ...     ...   \n",
       "435  2020-09-08T11:03:53.600Z  18.027300  -66.828000  16.00  2.51      md   \n",
       "436  2020-09-13T17:55:42.130Z  19.182333 -155.475833  32.80  2.51      md   \n",
       "437  2020-09-07T08:24:04.300Z  17.932000  -66.947100  13.00  2.50      md   \n",
       "447  2020-09-11T12:23:38.700Z  44.315167 -110.494500   1.87  2.50      ml   \n",
       "449  2020-09-12T05:56:08.720Z  38.169800 -117.964800   6.90  2.50      ml   \n",
       "\n",
       "      nst    gap     dmin     rms  ...                   updated  \\\n",
       "162  19.0  233.0  1.86560  0.4800  ...  2020-11-21T20:10:38.040Z   \n",
       "163  26.0  234.0  2.00520  0.2900  ...  2020-11-21T20:10:39.040Z   \n",
       "195  45.0   66.0  0.06908  0.1800  ...  2020-11-21T20:10:36.040Z   \n",
       "260  17.0  338.0  1.74990  0.4000  ...  2020-11-17T19:44:53.040Z   \n",
       "261  20.0  335.0  1.73570  0.4100  ...  2020-11-17T19:44:54.040Z   \n",
       "..    ...    ...      ...     ...  ...                       ...   \n",
       "435  12.0  117.0  0.07310  0.1500  ...  2020-09-08T11:14:28.314Z   \n",
       "436  59.0   82.0      NaN  0.1200  ...  2020-11-21T20:10:40.040Z   \n",
       "437  16.0  221.0  0.08040  0.1300  ...  2020-09-07T09:46:21.114Z   \n",
       "447  15.0  144.0  0.05648  0.1800  ...  2020-11-21T20:10:36.040Z   \n",
       "449  28.0   47.8  0.03100  0.1599  ...  2020-11-21T20:10:37.040Z   \n",
       "\n",
       "                                           place        type horizontalError  \\\n",
       "162  115 km NNE of Cruz Bay, U.S. Virgin Islands  earthquake            3.57   \n",
       "163  129 km NNE of Cruz Bay, U.S. Virgin Islands  earthquake            1.81   \n",
       "195                    18km SSE of Lone Pine, CA  earthquake            0.18   \n",
       "260   96 km NNE of Cruz Bay, U.S. Virgin Islands  earthquake            3.23   \n",
       "261  111 km NNE of Cruz Bay, U.S. Virgin Islands  earthquake            3.32   \n",
       "..                                           ...         ...             ...   \n",
       "435               2 km ESE of Yauco, Puerto Rico  earthquake            0.58   \n",
       "436                     2 km S of Pāhala, Hawaii  earthquake            0.44   \n",
       "437              6 km SW of Guánica, Puerto Rico  earthquake            0.79   \n",
       "447        61 km SE of West Yellowstone, Montana  earthquake            0.50   \n",
       "449                    27 km SSE of Mina, Nevada  earthquake             NaN   \n",
       "\n",
       "    depthError  magError  magNst    status  locationSource magSource  \n",
       "162      29.63  0.060000     8.0  reviewed              pr        pr  \n",
       "163      21.72  0.130000    16.0  reviewed              pr        pr  \n",
       "195       0.57  0.140000   320.0  reviewed              ci        ci  \n",
       "260      24.52  0.110000    14.0  reviewed              pr        pr  \n",
       "261      26.87  0.120000    10.0  reviewed              pr        pr  \n",
       "..         ...       ...     ...       ...             ...       ...  \n",
       "435       0.73  0.150000     5.0  reviewed              pr        pr  \n",
       "436       0.60  0.152709    27.0  reviewed              hv        hv  \n",
       "437       0.30  0.120000    11.0  reviewed              pr        pr  \n",
       "447       2.06  0.377000     8.0  reviewed              uu        uu  \n",
       "449       0.60  0.290000    15.0  reviewed              nn        nn  \n",
       "\n",
       "[103 rows x 22 columns]"
      ]
     },
     "execution_count": 32,
     "metadata": {},
     "output_type": "execute_result"
    }
   ],
   "source": [
    "EQ_data[~np.isnan(EQ_data['nst'])]"
   ]
  },
  {
   "cell_type": "markdown",
   "metadata": {},
   "source": [
    "## Further Reading (Optional)\n",
    "\n",
    "This user guide has lots of useful examples and documentation:\n",
    "https://pandas.pydata.org/pandas-docs/stable/user_guide/indexing.html"
   ]
  },
  {
   "cell_type": "code",
   "execution_count": null,
   "metadata": {},
   "outputs": [],
   "source": []
  }
 ],
 "metadata": {
  "kernelspec": {
   "display_name": "Python 3",
   "language": "python",
   "name": "python3"
  },
  "language_info": {
   "codemirror_mode": {
    "name": "ipython",
    "version": 3
   },
   "file_extension": ".py",
   "mimetype": "text/x-python",
   "name": "python",
   "nbconvert_exporter": "python",
   "pygments_lexer": "ipython3",
   "version": "3.7.7"
  }
 },
 "nbformat": 4,
 "nbformat_minor": 4
}