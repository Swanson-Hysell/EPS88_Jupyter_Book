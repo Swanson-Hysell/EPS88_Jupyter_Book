{
 "cells": [
  {
   "cell_type": "markdown",
   "metadata": {},
   "source": [
    "# 4.1 Data Wrangling and Advanced Indexing\n",
    "\n",
    "**Goal:** Build data wrangling skills to clean and navigate datasets.\n",
    "\n",
    "**Outline:**\n",
    "* Numpy Array and DataFrame methods and functions\n",
    "* Table indexing and slicing\n",
    "* Boolean (logical) indexing\n",
    "* Sorting\n",
    "* Data cleaning and inspection\n",
    "\n",
    "## Additional Required Reading: Functions\n",
    "Data 8 textbook \"Computational and Inferential Thinking: The Foundations of Data Science\" By Ani Adhikari and John DeNero [Chapter 8 Functions and Tables](https://www.inferentialthinking.com/chapters/08/Functions_and_Tables.html). This should overlap with your assigned reading for Data 8."
   ]
  },
  {
   "cell_type": "markdown",
   "metadata": {},
   "source": [
    "## Numpy Arrays and DataFrames\n",
    "\n",
    "NumPy and Pandas offer several types of data structures, the two main structures that we use are `nparray` and `DataFrame`. A `nparray` is a fast and flexible container for large datasets that allows you to perform operations on whole blocks of data at once. `nparray`s are best suited for homogenous (just one type) numerical data. `DataFrames` are designed for tabular datasets, and can handle heterogenous data (multiple types: int, float, string, etc.).\n"
   ]
  },
  {
   "cell_type": "code",
   "execution_count": 1,
   "metadata": {
    "execution": {
     "iopub.execute_input": "2020-10-05T21:22:30.424502Z",
     "iopub.status.busy": "2020-10-05T21:22:30.423950Z",
     "iopub.status.idle": "2020-10-05T21:22:30.947215Z",
     "shell.execute_reply": "2020-10-05T21:22:30.946683Z"
    }
   },
   "outputs": [],
   "source": [
    "import numpy as np\n",
    "import pandas as pd"
   ]
  },
  {
   "cell_type": "markdown",
   "metadata": {},
   "source": [
    "### nparray\n",
    "\n",
    "Here is an example of a `nparray` with random float data:"
   ]
  },
  {
   "cell_type": "code",
   "execution_count": 2,
   "metadata": {
    "execution": {
     "iopub.execute_input": "2020-10-05T21:22:30.955594Z",
     "iopub.status.busy": "2020-10-05T21:22:30.955119Z",
     "iopub.status.idle": "2020-10-05T21:22:30.958226Z",
     "shell.execute_reply": "2020-10-05T21:22:30.957884Z"
    }
   },
   "outputs": [
    {
     "data": {
      "text/plain": [
       "array([[-0.0419345 , -1.16114793, -0.77874691],\n",
       "       [ 1.53829581,  0.4330853 , -1.51268661],\n",
       "       [-1.53649414,  0.65152418,  0.21474776],\n",
       "       [ 0.01015001, -0.08328026,  0.33602064],\n",
       "       [ 0.03194976, -1.35590311,  0.22993183]])"
      ]
     },
     "execution_count": 2,
     "metadata": {},
     "output_type": "execute_result"
    }
   ],
   "source": [
    "# Generate a random nparray called arr_data\n",
    "arr_data = np.random.randn(5,3)\n",
    "arr_data"
   ]
  },
  {
   "cell_type": "markdown",
   "metadata": {},
   "source": [
    "The function `arrayName.shape` is useful for finding the number of rows and columns in an array."
   ]
  },
  {
   "cell_type": "code",
   "execution_count": 3,
   "metadata": {
    "execution": {
     "iopub.execute_input": "2020-10-05T21:22:30.961544Z",
     "iopub.status.busy": "2020-10-05T21:22:30.961018Z",
     "iopub.status.idle": "2020-10-05T21:22:30.964568Z",
     "shell.execute_reply": "2020-10-05T21:22:30.963992Z"
    }
   },
   "outputs": [
    {
     "data": {
      "text/plain": [
       "(5, 3)"
      ]
     },
     "execution_count": 3,
     "metadata": {},
     "output_type": "execute_result"
    }
   ],
   "source": [
    "# use .shape to determine the shape of arr_data\n",
    "arr_data.shape"
   ]
  },
  {
   "cell_type": "markdown",
   "metadata": {},
   "source": [
    "`arrayName.dtype` will display the data type of the data stored in the array."
   ]
  },
  {
   "cell_type": "code",
   "execution_count": 4,
   "metadata": {
    "execution": {
     "iopub.execute_input": "2020-10-05T21:22:30.969458Z",
     "iopub.status.busy": "2020-10-05T21:22:30.968924Z",
     "iopub.status.idle": "2020-10-05T21:22:30.971529Z",
     "shell.execute_reply": "2020-10-05T21:22:30.971860Z"
    }
   },
   "outputs": [
    {
     "data": {
      "text/plain": [
       "dtype('float64')"
      ]
     },
     "execution_count": 4,
     "metadata": {},
     "output_type": "execute_result"
    }
   ],
   "source": [
    "# use .dtype to determine the type of arr_data\n",
    "arr_data.dtype"
   ]
  },
  {
   "cell_type": "markdown",
   "metadata": {},
   "source": [
    "The functions `np.zeros` and `np.ones` are similar, they create arrays full of zeros and ones respectively. The input for these functions is the shape of the array you want. This is an effective way of setting up an array of place-holders that you can then fill in with a loop or to make an array of a single value."
   ]
  },
  {
   "cell_type": "code",
   "execution_count": 5,
   "metadata": {
    "execution": {
     "iopub.execute_input": "2020-10-05T21:22:30.975554Z",
     "iopub.status.busy": "2020-10-05T21:22:30.975034Z",
     "iopub.status.idle": "2020-10-05T21:22:30.978377Z",
     "shell.execute_reply": "2020-10-05T21:22:30.978043Z"
    }
   },
   "outputs": [
    {
     "data": {
      "text/plain": [
       "array([[0., 0., 0., 0.],\n",
       "       [0., 0., 0., 0.],\n",
       "       [0., 0., 0., 0.],\n",
       "       [0., 0., 0., 0.]])"
      ]
     },
     "execution_count": 5,
     "metadata": {},
     "output_type": "execute_result"
    }
   ],
   "source": [
    "# Generate a nparray of zeros with np.zeros\n",
    "arr0 = np.zeros((4,4))\n",
    "arr0"
   ]
  },
  {
   "cell_type": "code",
   "execution_count": 6,
   "metadata": {
    "execution": {
     "iopub.execute_input": "2020-10-05T21:22:30.982011Z",
     "iopub.status.busy": "2020-10-05T21:22:30.981504Z",
     "iopub.status.idle": "2020-10-05T21:22:30.984263Z",
     "shell.execute_reply": "2020-10-05T21:22:30.984630Z"
    }
   },
   "outputs": [
    {
     "data": {
      "text/plain": [
       "array([[1., 1., 1., 1.],\n",
       "       [1., 1., 1., 1.],\n",
       "       [1., 1., 1., 1.],\n",
       "       [1., 1., 1., 1.]])"
      ]
     },
     "execution_count": 6,
     "metadata": {},
     "output_type": "execute_result"
    }
   ],
   "source": [
    "# Generate a nparray of ones with np.ones\n",
    "arr1 = np.ones((4,4))\n",
    "arr1"
   ]
  },
  {
   "cell_type": "code",
   "execution_count": 7,
   "metadata": {
    "execution": {
     "iopub.execute_input": "2020-10-05T21:22:30.988455Z",
     "iopub.status.busy": "2020-10-05T21:22:30.987970Z",
     "iopub.status.idle": "2020-10-05T21:22:30.990826Z",
     "shell.execute_reply": "2020-10-05T21:22:30.991196Z"
    }
   },
   "outputs": [
    {
     "data": {
      "text/plain": [
       "array([[5., 5., 5., 5.],\n",
       "       [5., 5., 5., 5.],\n",
       "       [5., 5., 5., 5.],\n",
       "       [5., 5., 5., 5.]])"
      ]
     },
     "execution_count": 7,
     "metadata": {},
     "output_type": "execute_result"
    }
   ],
   "source": [
    "# np.ones is handy for making a nparray of any single value\n",
    "arr5 = arr1 * 5\n",
    "arr5"
   ]
  },
  {
   "cell_type": "markdown",
   "metadata": {},
   "source": [
    "The functions `np.arange` and `np.linspace` can be used to make monotonic number lines. They are really useful! `np.arange` makes an array of integers or floats between the starting and ending (note that the ending point is exclusive) in steps that you set as inputs. `np.linspace` will make evenly spaced float points between the starting and ending (note that the ending point is inclusive) you set."
   ]
  },
  {
   "cell_type": "code",
   "execution_count": 8,
   "metadata": {
    "execution": {
     "iopub.execute_input": "2020-10-05T21:22:30.994687Z",
     "iopub.status.busy": "2020-10-05T21:22:30.994190Z",
     "iopub.status.idle": "2020-10-05T21:22:30.997006Z",
     "shell.execute_reply": "2020-10-05T21:22:30.997408Z"
    }
   },
   "outputs": [
    {
     "data": {
      "text/plain": [
       "array([ 0,  1,  2,  3,  4,  5,  6,  7,  8,  9, 10])"
      ]
     },
     "execution_count": 8,
     "metadata": {},
     "output_type": "execute_result"
    }
   ],
   "source": [
    "# Generate an array of integers between 0 and 10 in steps of 1, including 0 (start) but not 11 (end)\n",
    "arr2 = np.arange(0,11,1) \n",
    "arr2"
   ]
  },
  {
   "cell_type": "code",
   "execution_count": 9,
   "metadata": {
    "execution": {
     "iopub.execute_input": "2020-10-05T21:22:31.001207Z",
     "iopub.status.busy": "2020-10-05T21:22:31.000715Z",
     "iopub.status.idle": "2020-10-05T21:22:31.003066Z",
     "shell.execute_reply": "2020-10-05T21:22:31.003399Z"
    }
   },
   "outputs": [
    {
     "data": {
      "text/plain": [
       "array([ 0.,  2.,  4.,  6.,  8., 10.])"
      ]
     },
     "execution_count": 9,
     "metadata": {},
     "output_type": "execute_result"
    }
   ],
   "source": [
    "# Generate an array of floats between 0 and 10 in steps of 2, including 0 (start) but not 11 (end)\n",
    "arr2 = np.arange(0.0,11.0,2.0) \n",
    "arr2"
   ]
  },
  {
   "cell_type": "code",
   "execution_count": 10,
   "metadata": {
    "execution": {
     "iopub.execute_input": "2020-10-05T21:22:31.007087Z",
     "iopub.status.busy": "2020-10-05T21:22:31.006578Z",
     "iopub.status.idle": "2020-10-05T21:22:31.009951Z",
     "shell.execute_reply": "2020-10-05T21:22:31.009590Z"
    }
   },
   "outputs": [
    {
     "data": {
      "text/plain": [
       "array([ 0.        ,  0.76923077,  1.53846154,  2.30769231,  3.07692308,\n",
       "        3.84615385,  4.61538462,  5.38461538,  6.15384615,  6.92307692,\n",
       "        7.69230769,  8.46153846,  9.23076923, 10.        ])"
      ]
     },
     "execution_count": 10,
     "metadata": {},
     "output_type": "execute_result"
    }
   ],
   "source": [
    "# Generate an array of 14 evenly spaced numbers between 0 and 10, including 0 (start) and 10 (end).\n",
    "arr3=np.linspace(0,10,14) \n",
    "arr3"
   ]
  },
  {
   "cell_type": "markdown",
   "metadata": {},
   "source": [
    "### DataFrames \n",
    "\n",
    "`Series` and `DataFrames` are like nparrays but they have the added feature of index labels assigned to each row and column -- the bold labels in the below `DataFrame`. These labels can be used to bin and select data."
   ]
  },
  {
   "cell_type": "code",
   "execution_count": 11,
   "metadata": {
    "execution": {
     "iopub.execute_input": "2020-10-05T21:22:31.016363Z",
     "iopub.status.busy": "2020-10-05T21:22:31.015941Z",
     "iopub.status.idle": "2020-10-05T21:22:31.023991Z",
     "shell.execute_reply": "2020-10-05T21:22:31.023289Z"
    }
   },
   "outputs": [
    {
     "data": {
      "text/html": [
       "<div>\n",
       "<style scoped>\n",
       "    .dataframe tbody tr th:only-of-type {\n",
       "        vertical-align: middle;\n",
       "    }\n",
       "\n",
       "    .dataframe tbody tr th {\n",
       "        vertical-align: top;\n",
       "    }\n",
       "\n",
       "    .dataframe thead th {\n",
       "        text-align: right;\n",
       "    }\n",
       "</style>\n",
       "<table border=\"1\" class=\"dataframe\">\n",
       "  <thead>\n",
       "    <tr style=\"text-align: right;\">\n",
       "      <th></th>\n",
       "      <th>sedimentary</th>\n",
       "      <th>igneous</th>\n",
       "      <th>metamorphic</th>\n",
       "    </tr>\n",
       "  </thead>\n",
       "  <tbody>\n",
       "    <tr>\n",
       "      <th>Nevada</th>\n",
       "      <td>0.724306</td>\n",
       "      <td>0.960806</td>\n",
       "      <td>0.156237</td>\n",
       "    </tr>\n",
       "    <tr>\n",
       "      <th>Montana</th>\n",
       "      <td>0.896371</td>\n",
       "      <td>0.932312</td>\n",
       "      <td>0.165291</td>\n",
       "    </tr>\n",
       "    <tr>\n",
       "      <th>Arizona</th>\n",
       "      <td>0.885512</td>\n",
       "      <td>0.797520</td>\n",
       "      <td>0.032702</td>\n",
       "    </tr>\n",
       "  </tbody>\n",
       "</table>\n",
       "</div>"
      ],
      "text/plain": [
       "         sedimentary   igneous  metamorphic\n",
       "Nevada      0.724306  0.960806     0.156237\n",
       "Montana     0.896371  0.932312     0.165291\n",
       "Arizona     0.885512  0.797520     0.032702"
      ]
     },
     "execution_count": 11,
     "metadata": {},
     "output_type": "execute_result"
    }
   ],
   "source": [
    "# generate a new DataFrame\n",
    "# note that index values (like the column labels) don't have to integers and don't have to be in order\n",
    "frame = pd.DataFrame(np.random.rand(3, 3), index=['Nevada','Montana','Arizona'], columns=['sedimentary','igneous','metamorphic'])\n",
    "frame"
   ]
  },
  {
   "cell_type": "markdown",
   "metadata": {},
   "source": [
    "We've seen `DataFrame` structures before in our tabular data files. The Earthquake catalog we were dealing with last week was a .csv (Comma Separated Variable) data file of all the earthquakes. We imported it as a DataFrame from the USGS API by setting up a query URL and using `pd.read_csv`. This time we'll look at the earthquakes of magnitude 2.5 and greater from the past week."
   ]
  },
  {
   "cell_type": "code",
   "execution_count": 12,
   "metadata": {
    "execution": {
     "iopub.execute_input": "2020-10-05T21:22:31.027827Z",
     "iopub.status.busy": "2020-10-05T21:22:31.027411Z",
     "iopub.status.idle": "2020-10-05T21:22:31.923388Z",
     "shell.execute_reply": "2020-10-05T21:22:31.923742Z"
    }
   },
   "outputs": [
    {
     "data": {
      "text/html": [
       "<div>\n",
       "<style scoped>\n",
       "    .dataframe tbody tr th:only-of-type {\n",
       "        vertical-align: middle;\n",
       "    }\n",
       "\n",
       "    .dataframe tbody tr th {\n",
       "        vertical-align: top;\n",
       "    }\n",
       "\n",
       "    .dataframe thead th {\n",
       "        text-align: right;\n",
       "    }\n",
       "</style>\n",
       "<table border=\"1\" class=\"dataframe\">\n",
       "  <thead>\n",
       "    <tr style=\"text-align: right;\">\n",
       "      <th></th>\n",
       "      <th>time</th>\n",
       "      <th>latitude</th>\n",
       "      <th>longitude</th>\n",
       "      <th>depth</th>\n",
       "      <th>mag</th>\n",
       "      <th>magType</th>\n",
       "      <th>nst</th>\n",
       "      <th>gap</th>\n",
       "      <th>dmin</th>\n",
       "      <th>rms</th>\n",
       "      <th>...</th>\n",
       "      <th>updated</th>\n",
       "      <th>place</th>\n",
       "      <th>type</th>\n",
       "      <th>horizontalError</th>\n",
       "      <th>depthError</th>\n",
       "      <th>magError</th>\n",
       "      <th>magNst</th>\n",
       "      <th>status</th>\n",
       "      <th>locationSource</th>\n",
       "      <th>magSource</th>\n",
       "    </tr>\n",
       "  </thead>\n",
       "  <tbody>\n",
       "    <tr>\n",
       "      <th>0</th>\n",
       "      <td>2020-09-11T07:35:57.195Z</td>\n",
       "      <td>-21.3957</td>\n",
       "      <td>-69.9093</td>\n",
       "      <td>51.00</td>\n",
       "      <td>6.2</td>\n",
       "      <td>mww</td>\n",
       "      <td>NaN</td>\n",
       "      <td>72.0</td>\n",
       "      <td>0.076</td>\n",
       "      <td>0.87</td>\n",
       "      <td>...</td>\n",
       "      <td>2020-09-25T10:13:28.654Z</td>\n",
       "      <td>82 km NNE of Tocopilla, Chile</td>\n",
       "      <td>earthquake</td>\n",
       "      <td>6.3</td>\n",
       "      <td>1.9</td>\n",
       "      <td>0.071</td>\n",
       "      <td>19.0</td>\n",
       "      <td>reviewed</td>\n",
       "      <td>us</td>\n",
       "      <td>us</td>\n",
       "    </tr>\n",
       "    <tr>\n",
       "      <th>1</th>\n",
       "      <td>2020-09-12T02:44:10.969Z</td>\n",
       "      <td>38.7591</td>\n",
       "      <td>142.2473</td>\n",
       "      <td>32.09</td>\n",
       "      <td>6.1</td>\n",
       "      <td>mww</td>\n",
       "      <td>NaN</td>\n",
       "      <td>47.0</td>\n",
       "      <td>2.223</td>\n",
       "      <td>0.95</td>\n",
       "      <td>...</td>\n",
       "      <td>2020-09-14T03:01:02.354Z</td>\n",
       "      <td>57 km SE of Ōfunato, Japan</td>\n",
       "      <td>earthquake</td>\n",
       "      <td>7.3</td>\n",
       "      <td>3.5</td>\n",
       "      <td>0.057</td>\n",
       "      <td>30.0</td>\n",
       "      <td>reviewed</td>\n",
       "      <td>us</td>\n",
       "      <td>us</td>\n",
       "    </tr>\n",
       "    <tr>\n",
       "      <th>2</th>\n",
       "      <td>2020-09-07T06:12:39.710Z</td>\n",
       "      <td>-17.1086</td>\n",
       "      <td>168.4935</td>\n",
       "      <td>10.00</td>\n",
       "      <td>6.0</td>\n",
       "      <td>mww</td>\n",
       "      <td>NaN</td>\n",
       "      <td>41.0</td>\n",
       "      <td>2.065</td>\n",
       "      <td>1.13</td>\n",
       "      <td>...</td>\n",
       "      <td>2020-10-04T13:09:52.650Z</td>\n",
       "      <td>72 km NNE of Port-Vila, Vanuatu</td>\n",
       "      <td>earthquake</td>\n",
       "      <td>6.9</td>\n",
       "      <td>1.8</td>\n",
       "      <td>0.098</td>\n",
       "      <td>10.0</td>\n",
       "      <td>reviewed</td>\n",
       "      <td>us</td>\n",
       "      <td>us</td>\n",
       "    </tr>\n",
       "    <tr>\n",
       "      <th>3</th>\n",
       "      <td>2020-09-08T00:45:20.952Z</td>\n",
       "      <td>-4.9124</td>\n",
       "      <td>129.7627</td>\n",
       "      <td>174.05</td>\n",
       "      <td>5.9</td>\n",
       "      <td>mww</td>\n",
       "      <td>NaN</td>\n",
       "      <td>12.0</td>\n",
       "      <td>3.173</td>\n",
       "      <td>0.78</td>\n",
       "      <td>...</td>\n",
       "      <td>2020-09-09T00:49:01.271Z</td>\n",
       "      <td>197 km SSE of Amahai, Indonesia</td>\n",
       "      <td>earthquake</td>\n",
       "      <td>6.4</td>\n",
       "      <td>3.6</td>\n",
       "      <td>0.086</td>\n",
       "      <td>13.0</td>\n",
       "      <td>reviewed</td>\n",
       "      <td>us</td>\n",
       "      <td>us</td>\n",
       "    </tr>\n",
       "    <tr>\n",
       "      <th>4</th>\n",
       "      <td>2020-09-12T08:34:27.322Z</td>\n",
       "      <td>-17.2576</td>\n",
       "      <td>167.6786</td>\n",
       "      <td>10.00</td>\n",
       "      <td>5.9</td>\n",
       "      <td>mww</td>\n",
       "      <td>NaN</td>\n",
       "      <td>64.0</td>\n",
       "      <td>1.857</td>\n",
       "      <td>0.70</td>\n",
       "      <td>...</td>\n",
       "      <td>2020-09-25T12:11:10.835Z</td>\n",
       "      <td>Vanuatu</td>\n",
       "      <td>earthquake</td>\n",
       "      <td>6.0</td>\n",
       "      <td>1.9</td>\n",
       "      <td>0.043</td>\n",
       "      <td>51.0</td>\n",
       "      <td>reviewed</td>\n",
       "      <td>us</td>\n",
       "      <td>us</td>\n",
       "    </tr>\n",
       "  </tbody>\n",
       "</table>\n",
       "<p>5 rows × 22 columns</p>\n",
       "</div>"
      ],
      "text/plain": [
       "                       time  latitude  longitude   depth  mag magType  nst  \\\n",
       "0  2020-09-11T07:35:57.195Z  -21.3957   -69.9093   51.00  6.2     mww  NaN   \n",
       "1  2020-09-12T02:44:10.969Z   38.7591   142.2473   32.09  6.1     mww  NaN   \n",
       "2  2020-09-07T06:12:39.710Z  -17.1086   168.4935   10.00  6.0     mww  NaN   \n",
       "3  2020-09-08T00:45:20.952Z   -4.9124   129.7627  174.05  5.9     mww  NaN   \n",
       "4  2020-09-12T08:34:27.322Z  -17.2576   167.6786   10.00  5.9     mww  NaN   \n",
       "\n",
       "    gap   dmin   rms  ...                   updated  \\\n",
       "0  72.0  0.076  0.87  ...  2020-09-25T10:13:28.654Z   \n",
       "1  47.0  2.223  0.95  ...  2020-09-14T03:01:02.354Z   \n",
       "2  41.0  2.065  1.13  ...  2020-10-04T13:09:52.650Z   \n",
       "3  12.0  3.173  0.78  ...  2020-09-09T00:49:01.271Z   \n",
       "4  64.0  1.857  0.70  ...  2020-09-25T12:11:10.835Z   \n",
       "\n",
       "                             place        type horizontalError depthError  \\\n",
       "0    82 km NNE of Tocopilla, Chile  earthquake             6.3        1.9   \n",
       "1       57 km SE of Ōfunato, Japan  earthquake             7.3        3.5   \n",
       "2  72 km NNE of Port-Vila, Vanuatu  earthquake             6.9        1.8   \n",
       "3  197 km SSE of Amahai, Indonesia  earthquake             6.4        3.6   \n",
       "4                          Vanuatu  earthquake             6.0        1.9   \n",
       "\n",
       "   magError  magNst    status  locationSource magSource  \n",
       "0     0.071    19.0  reviewed              us        us  \n",
       "1     0.057    30.0  reviewed              us        us  \n",
       "2     0.098    10.0  reviewed              us        us  \n",
       "3     0.086    13.0  reviewed              us        us  \n",
       "4     0.043    51.0  reviewed              us        us  \n",
       "\n",
       "[5 rows x 22 columns]"
      ]
     },
     "execution_count": 12,
     "metadata": {},
     "output_type": "execute_result"
    }
   ],
   "source": [
    "start_day = '2020-09-07'\n",
    "end_day = '2020-09-14'\n",
    "standard_url = 'https://earthquake.usgs.gov/fdsnws/event/1/query?format=csv&orderby=magnitude'\n",
    "\n",
    "query_url = standard_url + '&starttime=' + start_day + '&endtime=' + end_day + '&minmagnitude=2.5'\n",
    "EQ_data = pd.read_csv(query_url)\n",
    "EQ_data .head()"
   ]
  },
  {
   "cell_type": "markdown",
   "metadata": {},
   "source": [
    "We have seen referencing individual columns (which are called `Series`) with: `DataFrame['Column_Name']`."
   ]
  },
  {
   "cell_type": "code",
   "execution_count": 13,
   "metadata": {
    "execution": {
     "iopub.execute_input": "2020-10-05T21:22:31.929217Z",
     "iopub.status.busy": "2020-10-05T21:22:31.928711Z",
     "iopub.status.idle": "2020-10-05T21:22:31.931527Z",
     "shell.execute_reply": "2020-10-05T21:22:31.931903Z"
    }
   },
   "outputs": [
    {
     "data": {
      "text/plain": [
       "0       51.00\n",
       "1       32.09\n",
       "2       10.00\n",
       "3      174.05\n",
       "4       10.00\n",
       "        ...  \n",
       "416     25.60\n",
       "417      6.90\n",
       "418     21.00\n",
       "419     10.30\n",
       "420     94.50\n",
       "Name: depth, Length: 421, dtype: float64"
      ]
     },
     "execution_count": 13,
     "metadata": {},
     "output_type": "execute_result"
    }
   ],
   "source": [
    "EQ_data['depth']"
   ]
  },
  {
   "cell_type": "markdown",
   "metadata": {},
   "source": [
    "The `.values` function can be used to return the values of the `Series` as a `nparray`, so without the labled index values of the `Series`."
   ]
  },
  {
   "cell_type": "code",
   "execution_count": 14,
   "metadata": {
    "execution": {
     "iopub.execute_input": "2020-10-05T21:22:31.935094Z",
     "iopub.status.busy": "2020-10-05T21:22:31.934603Z",
     "iopub.status.idle": "2020-10-05T21:22:31.937089Z",
     "shell.execute_reply": "2020-10-05T21:22:31.937419Z"
    }
   },
   "outputs": [
    {
     "name": "stdout",
     "output_type": "stream",
     "text": [
      "<class 'pandas.core.series.Series'>\n"
     ]
    }
   ],
   "source": [
    "print(type(EQ_data['depth']))"
   ]
  },
  {
   "cell_type": "code",
   "execution_count": 15,
   "metadata": {
    "execution": {
     "iopub.execute_input": "2020-10-05T21:22:31.944557Z",
     "iopub.status.busy": "2020-10-05T21:22:31.944013Z",
     "iopub.status.idle": "2020-10-05T21:22:31.946732Z",
     "shell.execute_reply": "2020-10-05T21:22:31.947064Z"
    }
   },
   "outputs": [
    {
     "data": {
      "text/plain": [
       "array([5.1000e+01, 3.2090e+01, 1.0000e+01, 1.7405e+02, 1.0000e+01,\n",
       "       1.8000e+01, 1.0000e+01, 1.0000e+01, 5.5657e+02, 1.0000e+01,\n",
       "       3.5000e+01, 6.1860e+01, 4.1170e+01, 3.1524e+02, 1.3872e+02,\n",
       "       1.0000e+01, 1.3604e+02, 1.0000e+01, 1.0000e+01, 5.7700e+01,\n",
       "       1.0000e+01, 9.8250e+01, 1.3161e+02, 1.0000e+01, 1.0000e+01,\n",
       "       1.0000e+01, 1.3131e+02, 1.4900e+01, 1.0000e+01, 7.3140e+01,\n",
       "       1.0000e+01, 4.1180e+01, 8.7260e+01, 3.5000e+01, 1.0000e+01,\n",
       "       1.0000e+01, 1.0000e+01, 1.0000e+01, 1.0000e+01, 6.0190e+01,\n",
       "       1.3834e+02, 1.3670e+01, 4.1180e+01, 2.4900e+01, 1.0000e+01,\n",
       "       1.0370e+02, 1.0000e+01, 4.1160e+01, 4.6839e+02, 1.0000e+01,\n",
       "       1.1292e+02, 1.3864e+02, 1.0000e+01, 1.0000e+01, 9.1600e+00,\n",
       "       1.0000e+01, 1.0000e+01, 1.0000e+01, 6.7950e+01, 1.0000e+01,\n",
       "       1.0000e+01, 8.4110e+01, 1.0000e+01, 1.0000e+01, 1.0000e+01,\n",
       "       1.0000e+01, 1.0000e+01, 1.0000e+01, 1.0470e+01, 5.3357e+02,\n",
       "       1.0000e+01, 7.7610e+01, 1.0000e+01, 1.0000e+01, 1.0000e+01,\n",
       "       1.2395e+02, 1.0000e+01, 7.4540e+01, 3.5000e+01, 1.4690e+01,\n",
       "       1.4010e+01, 1.0000e+01, 4.3440e+01, 1.0000e+01, 1.0000e+01,\n",
       "       1.0000e+01, 1.0000e+01, 1.0000e+01, 2.1316e+02, 7.4360e+01,\n",
       "       1.0000e+01, 1.5478e+02, 1.6725e+02, 5.3140e+01, 3.5000e+01,\n",
       "       2.5090e+01, 1.0000e+01, 4.3800e+01, 1.0000e+01, 4.8605e+02,\n",
       "       4.4920e+01, 1.0401e+02, 2.4586e+02, 4.5090e+01, 4.7130e+01,\n",
       "       1.0000e+01, 7.4550e+01, 3.0870e+01, 3.5000e+01, 2.0400e+01,\n",
       "       1.0000e+01, 1.0000e+01, 4.3980e+01, 1.6290e+01, 2.9330e+01,\n",
       "       1.0000e+01, 1.0000e+01, 1.0000e+01, 1.0000e+01, 1.0000e+01,\n",
       "       2.5010e+01, 1.8181e+02, 1.0000e+01, 9.9330e+01, 1.0000e+01,\n",
       "       2.1120e+01, 1.0000e+01, 1.8800e+02, 9.0490e+01, 1.8589e+02,\n",
       "       1.0000e+01, 1.0000e+01, 1.1536e+02, 1.0000e+01, 3.7721e+02,\n",
       "       6.2410e+01, 7.8600e+01, 5.1430e+01, 4.6310e+01, 2.4226e+02,\n",
       "       4.7070e+01, 1.0000e+01, 8.8000e+00, 2.6320e+01, 1.0000e+01,\n",
       "       4.0000e+01, 3.5000e+01, 5.3160e+01, 9.4700e+00, 2.7230e+01,\n",
       "       1.0000e+01, 6.0520e+02, 1.5339e+02, 1.0000e+01, 1.0000e+01,\n",
       "       4.0940e+01, 1.0000e+01, 1.7864e+02, 1.0000e+01, 6.7050e+01,\n",
       "       1.0000e+01, 1.2725e+02, 1.3770e+01, 1.2202e+02, 1.0000e+01,\n",
       "       4.2770e+01, 1.0862e+02, 1.0000e+01, 1.2170e+02, 1.0000e+01,\n",
       "       7.1140e+01, 4.0090e+01, 3.7430e+01, 1.3680e+01, 6.4040e+01,\n",
       "       9.3300e+00, 5.2798e+02, 3.9300e+00, 1.0000e+01, 4.0810e+01,\n",
       "       4.7660e+01, 2.7372e+02, 1.0000e+01, 1.0000e+01, 1.0000e+01,\n",
       "       4.8460e+01, 1.0000e+01, 1.0000e+01, 5.0000e+00, 1.1986e+02,\n",
       "       5.3610e+01, 6.8540e+01, 2.1235e+02, 1.6893e+02, 1.7153e+02,\n",
       "       2.9090e+01, 4.8255e+02, 4.8990e+01, 1.0000e+01, 3.1160e+01,\n",
       "       3.6170e+01, 6.2320e+01, 1.0073e+02, 1.1844e+02, 1.7430e+01,\n",
       "       1.0000e+01, 6.3150e+01, 1.8810e+01, 1.5361e+02, 9.1010e+01,\n",
       "       4.8296e+02, 7.6560e+01, 8.1920e+01, 3.8190e+01, 1.0000e+01,\n",
       "       5.3945e+02, 5.0372e+02, 5.9451e+02, 5.5661e+02, 1.0000e+01,\n",
       "       5.4350e+01, 3.0500e+01, 1.0000e+01, 1.8704e+02, 1.0000e+01,\n",
       "       3.1700e+01, 1.9963e+02, 2.3203e+02, 1.1808e+02, 4.6990e+01,\n",
       "       1.0000e+01, 1.0000e+01, 8.0770e+01, 1.0000e+01, 3.8000e+01,\n",
       "       3.7000e+01, 6.0000e+01, 3.3000e+01, 3.8000e+01, 3.7000e+01,\n",
       "       7.0890e+01, 1.0000e+01, 1.0400e+01, 3.7000e+00, 3.2600e+01,\n",
       "       1.7520e+01, 2.0000e+01, 1.2900e+02, 4.5000e+01, 1.0100e+01,\n",
       "       3.5000e+01, 2.6500e+01, 1.8000e+00, 1.7280e+01, 2.6870e+01,\n",
       "       4.0000e+00, 5.0000e+00, 6.0000e+00, 1.3000e+01, 1.1000e+01,\n",
       "       1.1000e+01, 2.3400e+00, 2.4280e+01, 3.6400e+01, 1.2000e+01,\n",
       "       5.3000e+01, 1.3000e+01, 8.3100e+01, 1.3110e+01, 1.4648e+02,\n",
       "       1.2000e+01, 1.5880e+01, 1.3000e+01, 6.0000e+00, 1.1000e+01,\n",
       "       1.4000e+01, 1.5530e+01, 5.0000e+00, 5.0000e+00, 1.0000e+01,\n",
       "       3.5700e+01, 2.4840e+01, 3.2940e+01, 1.1000e+01, 6.0000e+00,\n",
       "       1.1000e+01, 1.3000e+01, 5.0000e+00, 1.0000e+01, 1.0000e+01,\n",
       "       1.0000e+01, 1.0000e+01, 1.4561e+02, 1.4429e+02, 9.0000e+00,\n",
       "       1.2000e+01, 6.8300e+00, 1.3000e+01, 8.0000e+00, 1.0000e+01,\n",
       "       1.3790e+01, 1.1000e+01, 1.2000e+01, 2.3490e+01, 8.0000e+00,\n",
       "       9.0000e+00, 1.0000e+01, 1.0000e+01, 1.3727e+02, 1.4000e+01,\n",
       "       3.6500e+01, 1.4700e+01, 7.6610e+01, 8.0000e+01, 8.8000e+00,\n",
       "       2.5080e+01, 1.0000e+01, 4.8000e+00, 1.0000e+01, 1.0000e+01,\n",
       "       1.1000e+01, 5.5900e+00, 1.1000e+01, 1.4000e+01, 1.8800e+00,\n",
       "       3.1000e+00, 6.9600e+01, 1.4100e+01, 1.0000e+01, 1.0000e+01,\n",
       "       1.7800e+01, 3.5200e+01, 5.4000e-01, 4.5300e+01, 1.4000e+00,\n",
       "       1.0000e+01, 1.5000e+01, 1.8000e+01, 6.3500e+00, 6.9700e+00,\n",
       "       1.0000e+01, 9.0000e+00, 1.8000e+01, 6.7800e+00, 1.5597e+02,\n",
       "       7.7000e+00, 2.6800e+01, 5.0000e+00, 9.1100e+01, 4.7000e+00,\n",
       "       2.4100e+00, 3.7000e+00, 3.5000e+01, 1.2050e+02, 2.5680e+01,\n",
       "       2.5570e+01, 3.2240e+01, 1.4000e+01, 3.7300e+00, 1.8900e+00,\n",
       "       4.4100e+00, 1.4000e+01, 1.1000e+01, 9.0000e+00, 1.3000e+01,\n",
       "       1.0000e+01, 2.1000e+01, 1.0000e+01, 6.9800e+00, 1.0000e+01,\n",
       "       1.1900e+00, 9.0000e+00, 1.2000e+01, 1.4000e+01, 7.5000e+00,\n",
       "       5.3310e+01, 4.6080e+01, 5.6910e+01, 3.0810e+01, 1.6000e+01,\n",
       "       1.2670e+01, 3.5000e+01, 5.3000e+00, 1.0000e+01, 3.9500e+01,\n",
       "       1.3100e+01, 1.1400e+01, 1.4250e+01, 9.1000e+01, 6.0000e+00,\n",
       "       9.9300e+00, 3.9500e+00, 1.1000e+01, 2.2000e+01, 6.7500e+00,\n",
       "       1.1000e+01, 6.0000e+00, 1.2000e+00, 1.1000e+01, 1.3000e+01,\n",
       "       1.2000e+01, 3.2310e+01, 6.0000e+00, 1.6000e+01, 3.2800e+01,\n",
       "       1.3000e+01, 1.2400e+01, 1.0000e+01, 1.1087e+02, 4.5600e+01,\n",
       "       7.6000e+00, 1.0080e+02, 1.9600e+01, 1.0210e+02, 3.6400e+01,\n",
       "       1.8700e+00, 2.5600e+01, 6.9000e+00, 2.1000e+01, 1.0300e+01,\n",
       "       9.4500e+01])"
      ]
     },
     "execution_count": 15,
     "metadata": {},
     "output_type": "execute_result"
    }
   ],
   "source": [
    "EQ_data['depth'].values"
   ]
  },
  {
   "cell_type": "code",
   "execution_count": 16,
   "metadata": {
    "execution": {
     "iopub.execute_input": "2020-10-05T21:22:31.950462Z",
     "iopub.status.busy": "2020-10-05T21:22:31.949942Z",
     "iopub.status.idle": "2020-10-05T21:22:31.952585Z",
     "shell.execute_reply": "2020-10-05T21:22:31.952947Z"
    }
   },
   "outputs": [
    {
     "data": {
      "text/plain": [
       "numpy.ndarray"
      ]
     },
     "execution_count": 16,
     "metadata": {},
     "output_type": "execute_result"
    }
   ],
   "source": [
    "type(EQ_data['depth'].values)"
   ]
  },
  {
   "cell_type": "markdown",
   "metadata": {},
   "source": [
    "## Indexing and Slicing\n",
    "\n",
    "Arrays and dataframes have two axes of indices, rows and columns. Remember that python indexing starts at zero, and the end bounds are generally exclusive.\n",
    "\n",
    "![indices](./figures/indices.png)\n",
    "> Source: Python for Data Analysis (2nd Edition) McKinney, W.\n",
    "\n",
    "<br>\n",
    "\n",
    "Using square brackes we can select subsections of tables to work with:\n",
    "\n",
    "![slicing](./figures/array_slicing.png)\n",
    "> Source: Python for Data Analysis (2nd Edition) McKinney, W."
   ]
  },
  {
   "cell_type": "code",
   "execution_count": 17,
   "metadata": {
    "execution": {
     "iopub.execute_input": "2020-10-05T21:22:31.956760Z",
     "iopub.status.busy": "2020-10-05T21:22:31.956254Z",
     "iopub.status.idle": "2020-10-05T21:22:31.959384Z",
     "shell.execute_reply": "2020-10-05T21:22:31.958945Z"
    }
   },
   "outputs": [
    {
     "data": {
      "text/plain": [
       "array([[ 0.09605226,  0.25417136,  0.43340318,  1.42651985,  2.48787137],\n",
       "       [-0.43472232,  1.15376876, -0.3050159 ,  1.27640977, -1.24474966],\n",
       "       [-0.27776326,  0.90278203,  0.13579767,  1.17787062, -0.54392391],\n",
       "       [ 0.86133002,  1.06057301,  1.92276389,  0.16072731,  0.53197979],\n",
       "       [-0.78815995,  1.87212373,  0.99579348, -1.90968352, -0.65583708],\n",
       "       [ 1.02744067,  0.04324766,  1.49374235,  1.91576969,  0.08232494],\n",
       "       [-1.3097444 ,  1.4499633 , -0.27065527, -0.10403068, -0.29193068],\n",
       "       [ 0.20899699, -0.24895566,  0.85990728,  1.10714857,  1.8246234 ],\n",
       "       [ 0.0049355 ,  1.14548161,  1.76695223,  0.23546711,  1.7680149 ],\n",
       "       [-0.98147301,  0.6429534 , -0.74718615,  1.64055797,  0.85168331]])"
      ]
     },
     "execution_count": 17,
     "metadata": {},
     "output_type": "execute_result"
    }
   ],
   "source": [
    "# generate a random array\n",
    "arr_data = np.random.randn(10,5)\n",
    "arr_data"
   ]
  },
  {
   "cell_type": "markdown",
   "metadata": {},
   "source": [
    "**slice out the first 3 rows of arr_data**"
   ]
  },
  {
   "cell_type": "code",
   "execution_count": 18,
   "metadata": {
    "execution": {
     "iopub.execute_input": "2020-10-05T21:22:31.962817Z",
     "iopub.status.busy": "2020-10-05T21:22:31.962302Z",
     "iopub.status.idle": "2020-10-05T21:22:31.965619Z",
     "shell.execute_reply": "2020-10-05T21:22:31.965120Z"
    }
   },
   "outputs": [
    {
     "data": {
      "text/plain": [
       "array([[ 0.09605226,  0.25417136,  0.43340318,  1.42651985,  2.48787137],\n",
       "       [-0.43472232,  1.15376876, -0.3050159 ,  1.27640977, -1.24474966],\n",
       "       [-0.27776326,  0.90278203,  0.13579767,  1.17787062, -0.54392391]])"
      ]
     },
     "execution_count": 18,
     "metadata": {},
     "output_type": "execute_result"
    }
   ],
   "source": [
    "a = arr_data[:3]\n",
    "a"
   ]
  },
  {
   "cell_type": "markdown",
   "metadata": {},
   "source": [
    "**slice out the last 2 columns of arr_data**"
   ]
  },
  {
   "cell_type": "code",
   "execution_count": 19,
   "metadata": {
    "execution": {
     "iopub.execute_input": "2020-10-05T21:22:31.969423Z",
     "iopub.status.busy": "2020-10-05T21:22:31.968975Z",
     "iopub.status.idle": "2020-10-05T21:22:31.972092Z",
     "shell.execute_reply": "2020-10-05T21:22:31.971607Z"
    }
   },
   "outputs": [
    {
     "data": {
      "text/plain": [
       "array([[ 1.42651985,  2.48787137],\n",
       "       [ 1.27640977, -1.24474966],\n",
       "       [ 1.17787062, -0.54392391],\n",
       "       [ 0.16072731,  0.53197979],\n",
       "       [-1.90968352, -0.65583708],\n",
       "       [ 1.91576969,  0.08232494],\n",
       "       [-0.10403068, -0.29193068],\n",
       "       [ 1.10714857,  1.8246234 ],\n",
       "       [ 0.23546711,  1.7680149 ],\n",
       "       [ 1.64055797,  0.85168331]])"
      ]
     },
     "execution_count": 19,
     "metadata": {},
     "output_type": "execute_result"
    }
   ],
   "source": [
    "b = arr_data[:,-2:]  \n",
    "b"
   ]
  },
  {
   "cell_type": "code",
   "execution_count": 20,
   "metadata": {
    "execution": {
     "iopub.execute_input": "2020-10-05T21:22:31.975910Z",
     "iopub.status.busy": "2020-10-05T21:22:31.975454Z",
     "iopub.status.idle": "2020-10-05T21:22:31.978534Z",
     "shell.execute_reply": "2020-10-05T21:22:31.978039Z"
    }
   },
   "outputs": [
    {
     "data": {
      "text/plain": [
       "array([[ 1.42651985,  2.48787137],\n",
       "       [ 1.27640977, -1.24474966],\n",
       "       [ 1.17787062, -0.54392391],\n",
       "       [ 0.16072731,  0.53197979],\n",
       "       [-1.90968352, -0.65583708],\n",
       "       [ 1.91576969,  0.08232494],\n",
       "       [-0.10403068, -0.29193068],\n",
       "       [ 1.10714857,  1.8246234 ],\n",
       "       [ 0.23546711,  1.7680149 ],\n",
       "       [ 1.64055797,  0.85168331]])"
      ]
     },
     "execution_count": 20,
     "metadata": {},
     "output_type": "execute_result"
    }
   ],
   "source": [
    "#Or this works too\n",
    "b = arr_data[:,3:] \n",
    "b"
   ]
  },
  {
   "cell_type": "markdown",
   "metadata": {},
   "source": [
    "Slicing a `DataFrame` is a bit different because you can reference the index labels and use `.iloc`.\n",
    "\n",
    "**slice out the first 10 rows of EQ_data**"
   ]
  },
  {
   "cell_type": "code",
   "execution_count": 21,
   "metadata": {
    "execution": {
     "iopub.execute_input": "2020-10-05T21:22:32.001519Z",
     "iopub.status.busy": "2020-10-05T21:22:32.001045Z",
     "iopub.status.idle": "2020-10-05T21:22:32.004498Z",
     "shell.execute_reply": "2020-10-05T21:22:32.004014Z"
    }
   },
   "outputs": [
    {
     "data": {
      "text/html": [
       "<div>\n",
       "<style scoped>\n",
       "    .dataframe tbody tr th:only-of-type {\n",
       "        vertical-align: middle;\n",
       "    }\n",
       "\n",
       "    .dataframe tbody tr th {\n",
       "        vertical-align: top;\n",
       "    }\n",
       "\n",
       "    .dataframe thead th {\n",
       "        text-align: right;\n",
       "    }\n",
       "</style>\n",
       "<table border=\"1\" class=\"dataframe\">\n",
       "  <thead>\n",
       "    <tr style=\"text-align: right;\">\n",
       "      <th></th>\n",
       "      <th>time</th>\n",
       "      <th>latitude</th>\n",
       "      <th>longitude</th>\n",
       "      <th>depth</th>\n",
       "      <th>mag</th>\n",
       "      <th>magType</th>\n",
       "      <th>nst</th>\n",
       "      <th>gap</th>\n",
       "      <th>dmin</th>\n",
       "      <th>rms</th>\n",
       "      <th>...</th>\n",
       "      <th>updated</th>\n",
       "      <th>place</th>\n",
       "      <th>type</th>\n",
       "      <th>horizontalError</th>\n",
       "      <th>depthError</th>\n",
       "      <th>magError</th>\n",
       "      <th>magNst</th>\n",
       "      <th>status</th>\n",
       "      <th>locationSource</th>\n",
       "      <th>magSource</th>\n",
       "    </tr>\n",
       "  </thead>\n",
       "  <tbody>\n",
       "    <tr>\n",
       "      <th>0</th>\n",
       "      <td>2020-09-11T07:35:57.195Z</td>\n",
       "      <td>-21.3957</td>\n",
       "      <td>-69.9093</td>\n",
       "      <td>51.00</td>\n",
       "      <td>6.2</td>\n",
       "      <td>mww</td>\n",
       "      <td>NaN</td>\n",
       "      <td>72.0</td>\n",
       "      <td>0.076</td>\n",
       "      <td>0.87</td>\n",
       "      <td>...</td>\n",
       "      <td>2020-09-25T10:13:28.654Z</td>\n",
       "      <td>82 km NNE of Tocopilla, Chile</td>\n",
       "      <td>earthquake</td>\n",
       "      <td>6.3</td>\n",
       "      <td>1.9</td>\n",
       "      <td>0.071</td>\n",
       "      <td>19.0</td>\n",
       "      <td>reviewed</td>\n",
       "      <td>us</td>\n",
       "      <td>us</td>\n",
       "    </tr>\n",
       "    <tr>\n",
       "      <th>1</th>\n",
       "      <td>2020-09-12T02:44:10.969Z</td>\n",
       "      <td>38.7591</td>\n",
       "      <td>142.2473</td>\n",
       "      <td>32.09</td>\n",
       "      <td>6.1</td>\n",
       "      <td>mww</td>\n",
       "      <td>NaN</td>\n",
       "      <td>47.0</td>\n",
       "      <td>2.223</td>\n",
       "      <td>0.95</td>\n",
       "      <td>...</td>\n",
       "      <td>2020-09-14T03:01:02.354Z</td>\n",
       "      <td>57 km SE of Ōfunato, Japan</td>\n",
       "      <td>earthquake</td>\n",
       "      <td>7.3</td>\n",
       "      <td>3.5</td>\n",
       "      <td>0.057</td>\n",
       "      <td>30.0</td>\n",
       "      <td>reviewed</td>\n",
       "      <td>us</td>\n",
       "      <td>us</td>\n",
       "    </tr>\n",
       "    <tr>\n",
       "      <th>2</th>\n",
       "      <td>2020-09-07T06:12:39.710Z</td>\n",
       "      <td>-17.1086</td>\n",
       "      <td>168.4935</td>\n",
       "      <td>10.00</td>\n",
       "      <td>6.0</td>\n",
       "      <td>mww</td>\n",
       "      <td>NaN</td>\n",
       "      <td>41.0</td>\n",
       "      <td>2.065</td>\n",
       "      <td>1.13</td>\n",
       "      <td>...</td>\n",
       "      <td>2020-10-04T13:09:52.650Z</td>\n",
       "      <td>72 km NNE of Port-Vila, Vanuatu</td>\n",
       "      <td>earthquake</td>\n",
       "      <td>6.9</td>\n",
       "      <td>1.8</td>\n",
       "      <td>0.098</td>\n",
       "      <td>10.0</td>\n",
       "      <td>reviewed</td>\n",
       "      <td>us</td>\n",
       "      <td>us</td>\n",
       "    </tr>\n",
       "    <tr>\n",
       "      <th>3</th>\n",
       "      <td>2020-09-08T00:45:20.952Z</td>\n",
       "      <td>-4.9124</td>\n",
       "      <td>129.7627</td>\n",
       "      <td>174.05</td>\n",
       "      <td>5.9</td>\n",
       "      <td>mww</td>\n",
       "      <td>NaN</td>\n",
       "      <td>12.0</td>\n",
       "      <td>3.173</td>\n",
       "      <td>0.78</td>\n",
       "      <td>...</td>\n",
       "      <td>2020-09-09T00:49:01.271Z</td>\n",
       "      <td>197 km SSE of Amahai, Indonesia</td>\n",
       "      <td>earthquake</td>\n",
       "      <td>6.4</td>\n",
       "      <td>3.6</td>\n",
       "      <td>0.086</td>\n",
       "      <td>13.0</td>\n",
       "      <td>reviewed</td>\n",
       "      <td>us</td>\n",
       "      <td>us</td>\n",
       "    </tr>\n",
       "    <tr>\n",
       "      <th>4</th>\n",
       "      <td>2020-09-12T08:34:27.322Z</td>\n",
       "      <td>-17.2576</td>\n",
       "      <td>167.6786</td>\n",
       "      <td>10.00</td>\n",
       "      <td>5.9</td>\n",
       "      <td>mww</td>\n",
       "      <td>NaN</td>\n",
       "      <td>64.0</td>\n",
       "      <td>1.857</td>\n",
       "      <td>0.70</td>\n",
       "      <td>...</td>\n",
       "      <td>2020-09-25T12:11:10.835Z</td>\n",
       "      <td>Vanuatu</td>\n",
       "      <td>earthquake</td>\n",
       "      <td>6.0</td>\n",
       "      <td>1.9</td>\n",
       "      <td>0.043</td>\n",
       "      <td>51.0</td>\n",
       "      <td>reviewed</td>\n",
       "      <td>us</td>\n",
       "      <td>us</td>\n",
       "    </tr>\n",
       "    <tr>\n",
       "      <th>5</th>\n",
       "      <td>2020-09-09T07:18:40.873Z</td>\n",
       "      <td>4.2064</td>\n",
       "      <td>126.6394</td>\n",
       "      <td>18.00</td>\n",
       "      <td>5.8</td>\n",
       "      <td>mww</td>\n",
       "      <td>NaN</td>\n",
       "      <td>32.0</td>\n",
       "      <td>3.033</td>\n",
       "      <td>1.61</td>\n",
       "      <td>...</td>\n",
       "      <td>2020-09-11T18:42:17.040Z</td>\n",
       "      <td>185 km SE of Sarangani, Philippines</td>\n",
       "      <td>earthquake</td>\n",
       "      <td>4.1</td>\n",
       "      <td>3.1</td>\n",
       "      <td>0.053</td>\n",
       "      <td>34.0</td>\n",
       "      <td>reviewed</td>\n",
       "      <td>us</td>\n",
       "      <td>us</td>\n",
       "    </tr>\n",
       "    <tr>\n",
       "      <th>6</th>\n",
       "      <td>2020-09-07T06:29:14.938Z</td>\n",
       "      <td>-17.1622</td>\n",
       "      <td>168.5076</td>\n",
       "      <td>10.00</td>\n",
       "      <td>5.7</td>\n",
       "      <td>mww</td>\n",
       "      <td>NaN</td>\n",
       "      <td>41.0</td>\n",
       "      <td>2.116</td>\n",
       "      <td>0.83</td>\n",
       "      <td>...</td>\n",
       "      <td>2020-10-04T09:05:11.136Z</td>\n",
       "      <td>66 km NNE of Port-Vila, Vanuatu</td>\n",
       "      <td>earthquake</td>\n",
       "      <td>7.0</td>\n",
       "      <td>1.8</td>\n",
       "      <td>0.050</td>\n",
       "      <td>38.0</td>\n",
       "      <td>reviewed</td>\n",
       "      <td>us</td>\n",
       "      <td>us</td>\n",
       "    </tr>\n",
       "    <tr>\n",
       "      <th>7</th>\n",
       "      <td>2020-09-07T17:40:44.171Z</td>\n",
       "      <td>-24.5120</td>\n",
       "      <td>-111.9898</td>\n",
       "      <td>10.00</td>\n",
       "      <td>5.6</td>\n",
       "      <td>mww</td>\n",
       "      <td>NaN</td>\n",
       "      <td>34.0</td>\n",
       "      <td>3.500</td>\n",
       "      <td>1.10</td>\n",
       "      <td>...</td>\n",
       "      <td>2020-09-11T16:20:37.144Z</td>\n",
       "      <td>Easter Island region</td>\n",
       "      <td>earthquake</td>\n",
       "      <td>10.2</td>\n",
       "      <td>1.8</td>\n",
       "      <td>0.066</td>\n",
       "      <td>22.0</td>\n",
       "      <td>reviewed</td>\n",
       "      <td>us</td>\n",
       "      <td>us</td>\n",
       "    </tr>\n",
       "    <tr>\n",
       "      <th>8</th>\n",
       "      <td>2020-09-12T02:37:29.712Z</td>\n",
       "      <td>-17.8809</td>\n",
       "      <td>-178.0547</td>\n",
       "      <td>556.57</td>\n",
       "      <td>5.6</td>\n",
       "      <td>mww</td>\n",
       "      <td>NaN</td>\n",
       "      <td>36.0</td>\n",
       "      <td>3.553</td>\n",
       "      <td>1.10</td>\n",
       "      <td>...</td>\n",
       "      <td>2020-09-13T02:41:07.273Z</td>\n",
       "      <td>279 km E of Levuka, Fiji</td>\n",
       "      <td>earthquake</td>\n",
       "      <td>8.9</td>\n",
       "      <td>6.4</td>\n",
       "      <td>0.089</td>\n",
       "      <td>12.0</td>\n",
       "      <td>reviewed</td>\n",
       "      <td>us</td>\n",
       "      <td>us</td>\n",
       "    </tr>\n",
       "    <tr>\n",
       "      <th>9</th>\n",
       "      <td>2020-09-08T08:28:51.109Z</td>\n",
       "      <td>-15.1768</td>\n",
       "      <td>-172.9244</td>\n",
       "      <td>10.00</td>\n",
       "      <td>5.4</td>\n",
       "      <td>mww</td>\n",
       "      <td>NaN</td>\n",
       "      <td>122.0</td>\n",
       "      <td>1.676</td>\n",
       "      <td>1.67</td>\n",
       "      <td>...</td>\n",
       "      <td>2020-09-09T08:32:27.606Z</td>\n",
       "      <td>127 km NE of Hihifo, Tonga</td>\n",
       "      <td>earthquake</td>\n",
       "      <td>9.9</td>\n",
       "      <td>2.0</td>\n",
       "      <td>0.098</td>\n",
       "      <td>10.0</td>\n",
       "      <td>reviewed</td>\n",
       "      <td>us</td>\n",
       "      <td>us</td>\n",
       "    </tr>\n",
       "  </tbody>\n",
       "</table>\n",
       "<p>10 rows × 22 columns</p>\n",
       "</div>"
      ],
      "text/plain": [
       "                       time  latitude  longitude   depth  mag magType  nst  \\\n",
       "0  2020-09-11T07:35:57.195Z  -21.3957   -69.9093   51.00  6.2     mww  NaN   \n",
       "1  2020-09-12T02:44:10.969Z   38.7591   142.2473   32.09  6.1     mww  NaN   \n",
       "2  2020-09-07T06:12:39.710Z  -17.1086   168.4935   10.00  6.0     mww  NaN   \n",
       "3  2020-09-08T00:45:20.952Z   -4.9124   129.7627  174.05  5.9     mww  NaN   \n",
       "4  2020-09-12T08:34:27.322Z  -17.2576   167.6786   10.00  5.9     mww  NaN   \n",
       "5  2020-09-09T07:18:40.873Z    4.2064   126.6394   18.00  5.8     mww  NaN   \n",
       "6  2020-09-07T06:29:14.938Z  -17.1622   168.5076   10.00  5.7     mww  NaN   \n",
       "7  2020-09-07T17:40:44.171Z  -24.5120  -111.9898   10.00  5.6     mww  NaN   \n",
       "8  2020-09-12T02:37:29.712Z  -17.8809  -178.0547  556.57  5.6     mww  NaN   \n",
       "9  2020-09-08T08:28:51.109Z  -15.1768  -172.9244   10.00  5.4     mww  NaN   \n",
       "\n",
       "     gap   dmin   rms  ...                   updated  \\\n",
       "0   72.0  0.076  0.87  ...  2020-09-25T10:13:28.654Z   \n",
       "1   47.0  2.223  0.95  ...  2020-09-14T03:01:02.354Z   \n",
       "2   41.0  2.065  1.13  ...  2020-10-04T13:09:52.650Z   \n",
       "3   12.0  3.173  0.78  ...  2020-09-09T00:49:01.271Z   \n",
       "4   64.0  1.857  0.70  ...  2020-09-25T12:11:10.835Z   \n",
       "5   32.0  3.033  1.61  ...  2020-09-11T18:42:17.040Z   \n",
       "6   41.0  2.116  0.83  ...  2020-10-04T09:05:11.136Z   \n",
       "7   34.0  3.500  1.10  ...  2020-09-11T16:20:37.144Z   \n",
       "8   36.0  3.553  1.10  ...  2020-09-13T02:41:07.273Z   \n",
       "9  122.0  1.676  1.67  ...  2020-09-09T08:32:27.606Z   \n",
       "\n",
       "                                 place        type horizontalError depthError  \\\n",
       "0        82 km NNE of Tocopilla, Chile  earthquake             6.3        1.9   \n",
       "1           57 km SE of Ōfunato, Japan  earthquake             7.3        3.5   \n",
       "2      72 km NNE of Port-Vila, Vanuatu  earthquake             6.9        1.8   \n",
       "3      197 km SSE of Amahai, Indonesia  earthquake             6.4        3.6   \n",
       "4                              Vanuatu  earthquake             6.0        1.9   \n",
       "5  185 km SE of Sarangani, Philippines  earthquake             4.1        3.1   \n",
       "6      66 km NNE of Port-Vila, Vanuatu  earthquake             7.0        1.8   \n",
       "7                 Easter Island region  earthquake            10.2        1.8   \n",
       "8             279 km E of Levuka, Fiji  earthquake             8.9        6.4   \n",
       "9           127 km NE of Hihifo, Tonga  earthquake             9.9        2.0   \n",
       "\n",
       "   magError  magNst    status  locationSource magSource  \n",
       "0     0.071    19.0  reviewed              us        us  \n",
       "1     0.057    30.0  reviewed              us        us  \n",
       "2     0.098    10.0  reviewed              us        us  \n",
       "3     0.086    13.0  reviewed              us        us  \n",
       "4     0.043    51.0  reviewed              us        us  \n",
       "5     0.053    34.0  reviewed              us        us  \n",
       "6     0.050    38.0  reviewed              us        us  \n",
       "7     0.066    22.0  reviewed              us        us  \n",
       "8     0.089    12.0  reviewed              us        us  \n",
       "9     0.098    10.0  reviewed              us        us  \n",
       "\n",
       "[10 rows x 22 columns]"
      ]
     },
     "execution_count": 21,
     "metadata": {},
     "output_type": "execute_result"
    }
   ],
   "source": [
    "EQ_data.iloc[:10]"
   ]
  },
  {
   "cell_type": "markdown",
   "metadata": {},
   "source": [
    "**slice out the a chunk of depths starting at index 5 and up to (but excluding) index 10**"
   ]
  },
  {
   "cell_type": "code",
   "execution_count": 22,
   "metadata": {
    "execution": {
     "iopub.execute_input": "2020-10-05T21:22:32.008972Z",
     "iopub.status.busy": "2020-10-05T21:22:32.008457Z",
     "iopub.status.idle": "2020-10-05T21:22:32.011353Z",
     "shell.execute_reply": "2020-10-05T21:22:32.011671Z"
    }
   },
   "outputs": [
    {
     "data": {
      "text/plain": [
       "5     18.00\n",
       "6     10.00\n",
       "7     10.00\n",
       "8    556.57\n",
       "9     10.00\n",
       "Name: depth, dtype: float64"
      ]
     },
     "execution_count": 22,
     "metadata": {},
     "output_type": "execute_result"
    }
   ],
   "source": [
    "EQ_data.iloc[5:10]['depth']"
   ]
  },
  {
   "cell_type": "markdown",
   "metadata": {},
   "source": [
    "Notice that this is still a `Series` with corresponding index values. If you just want the values from that chunk and not the index labels use `.values`."
   ]
  },
  {
   "cell_type": "code",
   "execution_count": 23,
   "metadata": {
    "execution": {
     "iopub.execute_input": "2020-10-05T21:22:32.015567Z",
     "iopub.status.busy": "2020-10-05T21:22:32.015004Z",
     "iopub.status.idle": "2020-10-05T21:22:32.018122Z",
     "shell.execute_reply": "2020-10-05T21:22:32.018598Z"
    }
   },
   "outputs": [
    {
     "data": {
      "text/plain": [
       "array([ 18.  ,  10.  ,  10.  , 556.57,  10.  ])"
      ]
     },
     "execution_count": 23,
     "metadata": {},
     "output_type": "execute_result"
    }
   ],
   "source": [
    "EQ_data.iloc[5:10]['depth'].values"
   ]
  },
  {
   "cell_type": "markdown",
   "metadata": {},
   "source": [
    "## Boolean Indexing\n",
    "\n",
    "We can use Boolean (i.e. logical) indexing to select values from our DataFrame where the argument we want is `True`. You'll use the logical symbols (`<`,`>`,`==`,`&`,`|`,`~`)."
   ]
  },
  {
   "cell_type": "markdown",
   "metadata": {},
   "source": [
    "**Use Boolean Indexing to filter out data so that we are only looking at rows with magnitudes larger than or equal to 6.0**"
   ]
  },
  {
   "cell_type": "code",
   "execution_count": 24,
   "metadata": {
    "execution": {
     "iopub.execute_input": "2020-10-05T21:22:32.037636Z",
     "iopub.status.busy": "2020-10-05T21:22:32.037165Z",
     "iopub.status.idle": "2020-10-05T21:22:32.040647Z",
     "shell.execute_reply": "2020-10-05T21:22:32.040141Z"
    }
   },
   "outputs": [
    {
     "data": {
      "text/html": [
       "<div>\n",
       "<style scoped>\n",
       "    .dataframe tbody tr th:only-of-type {\n",
       "        vertical-align: middle;\n",
       "    }\n",
       "\n",
       "    .dataframe tbody tr th {\n",
       "        vertical-align: top;\n",
       "    }\n",
       "\n",
       "    .dataframe thead th {\n",
       "        text-align: right;\n",
       "    }\n",
       "</style>\n",
       "<table border=\"1\" class=\"dataframe\">\n",
       "  <thead>\n",
       "    <tr style=\"text-align: right;\">\n",
       "      <th></th>\n",
       "      <th>time</th>\n",
       "      <th>latitude</th>\n",
       "      <th>longitude</th>\n",
       "      <th>depth</th>\n",
       "      <th>mag</th>\n",
       "      <th>magType</th>\n",
       "      <th>nst</th>\n",
       "      <th>gap</th>\n",
       "      <th>dmin</th>\n",
       "      <th>rms</th>\n",
       "      <th>...</th>\n",
       "      <th>updated</th>\n",
       "      <th>place</th>\n",
       "      <th>type</th>\n",
       "      <th>horizontalError</th>\n",
       "      <th>depthError</th>\n",
       "      <th>magError</th>\n",
       "      <th>magNst</th>\n",
       "      <th>status</th>\n",
       "      <th>locationSource</th>\n",
       "      <th>magSource</th>\n",
       "    </tr>\n",
       "  </thead>\n",
       "  <tbody>\n",
       "    <tr>\n",
       "      <th>0</th>\n",
       "      <td>2020-09-11T07:35:57.195Z</td>\n",
       "      <td>-21.3957</td>\n",
       "      <td>-69.9093</td>\n",
       "      <td>51.00</td>\n",
       "      <td>6.2</td>\n",
       "      <td>mww</td>\n",
       "      <td>NaN</td>\n",
       "      <td>72.0</td>\n",
       "      <td>0.076</td>\n",
       "      <td>0.87</td>\n",
       "      <td>...</td>\n",
       "      <td>2020-09-25T10:13:28.654Z</td>\n",
       "      <td>82 km NNE of Tocopilla, Chile</td>\n",
       "      <td>earthquake</td>\n",
       "      <td>6.3</td>\n",
       "      <td>1.9</td>\n",
       "      <td>0.071</td>\n",
       "      <td>19.0</td>\n",
       "      <td>reviewed</td>\n",
       "      <td>us</td>\n",
       "      <td>us</td>\n",
       "    </tr>\n",
       "    <tr>\n",
       "      <th>1</th>\n",
       "      <td>2020-09-12T02:44:10.969Z</td>\n",
       "      <td>38.7591</td>\n",
       "      <td>142.2473</td>\n",
       "      <td>32.09</td>\n",
       "      <td>6.1</td>\n",
       "      <td>mww</td>\n",
       "      <td>NaN</td>\n",
       "      <td>47.0</td>\n",
       "      <td>2.223</td>\n",
       "      <td>0.95</td>\n",
       "      <td>...</td>\n",
       "      <td>2020-09-14T03:01:02.354Z</td>\n",
       "      <td>57 km SE of Ōfunato, Japan</td>\n",
       "      <td>earthquake</td>\n",
       "      <td>7.3</td>\n",
       "      <td>3.5</td>\n",
       "      <td>0.057</td>\n",
       "      <td>30.0</td>\n",
       "      <td>reviewed</td>\n",
       "      <td>us</td>\n",
       "      <td>us</td>\n",
       "    </tr>\n",
       "    <tr>\n",
       "      <th>2</th>\n",
       "      <td>2020-09-07T06:12:39.710Z</td>\n",
       "      <td>-17.1086</td>\n",
       "      <td>168.4935</td>\n",
       "      <td>10.00</td>\n",
       "      <td>6.0</td>\n",
       "      <td>mww</td>\n",
       "      <td>NaN</td>\n",
       "      <td>41.0</td>\n",
       "      <td>2.065</td>\n",
       "      <td>1.13</td>\n",
       "      <td>...</td>\n",
       "      <td>2020-10-04T13:09:52.650Z</td>\n",
       "      <td>72 km NNE of Port-Vila, Vanuatu</td>\n",
       "      <td>earthquake</td>\n",
       "      <td>6.9</td>\n",
       "      <td>1.8</td>\n",
       "      <td>0.098</td>\n",
       "      <td>10.0</td>\n",
       "      <td>reviewed</td>\n",
       "      <td>us</td>\n",
       "      <td>us</td>\n",
       "    </tr>\n",
       "  </tbody>\n",
       "</table>\n",
       "<p>3 rows × 22 columns</p>\n",
       "</div>"
      ],
      "text/plain": [
       "                       time  latitude  longitude  depth  mag magType  nst  \\\n",
       "0  2020-09-11T07:35:57.195Z  -21.3957   -69.9093  51.00  6.2     mww  NaN   \n",
       "1  2020-09-12T02:44:10.969Z   38.7591   142.2473  32.09  6.1     mww  NaN   \n",
       "2  2020-09-07T06:12:39.710Z  -17.1086   168.4935  10.00  6.0     mww  NaN   \n",
       "\n",
       "    gap   dmin   rms  ...                   updated  \\\n",
       "0  72.0  0.076  0.87  ...  2020-09-25T10:13:28.654Z   \n",
       "1  47.0  2.223  0.95  ...  2020-09-14T03:01:02.354Z   \n",
       "2  41.0  2.065  1.13  ...  2020-10-04T13:09:52.650Z   \n",
       "\n",
       "                             place        type horizontalError depthError  \\\n",
       "0    82 km NNE of Tocopilla, Chile  earthquake             6.3        1.9   \n",
       "1       57 km SE of Ōfunato, Japan  earthquake             7.3        3.5   \n",
       "2  72 km NNE of Port-Vila, Vanuatu  earthquake             6.9        1.8   \n",
       "\n",
       "   magError  magNst    status  locationSource magSource  \n",
       "0     0.071    19.0  reviewed              us        us  \n",
       "1     0.057    30.0  reviewed              us        us  \n",
       "2     0.098    10.0  reviewed              us        us  \n",
       "\n",
       "[3 rows x 22 columns]"
      ]
     },
     "execution_count": 24,
     "metadata": {},
     "output_type": "execute_result"
    }
   ],
   "source": [
    "EQ_data[EQ_data['mag']>=6.0]"
   ]
  },
  {
   "cell_type": "markdown",
   "metadata": {},
   "source": [
    "## Sorting\n",
    "\n",
    "DataFrames can be sorted by the values in a given column (`.sort_values`)."
   ]
  },
  {
   "cell_type": "code",
   "execution_count": 25,
   "metadata": {
    "execution": {
     "iopub.execute_input": "2020-10-05T21:22:32.062333Z",
     "iopub.status.busy": "2020-10-05T21:22:32.061846Z",
     "iopub.status.idle": "2020-10-05T21:22:32.065205Z",
     "shell.execute_reply": "2020-10-05T21:22:32.064715Z"
    }
   },
   "outputs": [
    {
     "data": {
      "text/html": [
       "<div>\n",
       "<style scoped>\n",
       "    .dataframe tbody tr th:only-of-type {\n",
       "        vertical-align: middle;\n",
       "    }\n",
       "\n",
       "    .dataframe tbody tr th {\n",
       "        vertical-align: top;\n",
       "    }\n",
       "\n",
       "    .dataframe thead th {\n",
       "        text-align: right;\n",
       "    }\n",
       "</style>\n",
       "<table border=\"1\" class=\"dataframe\">\n",
       "  <thead>\n",
       "    <tr style=\"text-align: right;\">\n",
       "      <th></th>\n",
       "      <th>time</th>\n",
       "      <th>latitude</th>\n",
       "      <th>longitude</th>\n",
       "      <th>depth</th>\n",
       "      <th>mag</th>\n",
       "      <th>magType</th>\n",
       "      <th>nst</th>\n",
       "      <th>gap</th>\n",
       "      <th>dmin</th>\n",
       "      <th>rms</th>\n",
       "      <th>...</th>\n",
       "      <th>updated</th>\n",
       "      <th>place</th>\n",
       "      <th>type</th>\n",
       "      <th>horizontalError</th>\n",
       "      <th>depthError</th>\n",
       "      <th>magError</th>\n",
       "      <th>magNst</th>\n",
       "      <th>status</th>\n",
       "      <th>locationSource</th>\n",
       "      <th>magSource</th>\n",
       "    </tr>\n",
       "  </thead>\n",
       "  <tbody>\n",
       "    <tr>\n",
       "      <th>332</th>\n",
       "      <td>2020-09-10T12:09:31.800Z</td>\n",
       "      <td>44.322333</td>\n",
       "      <td>-110.520833</td>\n",
       "      <td>0.54</td>\n",
       "      <td>2.80</td>\n",
       "      <td>md</td>\n",
       "      <td>10.0</td>\n",
       "      <td>118.00</td>\n",
       "      <td>0.05854</td>\n",
       "      <td>0.2700</td>\n",
       "      <td>...</td>\n",
       "      <td>2020-09-10T20:52:41.360Z</td>\n",
       "      <td>59 km SE of West Yellowstone, Montana</td>\n",
       "      <td>earthquake</td>\n",
       "      <td>0.82</td>\n",
       "      <td>0.40</td>\n",
       "      <td>0.200</td>\n",
       "      <td>4.0</td>\n",
       "      <td>reviewed</td>\n",
       "      <td>uu</td>\n",
       "      <td>uu</td>\n",
       "    </tr>\n",
       "    <tr>\n",
       "      <th>370</th>\n",
       "      <td>2020-09-10T18:33:51.740Z</td>\n",
       "      <td>44.333333</td>\n",
       "      <td>-110.505500</td>\n",
       "      <td>1.19</td>\n",
       "      <td>2.62</td>\n",
       "      <td>ml</td>\n",
       "      <td>17.0</td>\n",
       "      <td>125.00</td>\n",
       "      <td>0.07115</td>\n",
       "      <td>0.1800</td>\n",
       "      <td>...</td>\n",
       "      <td>2020-09-10T19:12:59.040Z</td>\n",
       "      <td>60 km SE of West Yellowstone, Montana</td>\n",
       "      <td>earthquake</td>\n",
       "      <td>0.57</td>\n",
       "      <td>0.50</td>\n",
       "      <td>0.264</td>\n",
       "      <td>8.0</td>\n",
       "      <td>reviewed</td>\n",
       "      <td>uu</td>\n",
       "      <td>uu</td>\n",
       "    </tr>\n",
       "    <tr>\n",
       "      <th>397</th>\n",
       "      <td>2020-09-10T11:40:22.540Z</td>\n",
       "      <td>44.320333</td>\n",
       "      <td>-110.497000</td>\n",
       "      <td>1.20</td>\n",
       "      <td>2.56</td>\n",
       "      <td>ml</td>\n",
       "      <td>19.0</td>\n",
       "      <td>134.00</td>\n",
       "      <td>0.06052</td>\n",
       "      <td>0.2100</td>\n",
       "      <td>...</td>\n",
       "      <td>2020-09-10T17:43:55.390Z</td>\n",
       "      <td>61 km SE of West Yellowstone, Montana</td>\n",
       "      <td>earthquake</td>\n",
       "      <td>0.83</td>\n",
       "      <td>0.73</td>\n",
       "      <td>0.321</td>\n",
       "      <td>8.0</td>\n",
       "      <td>reviewed</td>\n",
       "      <td>uu</td>\n",
       "      <td>uu</td>\n",
       "    </tr>\n",
       "    <tr>\n",
       "      <th>334</th>\n",
       "      <td>2020-09-11T05:16:42.570Z</td>\n",
       "      <td>54.319300</td>\n",
       "      <td>-160.875200</td>\n",
       "      <td>1.40</td>\n",
       "      <td>2.80</td>\n",
       "      <td>ml</td>\n",
       "      <td>NaN</td>\n",
       "      <td>209.00</td>\n",
       "      <td>0.90700</td>\n",
       "      <td>0.6000</td>\n",
       "      <td>...</td>\n",
       "      <td>2020-09-25T07:35:41.040Z</td>\n",
       "      <td>115 km SSW of Sand Point, Alaska</td>\n",
       "      <td>earthquake</td>\n",
       "      <td>4.70</td>\n",
       "      <td>9.70</td>\n",
       "      <td>0.085</td>\n",
       "      <td>18.0</td>\n",
       "      <td>reviewed</td>\n",
       "      <td>us</td>\n",
       "      <td>us</td>\n",
       "    </tr>\n",
       "    <tr>\n",
       "      <th>252</th>\n",
       "      <td>2020-09-08T12:35:17.384Z</td>\n",
       "      <td>38.149700</td>\n",
       "      <td>-118.038300</td>\n",
       "      <td>1.80</td>\n",
       "      <td>3.50</td>\n",
       "      <td>ml</td>\n",
       "      <td>33.0</td>\n",
       "      <td>42.76</td>\n",
       "      <td>0.01500</td>\n",
       "      <td>0.1369</td>\n",
       "      <td>...</td>\n",
       "      <td>2020-10-05T10:45:37.040Z</td>\n",
       "      <td>27 km SSE of Mina, Nevada</td>\n",
       "      <td>earthquake</td>\n",
       "      <td>NaN</td>\n",
       "      <td>0.40</td>\n",
       "      <td>0.360</td>\n",
       "      <td>18.0</td>\n",
       "      <td>reviewed</td>\n",
       "      <td>nn</td>\n",
       "      <td>nn</td>\n",
       "    </tr>\n",
       "  </tbody>\n",
       "</table>\n",
       "<p>5 rows × 22 columns</p>\n",
       "</div>"
      ],
      "text/plain": [
       "                         time   latitude   longitude  depth   mag magType  \\\n",
       "332  2020-09-10T12:09:31.800Z  44.322333 -110.520833   0.54  2.80      md   \n",
       "370  2020-09-10T18:33:51.740Z  44.333333 -110.505500   1.19  2.62      ml   \n",
       "397  2020-09-10T11:40:22.540Z  44.320333 -110.497000   1.20  2.56      ml   \n",
       "334  2020-09-11T05:16:42.570Z  54.319300 -160.875200   1.40  2.80      ml   \n",
       "252  2020-09-08T12:35:17.384Z  38.149700 -118.038300   1.80  3.50      ml   \n",
       "\n",
       "      nst     gap     dmin     rms  ...                   updated  \\\n",
       "332  10.0  118.00  0.05854  0.2700  ...  2020-09-10T20:52:41.360Z   \n",
       "370  17.0  125.00  0.07115  0.1800  ...  2020-09-10T19:12:59.040Z   \n",
       "397  19.0  134.00  0.06052  0.2100  ...  2020-09-10T17:43:55.390Z   \n",
       "334   NaN  209.00  0.90700  0.6000  ...  2020-09-25T07:35:41.040Z   \n",
       "252  33.0   42.76  0.01500  0.1369  ...  2020-10-05T10:45:37.040Z   \n",
       "\n",
       "                                     place        type horizontalError  \\\n",
       "332  59 km SE of West Yellowstone, Montana  earthquake            0.82   \n",
       "370  60 km SE of West Yellowstone, Montana  earthquake            0.57   \n",
       "397  61 km SE of West Yellowstone, Montana  earthquake            0.83   \n",
       "334       115 km SSW of Sand Point, Alaska  earthquake            4.70   \n",
       "252              27 km SSE of Mina, Nevada  earthquake             NaN   \n",
       "\n",
       "    depthError  magError  magNst    status  locationSource magSource  \n",
       "332       0.40     0.200     4.0  reviewed              uu        uu  \n",
       "370       0.50     0.264     8.0  reviewed              uu        uu  \n",
       "397       0.73     0.321     8.0  reviewed              uu        uu  \n",
       "334       9.70     0.085    18.0  reviewed              us        us  \n",
       "252       0.40     0.360    18.0  reviewed              nn        nn  \n",
       "\n",
       "[5 rows x 22 columns]"
      ]
     },
     "execution_count": 25,
     "metadata": {},
     "output_type": "execute_result"
    }
   ],
   "source": [
    "EQ_data.sort_values(by=['depth']).head()"
   ]
  },
  {
   "cell_type": "markdown",
   "metadata": {},
   "source": [
    "You can reverse the order of sorting with `ascending=False`."
   ]
  },
  {
   "cell_type": "code",
   "execution_count": 26,
   "metadata": {
    "execution": {
     "iopub.execute_input": "2020-10-05T21:22:32.085569Z",
     "iopub.status.busy": "2020-10-05T21:22:32.085092Z",
     "iopub.status.idle": "2020-10-05T21:22:32.088014Z",
     "shell.execute_reply": "2020-10-05T21:22:32.088383Z"
    }
   },
   "outputs": [
    {
     "data": {
      "text/html": [
       "<div>\n",
       "<style scoped>\n",
       "    .dataframe tbody tr th:only-of-type {\n",
       "        vertical-align: middle;\n",
       "    }\n",
       "\n",
       "    .dataframe tbody tr th {\n",
       "        vertical-align: top;\n",
       "    }\n",
       "\n",
       "    .dataframe thead th {\n",
       "        text-align: right;\n",
       "    }\n",
       "</style>\n",
       "<table border=\"1\" class=\"dataframe\">\n",
       "  <thead>\n",
       "    <tr style=\"text-align: right;\">\n",
       "      <th></th>\n",
       "      <th>time</th>\n",
       "      <th>latitude</th>\n",
       "      <th>longitude</th>\n",
       "      <th>depth</th>\n",
       "      <th>mag</th>\n",
       "      <th>magType</th>\n",
       "      <th>nst</th>\n",
       "      <th>gap</th>\n",
       "      <th>dmin</th>\n",
       "      <th>rms</th>\n",
       "      <th>...</th>\n",
       "      <th>updated</th>\n",
       "      <th>place</th>\n",
       "      <th>type</th>\n",
       "      <th>horizontalError</th>\n",
       "      <th>depthError</th>\n",
       "      <th>magError</th>\n",
       "      <th>magNst</th>\n",
       "      <th>status</th>\n",
       "      <th>locationSource</th>\n",
       "      <th>magSource</th>\n",
       "    </tr>\n",
       "  </thead>\n",
       "  <tbody>\n",
       "    <tr>\n",
       "      <th>151</th>\n",
       "      <td>2020-09-07T22:22:20.306Z</td>\n",
       "      <td>-20.8541</td>\n",
       "      <td>-178.6937</td>\n",
       "      <td>605.20</td>\n",
       "      <td>4.3</td>\n",
       "      <td>mb</td>\n",
       "      <td>NaN</td>\n",
       "      <td>115.0</td>\n",
       "      <td>4.359</td>\n",
       "      <td>0.82</td>\n",
       "      <td>...</td>\n",
       "      <td>2020-09-14T04:12:05.040Z</td>\n",
       "      <td>Fiji region</td>\n",
       "      <td>earthquake</td>\n",
       "      <td>14.9</td>\n",
       "      <td>8.6</td>\n",
       "      <td>0.116</td>\n",
       "      <td>21.0</td>\n",
       "      <td>reviewed</td>\n",
       "      <td>us</td>\n",
       "      <td>us</td>\n",
       "    </tr>\n",
       "    <tr>\n",
       "      <th>217</th>\n",
       "      <td>2020-09-13T03:50:49.167Z</td>\n",
       "      <td>-21.8264</td>\n",
       "      <td>-179.4210</td>\n",
       "      <td>594.51</td>\n",
       "      <td>4.1</td>\n",
       "      <td>mb</td>\n",
       "      <td>NaN</td>\n",
       "      <td>112.0</td>\n",
       "      <td>4.705</td>\n",
       "      <td>0.73</td>\n",
       "      <td>...</td>\n",
       "      <td>2020-09-18T01:50:13.040Z</td>\n",
       "      <td>Fiji region</td>\n",
       "      <td>earthquake</td>\n",
       "      <td>12.9</td>\n",
       "      <td>8.5</td>\n",
       "      <td>0.115</td>\n",
       "      <td>21.0</td>\n",
       "      <td>reviewed</td>\n",
       "      <td>us</td>\n",
       "      <td>us</td>\n",
       "    </tr>\n",
       "    <tr>\n",
       "      <th>218</th>\n",
       "      <td>2020-09-13T04:05:15.875Z</td>\n",
       "      <td>6.0099</td>\n",
       "      <td>123.7340</td>\n",
       "      <td>556.61</td>\n",
       "      <td>4.1</td>\n",
       "      <td>mb</td>\n",
       "      <td>NaN</td>\n",
       "      <td>146.0</td>\n",
       "      <td>5.276</td>\n",
       "      <td>0.60</td>\n",
       "      <td>...</td>\n",
       "      <td>2020-09-18T01:56:50.040Z</td>\n",
       "      <td>54 km WSW of Palimbang, Philippines</td>\n",
       "      <td>earthquake</td>\n",
       "      <td>11.3</td>\n",
       "      <td>15.2</td>\n",
       "      <td>0.198</td>\n",
       "      <td>7.0</td>\n",
       "      <td>reviewed</td>\n",
       "      <td>us</td>\n",
       "      <td>us</td>\n",
       "    </tr>\n",
       "    <tr>\n",
       "      <th>8</th>\n",
       "      <td>2020-09-12T02:37:29.712Z</td>\n",
       "      <td>-17.8809</td>\n",
       "      <td>-178.0547</td>\n",
       "      <td>556.57</td>\n",
       "      <td>5.6</td>\n",
       "      <td>mww</td>\n",
       "      <td>NaN</td>\n",
       "      <td>36.0</td>\n",
       "      <td>3.553</td>\n",
       "      <td>1.10</td>\n",
       "      <td>...</td>\n",
       "      <td>2020-09-13T02:41:07.273Z</td>\n",
       "      <td>279 km E of Levuka, Fiji</td>\n",
       "      <td>earthquake</td>\n",
       "      <td>8.9</td>\n",
       "      <td>6.4</td>\n",
       "      <td>0.089</td>\n",
       "      <td>12.0</td>\n",
       "      <td>reviewed</td>\n",
       "      <td>us</td>\n",
       "      <td>us</td>\n",
       "    </tr>\n",
       "    <tr>\n",
       "      <th>215</th>\n",
       "      <td>2020-09-11T04:25:44.348Z</td>\n",
       "      <td>5.9897</td>\n",
       "      <td>123.8273</td>\n",
       "      <td>539.45</td>\n",
       "      <td>4.1</td>\n",
       "      <td>mb</td>\n",
       "      <td>NaN</td>\n",
       "      <td>107.0</td>\n",
       "      <td>5.720</td>\n",
       "      <td>0.41</td>\n",
       "      <td>...</td>\n",
       "      <td>2020-09-16T23:11:57.040Z</td>\n",
       "      <td>46 km WSW of Palimbang, Philippines</td>\n",
       "      <td>earthquake</td>\n",
       "      <td>11.5</td>\n",
       "      <td>11.9</td>\n",
       "      <td>0.126</td>\n",
       "      <td>17.0</td>\n",
       "      <td>reviewed</td>\n",
       "      <td>us</td>\n",
       "      <td>us</td>\n",
       "    </tr>\n",
       "  </tbody>\n",
       "</table>\n",
       "<p>5 rows × 22 columns</p>\n",
       "</div>"
      ],
      "text/plain": [
       "                         time  latitude  longitude   depth  mag magType  nst  \\\n",
       "151  2020-09-07T22:22:20.306Z  -20.8541  -178.6937  605.20  4.3      mb  NaN   \n",
       "217  2020-09-13T03:50:49.167Z  -21.8264  -179.4210  594.51  4.1      mb  NaN   \n",
       "218  2020-09-13T04:05:15.875Z    6.0099   123.7340  556.61  4.1      mb  NaN   \n",
       "8    2020-09-12T02:37:29.712Z  -17.8809  -178.0547  556.57  5.6     mww  NaN   \n",
       "215  2020-09-11T04:25:44.348Z    5.9897   123.8273  539.45  4.1      mb  NaN   \n",
       "\n",
       "       gap   dmin   rms  ...                   updated  \\\n",
       "151  115.0  4.359  0.82  ...  2020-09-14T04:12:05.040Z   \n",
       "217  112.0  4.705  0.73  ...  2020-09-18T01:50:13.040Z   \n",
       "218  146.0  5.276  0.60  ...  2020-09-18T01:56:50.040Z   \n",
       "8     36.0  3.553  1.10  ...  2020-09-13T02:41:07.273Z   \n",
       "215  107.0  5.720  0.41  ...  2020-09-16T23:11:57.040Z   \n",
       "\n",
       "                                   place        type horizontalError  \\\n",
       "151                          Fiji region  earthquake            14.9   \n",
       "217                          Fiji region  earthquake            12.9   \n",
       "218  54 km WSW of Palimbang, Philippines  earthquake            11.3   \n",
       "8               279 km E of Levuka, Fiji  earthquake             8.9   \n",
       "215  46 km WSW of Palimbang, Philippines  earthquake            11.5   \n",
       "\n",
       "    depthError  magError  magNst    status  locationSource magSource  \n",
       "151        8.6     0.116    21.0  reviewed              us        us  \n",
       "217        8.5     0.115    21.0  reviewed              us        us  \n",
       "218       15.2     0.198     7.0  reviewed              us        us  \n",
       "8          6.4     0.089    12.0  reviewed              us        us  \n",
       "215       11.9     0.126    17.0  reviewed              us        us  \n",
       "\n",
       "[5 rows x 22 columns]"
      ]
     },
     "execution_count": 26,
     "metadata": {},
     "output_type": "execute_result"
    }
   ],
   "source": [
    "EQ_data.sort_values(by=['depth'],ascending=False).head()"
   ]
  },
  {
   "cell_type": "markdown",
   "metadata": {},
   "source": [
    "## Data cleaning and inspection\n",
    "\n",
    "`.drop()` can be used to drop whole columns from a DataFrame."
   ]
  },
  {
   "cell_type": "code",
   "execution_count": 27,
   "metadata": {
    "execution": {
     "iopub.execute_input": "2020-10-05T21:22:32.097814Z",
     "iopub.status.busy": "2020-10-05T21:22:32.097288Z",
     "iopub.status.idle": "2020-10-05T21:22:32.100212Z",
     "shell.execute_reply": "2020-10-05T21:22:32.100548Z"
    }
   },
   "outputs": [
    {
     "data": {
      "text/html": [
       "<div>\n",
       "<style scoped>\n",
       "    .dataframe tbody tr th:only-of-type {\n",
       "        vertical-align: middle;\n",
       "    }\n",
       "\n",
       "    .dataframe tbody tr th {\n",
       "        vertical-align: top;\n",
       "    }\n",
       "\n",
       "    .dataframe thead th {\n",
       "        text-align: right;\n",
       "    }\n",
       "</style>\n",
       "<table border=\"1\" class=\"dataframe\">\n",
       "  <thead>\n",
       "    <tr style=\"text-align: right;\">\n",
       "      <th></th>\n",
       "      <th>time</th>\n",
       "      <th>latitude</th>\n",
       "      <th>longitude</th>\n",
       "      <th>depth</th>\n",
       "      <th>mag</th>\n",
       "    </tr>\n",
       "  </thead>\n",
       "  <tbody>\n",
       "    <tr>\n",
       "      <th>0</th>\n",
       "      <td>2020-09-11T07:35:57.195Z</td>\n",
       "      <td>-21.3957</td>\n",
       "      <td>-69.9093</td>\n",
       "      <td>51.00</td>\n",
       "      <td>6.2</td>\n",
       "    </tr>\n",
       "    <tr>\n",
       "      <th>1</th>\n",
       "      <td>2020-09-12T02:44:10.969Z</td>\n",
       "      <td>38.7591</td>\n",
       "      <td>142.2473</td>\n",
       "      <td>32.09</td>\n",
       "      <td>6.1</td>\n",
       "    </tr>\n",
       "    <tr>\n",
       "      <th>2</th>\n",
       "      <td>2020-09-07T06:12:39.710Z</td>\n",
       "      <td>-17.1086</td>\n",
       "      <td>168.4935</td>\n",
       "      <td>10.00</td>\n",
       "      <td>6.0</td>\n",
       "    </tr>\n",
       "    <tr>\n",
       "      <th>3</th>\n",
       "      <td>2020-09-08T00:45:20.952Z</td>\n",
       "      <td>-4.9124</td>\n",
       "      <td>129.7627</td>\n",
       "      <td>174.05</td>\n",
       "      <td>5.9</td>\n",
       "    </tr>\n",
       "    <tr>\n",
       "      <th>4</th>\n",
       "      <td>2020-09-12T08:34:27.322Z</td>\n",
       "      <td>-17.2576</td>\n",
       "      <td>167.6786</td>\n",
       "      <td>10.00</td>\n",
       "      <td>5.9</td>\n",
       "    </tr>\n",
       "  </tbody>\n",
       "</table>\n",
       "</div>"
      ],
      "text/plain": [
       "                       time  latitude  longitude   depth  mag\n",
       "0  2020-09-11T07:35:57.195Z  -21.3957   -69.9093   51.00  6.2\n",
       "1  2020-09-12T02:44:10.969Z   38.7591   142.2473   32.09  6.1\n",
       "2  2020-09-07T06:12:39.710Z  -17.1086   168.4935   10.00  6.0\n",
       "3  2020-09-08T00:45:20.952Z   -4.9124   129.7627  174.05  5.9\n",
       "4  2020-09-12T08:34:27.322Z  -17.2576   167.6786   10.00  5.9"
      ]
     },
     "execution_count": 27,
     "metadata": {},
     "output_type": "execute_result"
    }
   ],
   "source": [
    "EQ_data_concise = EQ_data.drop(['magType','nst','gap','dmin','rms','net','id','updated','place','type','horizontalError','depthError','magError','magNst','status','locationSource','magSource',], axis='columns')\n",
    "EQ_data_concise.head()"
   ]
  },
  {
   "cell_type": "markdown",
   "metadata": {},
   "source": [
    "`.unique()` returns the unique values from the specified object."
   ]
  },
  {
   "cell_type": "code",
   "execution_count": 28,
   "metadata": {
    "execution": {
     "iopub.execute_input": "2020-10-05T21:22:32.105116Z",
     "iopub.status.busy": "2020-10-05T21:22:32.104602Z",
     "iopub.status.idle": "2020-10-05T21:22:32.107852Z",
     "shell.execute_reply": "2020-10-05T21:22:32.108193Z"
    }
   },
   "outputs": [
    {
     "data": {
      "text/plain": [
       "array([2.5 , 2.51, 2.53, 2.54, 2.55, 2.56, 2.57, 2.58, 2.6 , 2.61, 2.62,\n",
       "       2.63, 2.64, 2.65, 2.66, 2.68, 2.69, 2.7 , 2.74, 2.75, 2.76, 2.77,\n",
       "       2.78, 2.79, 2.8 , 2.81, 2.82, 2.84, 2.86, 2.87, 2.9 , 2.91, 2.92,\n",
       "       2.95, 2.96, 2.97, 2.98, 2.99, 3.  , 3.01, 3.02, 3.03, 3.06, 3.1 ,\n",
       "       3.17, 3.18, 3.2 , 3.21, 3.23, 3.26, 3.3 , 3.32, 3.34, 3.42, 3.43,\n",
       "       3.44, 3.46, 3.5 , 3.53, 3.59, 3.6 , 3.7 , 3.71, 3.72, 3.74, 3.75,\n",
       "       3.83, 3.9 , 4.  , 4.1 , 4.2 , 4.22, 4.3 , 4.33, 4.36, 4.4 , 4.5 ,\n",
       "       4.6 , 4.7 , 4.8 , 4.9 , 5.  , 5.1 , 5.2 , 5.3 , 5.4 , 5.6 , 5.7 ,\n",
       "       5.8 , 5.9 , 6.  , 6.1 , 6.2 ])"
      ]
     },
     "execution_count": 28,
     "metadata": {},
     "output_type": "execute_result"
    }
   ],
   "source": [
    "unique_mags = EQ_data_concise['mag'].unique()\n",
    "unique_mags.sort()\n",
    "unique_mags"
   ]
  },
  {
   "cell_type": "markdown",
   "metadata": {},
   "source": [
    "`.value_counts()` returns the count of each unique value from the specified object. This functionality can be used to find duplicate values."
   ]
  },
  {
   "cell_type": "code",
   "execution_count": 29,
   "metadata": {
    "execution": {
     "iopub.execute_input": "2020-10-05T21:22:32.113606Z",
     "iopub.status.busy": "2020-10-05T21:22:32.113092Z",
     "iopub.status.idle": "2020-10-05T21:22:32.115930Z",
     "shell.execute_reply": "2020-10-05T21:22:32.116267Z"
    }
   },
   "outputs": [
    {
     "data": {
      "text/plain": [
       "4.40    31\n",
       "4.30    30\n",
       "4.60    26\n",
       "4.20    26\n",
       "4.50    26\n",
       "        ..\n",
       "2.77     1\n",
       "6.20     1\n",
       "5.80     1\n",
       "4.33     1\n",
       "6.00     1\n",
       "Name: mag, Length: 93, dtype: int64"
      ]
     },
     "execution_count": 29,
     "metadata": {},
     "output_type": "execute_result"
    }
   ],
   "source": [
    "EQ_data_concise['mag'].value_counts()"
   ]
  },
  {
   "cell_type": "markdown",
   "metadata": {},
   "source": [
    "### Finding missing data (NaNs)\n",
    "\n",
    "NaN stands for not a number and is used as a placeholder in data tables where no value exists. `np.isnan` returns a boolean object with True where NaNs appear in the DataFrame."
   ]
  },
  {
   "cell_type": "code",
   "execution_count": 30,
   "metadata": {
    "execution": {
     "iopub.execute_input": "2020-10-05T21:22:32.120711Z",
     "iopub.status.busy": "2020-10-05T21:22:32.120205Z",
     "iopub.status.idle": "2020-10-05T21:22:32.123109Z",
     "shell.execute_reply": "2020-10-05T21:22:32.123440Z"
    }
   },
   "outputs": [
    {
     "data": {
      "text/plain": [
       "0       True\n",
       "1       True\n",
       "2       True\n",
       "3       True\n",
       "4       True\n",
       "       ...  \n",
       "416     True\n",
       "417    False\n",
       "418     True\n",
       "419     True\n",
       "420     True\n",
       "Name: nst, Length: 421, dtype: bool"
      ]
     },
     "execution_count": 30,
     "metadata": {},
     "output_type": "execute_result"
    }
   ],
   "source": [
    "np.isnan(EQ_data['nst'])"
   ]
  },
  {
   "cell_type": "code",
   "execution_count": 31,
   "metadata": {
    "execution": {
     "iopub.execute_input": "2020-10-05T21:22:32.127972Z",
     "iopub.status.busy": "2020-10-05T21:22:32.127448Z",
     "iopub.status.idle": "2020-10-05T21:22:32.130416Z",
     "shell.execute_reply": "2020-10-05T21:22:32.130029Z"
    }
   },
   "outputs": [
    {
     "data": {
      "text/plain": [
       "0      False\n",
       "1      False\n",
       "2      False\n",
       "3      False\n",
       "4      False\n",
       "       ...  \n",
       "416    False\n",
       "417     True\n",
       "418    False\n",
       "419    False\n",
       "420    False\n",
       "Name: nst, Length: 421, dtype: bool"
      ]
     },
     "execution_count": 31,
     "metadata": {},
     "output_type": "execute_result"
    }
   ],
   "source": [
    "~np.isnan(EQ_data['nst'])"
   ]
  },
  {
   "cell_type": "markdown",
   "metadata": {},
   "source": [
    "You can use this boolean object to filter-out rows that contain NaNs."
   ]
  },
  {
   "cell_type": "code",
   "execution_count": 32,
   "metadata": {
    "execution": {
     "iopub.execute_input": "2020-10-05T21:22:32.161182Z",
     "iopub.status.busy": "2020-10-05T21:22:32.160668Z",
     "iopub.status.idle": "2020-10-05T21:22:32.163715Z",
     "shell.execute_reply": "2020-10-05T21:22:32.164089Z"
    }
   },
   "outputs": [
    {
     "data": {
      "text/html": [
       "<div>\n",
       "<style scoped>\n",
       "    .dataframe tbody tr th:only-of-type {\n",
       "        vertical-align: middle;\n",
       "    }\n",
       "\n",
       "    .dataframe tbody tr th {\n",
       "        vertical-align: top;\n",
       "    }\n",
       "\n",
       "    .dataframe thead th {\n",
       "        text-align: right;\n",
       "    }\n",
       "</style>\n",
       "<table border=\"1\" class=\"dataframe\">\n",
       "  <thead>\n",
       "    <tr style=\"text-align: right;\">\n",
       "      <th></th>\n",
       "      <th>time</th>\n",
       "      <th>latitude</th>\n",
       "      <th>longitude</th>\n",
       "      <th>depth</th>\n",
       "      <th>mag</th>\n",
       "      <th>magType</th>\n",
       "      <th>nst</th>\n",
       "      <th>gap</th>\n",
       "      <th>dmin</th>\n",
       "      <th>rms</th>\n",
       "      <th>...</th>\n",
       "      <th>updated</th>\n",
       "      <th>place</th>\n",
       "      <th>type</th>\n",
       "      <th>horizontalError</th>\n",
       "      <th>depthError</th>\n",
       "      <th>magError</th>\n",
       "      <th>magNst</th>\n",
       "      <th>status</th>\n",
       "      <th>locationSource</th>\n",
       "      <th>magSource</th>\n",
       "    </tr>\n",
       "  </thead>\n",
       "  <tbody>\n",
       "    <tr>\n",
       "      <th>145</th>\n",
       "      <td>2020-09-12T23:22:04.540Z</td>\n",
       "      <td>19.304600</td>\n",
       "      <td>-64.389600</td>\n",
       "      <td>40.00</td>\n",
       "      <td>4.36</td>\n",
       "      <td>md</td>\n",
       "      <td>19.0</td>\n",
       "      <td>233.0</td>\n",
       "      <td>1.86560</td>\n",
       "      <td>0.4800</td>\n",
       "      <td>...</td>\n",
       "      <td>2020-09-25T03:01:38.040Z</td>\n",
       "      <td>115 km NNE of Cruz Bay, U.S. Virgin Islands</td>\n",
       "      <td>earthquake</td>\n",
       "      <td>3.57</td>\n",
       "      <td>29.63</td>\n",
       "      <td>0.060000</td>\n",
       "      <td>8.0</td>\n",
       "      <td>reviewed</td>\n",
       "      <td>pr</td>\n",
       "      <td>pr</td>\n",
       "    </tr>\n",
       "    <tr>\n",
       "      <th>146</th>\n",
       "      <td>2020-09-13T07:12:58.980Z</td>\n",
       "      <td>19.396000</td>\n",
       "      <td>-64.284100</td>\n",
       "      <td>35.00</td>\n",
       "      <td>4.33</td>\n",
       "      <td>md</td>\n",
       "      <td>26.0</td>\n",
       "      <td>234.0</td>\n",
       "      <td>2.00520</td>\n",
       "      <td>0.2900</td>\n",
       "      <td>...</td>\n",
       "      <td>2020-09-13T15:15:36.449Z</td>\n",
       "      <td>129 km NNE of Cruz Bay, U.S. Virgin Islands</td>\n",
       "      <td>earthquake</td>\n",
       "      <td>1.81</td>\n",
       "      <td>21.72</td>\n",
       "      <td>0.130000</td>\n",
       "      <td>16.0</td>\n",
       "      <td>reviewed</td>\n",
       "      <td>pr</td>\n",
       "      <td>pr</td>\n",
       "    </tr>\n",
       "    <tr>\n",
       "      <th>177</th>\n",
       "      <td>2020-09-11T07:55:45.450Z</td>\n",
       "      <td>36.440667</td>\n",
       "      <td>-117.994500</td>\n",
       "      <td>3.93</td>\n",
       "      <td>4.22</td>\n",
       "      <td>ml</td>\n",
       "      <td>45.0</td>\n",
       "      <td>66.0</td>\n",
       "      <td>0.06908</td>\n",
       "      <td>0.1800</td>\n",
       "      <td>...</td>\n",
       "      <td>2020-09-25T10:09:14.879Z</td>\n",
       "      <td>18km SSE of Lone Pine, CA</td>\n",
       "      <td>earthquake</td>\n",
       "      <td>0.18</td>\n",
       "      <td>0.57</td>\n",
       "      <td>0.140000</td>\n",
       "      <td>320.0</td>\n",
       "      <td>reviewed</td>\n",
       "      <td>ci</td>\n",
       "      <td>ci</td>\n",
       "    </tr>\n",
       "    <tr>\n",
       "      <th>234</th>\n",
       "      <td>2020-09-08T01:19:54.510Z</td>\n",
       "      <td>19.121300</td>\n",
       "      <td>-64.398500</td>\n",
       "      <td>38.00</td>\n",
       "      <td>3.83</td>\n",
       "      <td>md</td>\n",
       "      <td>17.0</td>\n",
       "      <td>338.0</td>\n",
       "      <td>1.74990</td>\n",
       "      <td>0.4000</td>\n",
       "      <td>...</td>\n",
       "      <td>2020-09-09T00:54:19.040Z</td>\n",
       "      <td>96 km NNE of Cruz Bay, U.S. Virgin Islands</td>\n",
       "      <td>earthquake</td>\n",
       "      <td>3.23</td>\n",
       "      <td>24.52</td>\n",
       "      <td>0.110000</td>\n",
       "      <td>14.0</td>\n",
       "      <td>reviewed</td>\n",
       "      <td>pr</td>\n",
       "      <td>pr</td>\n",
       "    </tr>\n",
       "    <tr>\n",
       "      <th>235</th>\n",
       "      <td>2020-09-08T06:35:40.270Z</td>\n",
       "      <td>19.316600</td>\n",
       "      <td>-64.570800</td>\n",
       "      <td>37.00</td>\n",
       "      <td>3.83</td>\n",
       "      <td>md</td>\n",
       "      <td>20.0</td>\n",
       "      <td>335.0</td>\n",
       "      <td>1.73570</td>\n",
       "      <td>0.4100</td>\n",
       "      <td>...</td>\n",
       "      <td>2020-09-08T08:09:44.040Z</td>\n",
       "      <td>111 km NNE of Cruz Bay, U.S. Virgin Islands</td>\n",
       "      <td>earthquake</td>\n",
       "      <td>3.32</td>\n",
       "      <td>26.87</td>\n",
       "      <td>0.120000</td>\n",
       "      <td>10.0</td>\n",
       "      <td>reviewed</td>\n",
       "      <td>pr</td>\n",
       "      <td>pr</td>\n",
       "    </tr>\n",
       "    <tr>\n",
       "      <th>...</th>\n",
       "      <td>...</td>\n",
       "      <td>...</td>\n",
       "      <td>...</td>\n",
       "      <td>...</td>\n",
       "      <td>...</td>\n",
       "      <td>...</td>\n",
       "      <td>...</td>\n",
       "      <td>...</td>\n",
       "      <td>...</td>\n",
       "      <td>...</td>\n",
       "      <td>...</td>\n",
       "      <td>...</td>\n",
       "      <td>...</td>\n",
       "      <td>...</td>\n",
       "      <td>...</td>\n",
       "      <td>...</td>\n",
       "      <td>...</td>\n",
       "      <td>...</td>\n",
       "      <td>...</td>\n",
       "      <td>...</td>\n",
       "      <td>...</td>\n",
       "    </tr>\n",
       "    <tr>\n",
       "      <th>403</th>\n",
       "      <td>2020-09-08T11:03:53.600Z</td>\n",
       "      <td>18.027300</td>\n",
       "      <td>-66.828000</td>\n",
       "      <td>16.00</td>\n",
       "      <td>2.51</td>\n",
       "      <td>md</td>\n",
       "      <td>12.0</td>\n",
       "      <td>117.0</td>\n",
       "      <td>0.07310</td>\n",
       "      <td>0.1500</td>\n",
       "      <td>...</td>\n",
       "      <td>2020-09-08T11:14:28.314Z</td>\n",
       "      <td>2 km ESE of Yauco, Puerto Rico</td>\n",
       "      <td>earthquake</td>\n",
       "      <td>0.58</td>\n",
       "      <td>0.73</td>\n",
       "      <td>0.150000</td>\n",
       "      <td>5.0</td>\n",
       "      <td>reviewed</td>\n",
       "      <td>pr</td>\n",
       "      <td>pr</td>\n",
       "    </tr>\n",
       "    <tr>\n",
       "      <th>404</th>\n",
       "      <td>2020-09-13T17:55:42.130Z</td>\n",
       "      <td>19.182333</td>\n",
       "      <td>-155.475833</td>\n",
       "      <td>32.80</td>\n",
       "      <td>2.51</td>\n",
       "      <td>md</td>\n",
       "      <td>59.0</td>\n",
       "      <td>82.0</td>\n",
       "      <td>NaN</td>\n",
       "      <td>0.1200</td>\n",
       "      <td>...</td>\n",
       "      <td>2020-09-14T23:42:34.030Z</td>\n",
       "      <td>2 km S of Pāhala, Hawaii</td>\n",
       "      <td>earthquake</td>\n",
       "      <td>0.44</td>\n",
       "      <td>0.60</td>\n",
       "      <td>0.152709</td>\n",
       "      <td>27.0</td>\n",
       "      <td>reviewed</td>\n",
       "      <td>hv</td>\n",
       "      <td>hv</td>\n",
       "    </tr>\n",
       "    <tr>\n",
       "      <th>405</th>\n",
       "      <td>2020-09-07T08:24:04.300Z</td>\n",
       "      <td>17.932000</td>\n",
       "      <td>-66.947100</td>\n",
       "      <td>13.00</td>\n",
       "      <td>2.50</td>\n",
       "      <td>md</td>\n",
       "      <td>16.0</td>\n",
       "      <td>221.0</td>\n",
       "      <td>0.08040</td>\n",
       "      <td>0.1300</td>\n",
       "      <td>...</td>\n",
       "      <td>2020-09-07T09:46:21.114Z</td>\n",
       "      <td>6 km SW of Guánica, Puerto Rico</td>\n",
       "      <td>earthquake</td>\n",
       "      <td>0.79</td>\n",
       "      <td>0.30</td>\n",
       "      <td>0.120000</td>\n",
       "      <td>11.0</td>\n",
       "      <td>reviewed</td>\n",
       "      <td>pr</td>\n",
       "      <td>pr</td>\n",
       "    </tr>\n",
       "    <tr>\n",
       "      <th>415</th>\n",
       "      <td>2020-09-11T12:23:38.700Z</td>\n",
       "      <td>44.315167</td>\n",
       "      <td>-110.494500</td>\n",
       "      <td>1.87</td>\n",
       "      <td>2.50</td>\n",
       "      <td>ml</td>\n",
       "      <td>15.0</td>\n",
       "      <td>144.0</td>\n",
       "      <td>0.05648</td>\n",
       "      <td>0.1800</td>\n",
       "      <td>...</td>\n",
       "      <td>2020-09-11T14:39:34.760Z</td>\n",
       "      <td>61 km SE of West Yellowstone, Montana</td>\n",
       "      <td>earthquake</td>\n",
       "      <td>0.50</td>\n",
       "      <td>2.06</td>\n",
       "      <td>0.377000</td>\n",
       "      <td>8.0</td>\n",
       "      <td>reviewed</td>\n",
       "      <td>uu</td>\n",
       "      <td>uu</td>\n",
       "    </tr>\n",
       "    <tr>\n",
       "      <th>417</th>\n",
       "      <td>2020-09-12T05:56:08.720Z</td>\n",
       "      <td>38.169800</td>\n",
       "      <td>-117.964800</td>\n",
       "      <td>6.90</td>\n",
       "      <td>2.50</td>\n",
       "      <td>ml</td>\n",
       "      <td>28.0</td>\n",
       "      <td>47.8</td>\n",
       "      <td>0.03100</td>\n",
       "      <td>0.1599</td>\n",
       "      <td>...</td>\n",
       "      <td>2020-09-25T11:03:38.040Z</td>\n",
       "      <td>27 km SSE of Mina, Nevada</td>\n",
       "      <td>earthquake</td>\n",
       "      <td>NaN</td>\n",
       "      <td>0.60</td>\n",
       "      <td>0.290000</td>\n",
       "      <td>15.0</td>\n",
       "      <td>reviewed</td>\n",
       "      <td>nn</td>\n",
       "      <td>nn</td>\n",
       "    </tr>\n",
       "  </tbody>\n",
       "</table>\n",
       "<p>105 rows × 22 columns</p>\n",
       "</div>"
      ],
      "text/plain": [
       "                         time   latitude   longitude  depth   mag magType  \\\n",
       "145  2020-09-12T23:22:04.540Z  19.304600  -64.389600  40.00  4.36      md   \n",
       "146  2020-09-13T07:12:58.980Z  19.396000  -64.284100  35.00  4.33      md   \n",
       "177  2020-09-11T07:55:45.450Z  36.440667 -117.994500   3.93  4.22      ml   \n",
       "234  2020-09-08T01:19:54.510Z  19.121300  -64.398500  38.00  3.83      md   \n",
       "235  2020-09-08T06:35:40.270Z  19.316600  -64.570800  37.00  3.83      md   \n",
       "..                        ...        ...         ...    ...   ...     ...   \n",
       "403  2020-09-08T11:03:53.600Z  18.027300  -66.828000  16.00  2.51      md   \n",
       "404  2020-09-13T17:55:42.130Z  19.182333 -155.475833  32.80  2.51      md   \n",
       "405  2020-09-07T08:24:04.300Z  17.932000  -66.947100  13.00  2.50      md   \n",
       "415  2020-09-11T12:23:38.700Z  44.315167 -110.494500   1.87  2.50      ml   \n",
       "417  2020-09-12T05:56:08.720Z  38.169800 -117.964800   6.90  2.50      ml   \n",
       "\n",
       "      nst    gap     dmin     rms  ...                   updated  \\\n",
       "145  19.0  233.0  1.86560  0.4800  ...  2020-09-25T03:01:38.040Z   \n",
       "146  26.0  234.0  2.00520  0.2900  ...  2020-09-13T15:15:36.449Z   \n",
       "177  45.0   66.0  0.06908  0.1800  ...  2020-09-25T10:09:14.879Z   \n",
       "234  17.0  338.0  1.74990  0.4000  ...  2020-09-09T00:54:19.040Z   \n",
       "235  20.0  335.0  1.73570  0.4100  ...  2020-09-08T08:09:44.040Z   \n",
       "..    ...    ...      ...     ...  ...                       ...   \n",
       "403  12.0  117.0  0.07310  0.1500  ...  2020-09-08T11:14:28.314Z   \n",
       "404  59.0   82.0      NaN  0.1200  ...  2020-09-14T23:42:34.030Z   \n",
       "405  16.0  221.0  0.08040  0.1300  ...  2020-09-07T09:46:21.114Z   \n",
       "415  15.0  144.0  0.05648  0.1800  ...  2020-09-11T14:39:34.760Z   \n",
       "417  28.0   47.8  0.03100  0.1599  ...  2020-09-25T11:03:38.040Z   \n",
       "\n",
       "                                           place        type horizontalError  \\\n",
       "145  115 km NNE of Cruz Bay, U.S. Virgin Islands  earthquake            3.57   \n",
       "146  129 km NNE of Cruz Bay, U.S. Virgin Islands  earthquake            1.81   \n",
       "177                    18km SSE of Lone Pine, CA  earthquake            0.18   \n",
       "234   96 km NNE of Cruz Bay, U.S. Virgin Islands  earthquake            3.23   \n",
       "235  111 km NNE of Cruz Bay, U.S. Virgin Islands  earthquake            3.32   \n",
       "..                                           ...         ...             ...   \n",
       "403               2 km ESE of Yauco, Puerto Rico  earthquake            0.58   \n",
       "404                     2 km S of Pāhala, Hawaii  earthquake            0.44   \n",
       "405              6 km SW of Guánica, Puerto Rico  earthquake            0.79   \n",
       "415        61 km SE of West Yellowstone, Montana  earthquake            0.50   \n",
       "417                    27 km SSE of Mina, Nevada  earthquake             NaN   \n",
       "\n",
       "    depthError  magError  magNst    status  locationSource magSource  \n",
       "145      29.63  0.060000     8.0  reviewed              pr        pr  \n",
       "146      21.72  0.130000    16.0  reviewed              pr        pr  \n",
       "177       0.57  0.140000   320.0  reviewed              ci        ci  \n",
       "234      24.52  0.110000    14.0  reviewed              pr        pr  \n",
       "235      26.87  0.120000    10.0  reviewed              pr        pr  \n",
       "..         ...       ...     ...       ...             ...       ...  \n",
       "403       0.73  0.150000     5.0  reviewed              pr        pr  \n",
       "404       0.60  0.152709    27.0  reviewed              hv        hv  \n",
       "405       0.30  0.120000    11.0  reviewed              pr        pr  \n",
       "415       2.06  0.377000     8.0  reviewed              uu        uu  \n",
       "417       0.60  0.290000    15.0  reviewed              nn        nn  \n",
       "\n",
       "[105 rows x 22 columns]"
      ]
     },
     "execution_count": 32,
     "metadata": {},
     "output_type": "execute_result"
    }
   ],
   "source": [
    "EQ_data[~np.isnan(EQ_data['nst'])]"
   ]
  },
  {
   "cell_type": "markdown",
   "metadata": {},
   "source": [
    "## Further Reading (Optional)\n",
    "\n",
    "This user guide has lots of useful examples and documentation:\n",
    "https://pandas.pydata.org/pandas-docs/stable/user_guide/indexing.html"
   ]
  },
  {
   "cell_type": "code",
   "execution_count": null,
   "metadata": {},
   "outputs": [],
   "source": []
  }
 ],
 "metadata": {
  "kernelspec": {
   "display_name": "Python 3",
   "language": "python",
   "name": "python3"
  },
  "language_info": {
   "codemirror_mode": {
    "name": "ipython",
    "version": 3
   },
   "file_extension": ".py",
   "mimetype": "text/x-python",
   "name": "python",
   "nbconvert_exporter": "python",
   "pygments_lexer": "ipython3",
   "version": "3.7.7"
  }
 },
 "nbformat": 4,
 "nbformat_minor": 4
}