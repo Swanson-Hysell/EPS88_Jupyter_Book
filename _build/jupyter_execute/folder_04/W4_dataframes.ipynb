{
 "cells": [
  {
   "cell_type": "markdown",
   "metadata": {},
   "source": [
    "# 4.1 Data Wrangling and Advanced Indexing\n",
    "\n",
    "**Goal:** Build data wrangling skills to clean and navigate datasets.\n",
    "\n",
    "**Outline:**\n",
    "* Numpy Array and DataFrame methods and functions\n",
    "* Table indexing and slicing\n",
    "* Boolean (logical) indexing\n",
    "* Sorting\n",
    "* Data cleaning and inspection\n",
    "\n",
    "## Additional Required Reading: Functions\n",
    "Data 8 textbook \"Computational and Inferential Thinking: The Foundations of Data Science\" By Ani Adhikari and John DeNero [Chapter 8 Functions and Tables](https://www.inferentialthinking.com/chapters/08/Functions_and_Tables.html). This should overlap with your assigned reading for Data 8."
   ]
  },
  {
   "cell_type": "markdown",
   "metadata": {},
   "source": [
    "## Numpy Arrays and DataFrames\n",
    "\n",
    "NumPy and Pandas offer several types of data structures, the two main structures that we use are `nparray` and `DataFrame`. A `nparray` is a fast and flexible container for large datasets that allows you to perform operations on whole blocks of data at once. `nparray`s are best suited for homogenous (just one type) numerical data. `DataFrames` are designed for tabular datasets, and can handle heterogenous data (multiple types: int, float, string, etc.).\n"
   ]
  },
  {
   "cell_type": "code",
   "execution_count": 1,
   "metadata": {
    "execution": {
     "iopub.execute_input": "2020-09-21T19:12:35.817450Z",
     "iopub.status.busy": "2020-09-21T19:12:35.816810Z",
     "iopub.status.idle": "2020-09-21T19:12:36.330566Z",
     "shell.execute_reply": "2020-09-21T19:12:36.330018Z"
    }
   },
   "outputs": [],
   "source": [
    "import numpy as np\n",
    "import pandas as pd"
   ]
  },
  {
   "cell_type": "markdown",
   "metadata": {},
   "source": [
    "### nparray\n",
    "\n",
    "Here is an example of a `nparray` with random float data:"
   ]
  },
  {
   "cell_type": "code",
   "execution_count": 2,
   "metadata": {
    "execution": {
     "iopub.execute_input": "2020-09-21T19:12:36.339342Z",
     "iopub.status.busy": "2020-09-21T19:12:36.338655Z",
     "iopub.status.idle": "2020-09-21T19:12:36.341955Z",
     "shell.execute_reply": "2020-09-21T19:12:36.341501Z"
    }
   },
   "outputs": [
    {
     "data": {
      "text/plain": [
       "array([[-1.05900889,  0.35470566,  0.84479999],\n",
       "       [ 0.09926213, -1.61534894, -0.16066573],\n",
       "       [ 0.06285066, -0.33464915, -0.77479669],\n",
       "       [ 0.47753528,  0.33075427, -0.9865672 ],\n",
       "       [-0.59894986,  2.01464836,  1.90131571]])"
      ]
     },
     "execution_count": 2,
     "metadata": {},
     "output_type": "execute_result"
    }
   ],
   "source": [
    "# Generate a random nparray called arr_data\n",
    "arr_data = np.random.randn(5,3)\n",
    "arr_data"
   ]
  },
  {
   "cell_type": "markdown",
   "metadata": {},
   "source": [
    "The function `arrayName.shape` is useful for finding the number of rows and columns in an array."
   ]
  },
  {
   "cell_type": "code",
   "execution_count": 3,
   "metadata": {
    "execution": {
     "iopub.execute_input": "2020-09-21T19:12:36.345241Z",
     "iopub.status.busy": "2020-09-21T19:12:36.344653Z",
     "iopub.status.idle": "2020-09-21T19:12:36.348358Z",
     "shell.execute_reply": "2020-09-21T19:12:36.347976Z"
    }
   },
   "outputs": [
    {
     "data": {
      "text/plain": [
       "(5, 3)"
      ]
     },
     "execution_count": 3,
     "metadata": {},
     "output_type": "execute_result"
    }
   ],
   "source": [
    "# use .shape to determine the shape of arr_data\n",
    "arr_data.shape"
   ]
  },
  {
   "cell_type": "markdown",
   "metadata": {},
   "source": [
    "`arrayName.dtype` will display the data type of the data stored in the array."
   ]
  },
  {
   "cell_type": "code",
   "execution_count": 4,
   "metadata": {
    "execution": {
     "iopub.execute_input": "2020-09-21T19:12:36.351595Z",
     "iopub.status.busy": "2020-09-21T19:12:36.351085Z",
     "iopub.status.idle": "2020-09-21T19:12:36.353657Z",
     "shell.execute_reply": "2020-09-21T19:12:36.354013Z"
    }
   },
   "outputs": [
    {
     "data": {
      "text/plain": [
       "dtype('float64')"
      ]
     },
     "execution_count": 4,
     "metadata": {},
     "output_type": "execute_result"
    }
   ],
   "source": [
    "# use .dtype to determine the type of arr_data\n",
    "arr_data.dtype"
   ]
  },
  {
   "cell_type": "markdown",
   "metadata": {},
   "source": [
    "The functions `np.zeros` and `np.ones` are similar, they create arrays full of zeros and ones respectively. The input for these functions is the shape of the array you want. This is an effective way of setting up an array of place-holders that you can then fill in with a loop or to make an array of a single value."
   ]
  },
  {
   "cell_type": "code",
   "execution_count": 5,
   "metadata": {
    "execution": {
     "iopub.execute_input": "2020-09-21T19:12:36.357463Z",
     "iopub.status.busy": "2020-09-21T19:12:36.357005Z",
     "iopub.status.idle": "2020-09-21T19:12:36.360052Z",
     "shell.execute_reply": "2020-09-21T19:12:36.359616Z"
    }
   },
   "outputs": [
    {
     "data": {
      "text/plain": [
       "array([[0., 0., 0., 0.],\n",
       "       [0., 0., 0., 0.],\n",
       "       [0., 0., 0., 0.],\n",
       "       [0., 0., 0., 0.]])"
      ]
     },
     "execution_count": 5,
     "metadata": {},
     "output_type": "execute_result"
    }
   ],
   "source": [
    "# Generate a nparray of zeros with np.zeros\n",
    "arr0 = np.zeros((4,4))\n",
    "arr0"
   ]
  },
  {
   "cell_type": "code",
   "execution_count": 6,
   "metadata": {
    "execution": {
     "iopub.execute_input": "2020-09-21T19:12:36.363649Z",
     "iopub.status.busy": "2020-09-21T19:12:36.363145Z",
     "iopub.status.idle": "2020-09-21T19:12:36.365970Z",
     "shell.execute_reply": "2020-09-21T19:12:36.365583Z"
    }
   },
   "outputs": [
    {
     "data": {
      "text/plain": [
       "array([[1., 1., 1., 1.],\n",
       "       [1., 1., 1., 1.],\n",
       "       [1., 1., 1., 1.],\n",
       "       [1., 1., 1., 1.]])"
      ]
     },
     "execution_count": 6,
     "metadata": {},
     "output_type": "execute_result"
    }
   ],
   "source": [
    "# Generate a nparray of ones with np.ones\n",
    "arr1 = np.ones((4,4))\n",
    "arr1"
   ]
  },
  {
   "cell_type": "code",
   "execution_count": 7,
   "metadata": {
    "execution": {
     "iopub.execute_input": "2020-09-21T19:12:36.369735Z",
     "iopub.status.busy": "2020-09-21T19:12:36.368994Z",
     "iopub.status.idle": "2020-09-21T19:12:36.371775Z",
     "shell.execute_reply": "2020-09-21T19:12:36.372102Z"
    }
   },
   "outputs": [
    {
     "data": {
      "text/plain": [
       "array([[5., 5., 5., 5.],\n",
       "       [5., 5., 5., 5.],\n",
       "       [5., 5., 5., 5.],\n",
       "       [5., 5., 5., 5.]])"
      ]
     },
     "execution_count": 7,
     "metadata": {},
     "output_type": "execute_result"
    }
   ],
   "source": [
    "# np.ones is handy for making a nparray of any single value\n",
    "arr5 = arr1 * 5\n",
    "arr5"
   ]
  },
  {
   "cell_type": "markdown",
   "metadata": {},
   "source": [
    "The functions `np.arange` and `np.linspace` can be used to make monotonic number lines. They are really useful! `np.arange` makes an array of integers or floats between the starting and ending (note that the ending point is exclusive) in steps that you set as inputs. `np.linspace` will make evenly spaced float points between the starting and ending (note that the ending point is inclusive) you set."
   ]
  },
  {
   "cell_type": "code",
   "execution_count": 8,
   "metadata": {
    "execution": {
     "iopub.execute_input": "2020-09-21T19:12:36.375538Z",
     "iopub.status.busy": "2020-09-21T19:12:36.375028Z",
     "iopub.status.idle": "2020-09-21T19:12:36.377596Z",
     "shell.execute_reply": "2020-09-21T19:12:36.377925Z"
    }
   },
   "outputs": [
    {
     "data": {
      "text/plain": [
       "array([ 0,  1,  2,  3,  4,  5,  6,  7,  8,  9, 10])"
      ]
     },
     "execution_count": 8,
     "metadata": {},
     "output_type": "execute_result"
    }
   ],
   "source": [
    "# Generate an array of integers between 0 and 10 in steps of 1, including 0 (start) but not 11 (end)\n",
    "arr2 = np.arange(0,11,1) \n",
    "arr2"
   ]
  },
  {
   "cell_type": "code",
   "execution_count": 9,
   "metadata": {
    "execution": {
     "iopub.execute_input": "2020-09-21T19:12:36.381680Z",
     "iopub.status.busy": "2020-09-21T19:12:36.381137Z",
     "iopub.status.idle": "2020-09-21T19:12:36.383907Z",
     "shell.execute_reply": "2020-09-21T19:12:36.384247Z"
    }
   },
   "outputs": [
    {
     "data": {
      "text/plain": [
       "array([ 0.,  2.,  4.,  6.,  8., 10.])"
      ]
     },
     "execution_count": 9,
     "metadata": {},
     "output_type": "execute_result"
    }
   ],
   "source": [
    "# Generate an array of floats between 0 and 10 in steps of 2, including 0 (start) but not 11 (end)\n",
    "arr2 = np.arange(0.0,11.0,2.0) \n",
    "arr2"
   ]
  },
  {
   "cell_type": "code",
   "execution_count": 10,
   "metadata": {
    "execution": {
     "iopub.execute_input": "2020-09-21T19:12:36.388146Z",
     "iopub.status.busy": "2020-09-21T19:12:36.387589Z",
     "iopub.status.idle": "2020-09-21T19:12:36.390133Z",
     "shell.execute_reply": "2020-09-21T19:12:36.390485Z"
    }
   },
   "outputs": [
    {
     "data": {
      "text/plain": [
       "array([ 0.        ,  0.76923077,  1.53846154,  2.30769231,  3.07692308,\n",
       "        3.84615385,  4.61538462,  5.38461538,  6.15384615,  6.92307692,\n",
       "        7.69230769,  8.46153846,  9.23076923, 10.        ])"
      ]
     },
     "execution_count": 10,
     "metadata": {},
     "output_type": "execute_result"
    }
   ],
   "source": [
    "# Generate an array of 14 evenly spaced numbers between 0 and 10, including 0 (start) and 10 (end).\n",
    "arr3=np.linspace(0,10,14) \n",
    "arr3"
   ]
  },
  {
   "cell_type": "markdown",
   "metadata": {},
   "source": [
    "### DataFrames \n",
    "\n",
    "`Series` and `DataFrames` are like nparrays but they have the added feature of index labels assigned to each row and column -- the bold labels in the below `DataFrame`. These labels can be used to bin and select data."
   ]
  },
  {
   "cell_type": "code",
   "execution_count": 11,
   "metadata": {
    "execution": {
     "iopub.execute_input": "2020-09-21T19:12:36.397374Z",
     "iopub.status.busy": "2020-09-21T19:12:36.396930Z",
     "iopub.status.idle": "2020-09-21T19:12:36.402651Z",
     "shell.execute_reply": "2020-09-21T19:12:36.402214Z"
    }
   },
   "outputs": [
    {
     "data": {
      "text/html": [
       "<div>\n",
       "<style scoped>\n",
       "    .dataframe tbody tr th:only-of-type {\n",
       "        vertical-align: middle;\n",
       "    }\n",
       "\n",
       "    .dataframe tbody tr th {\n",
       "        vertical-align: top;\n",
       "    }\n",
       "\n",
       "    .dataframe thead th {\n",
       "        text-align: right;\n",
       "    }\n",
       "</style>\n",
       "<table border=\"1\" class=\"dataframe\">\n",
       "  <thead>\n",
       "    <tr style=\"text-align: right;\">\n",
       "      <th></th>\n",
       "      <th>sedimentary</th>\n",
       "      <th>igneous</th>\n",
       "      <th>metamorphic</th>\n",
       "    </tr>\n",
       "  </thead>\n",
       "  <tbody>\n",
       "    <tr>\n",
       "      <th>Nevada</th>\n",
       "      <td>0.957292</td>\n",
       "      <td>0.316033</td>\n",
       "      <td>0.309526</td>\n",
       "    </tr>\n",
       "    <tr>\n",
       "      <th>Montana</th>\n",
       "      <td>0.082874</td>\n",
       "      <td>0.264770</td>\n",
       "      <td>0.798408</td>\n",
       "    </tr>\n",
       "    <tr>\n",
       "      <th>Arizona</th>\n",
       "      <td>0.202045</td>\n",
       "      <td>0.293311</td>\n",
       "      <td>0.286367</td>\n",
       "    </tr>\n",
       "  </tbody>\n",
       "</table>\n",
       "</div>"
      ],
      "text/plain": [
       "         sedimentary   igneous  metamorphic\n",
       "Nevada      0.957292  0.316033     0.309526\n",
       "Montana     0.082874  0.264770     0.798408\n",
       "Arizona     0.202045  0.293311     0.286367"
      ]
     },
     "execution_count": 11,
     "metadata": {},
     "output_type": "execute_result"
    }
   ],
   "source": [
    "# generate a new DataFrame\n",
    "# note that index values (like the column labels) don't have to integers and don't have to be in order\n",
    "frame = pd.DataFrame(np.random.rand(3, 3), index=['Nevada','Montana','Arizona'], columns=['sedimentary','igneous','metamorphic'])\n",
    "frame"
   ]
  },
  {
   "cell_type": "markdown",
   "metadata": {},
   "source": [
    "We've seen `DataFrame` structures before in our tabular data files. The Earthquake catalog we were dealing with last week was a .csv (Comma Separated Variable) data file of all the earthquakes. We imported it as a DataFrame from the USGS API by setting up a query URL and using `pd.read_csv`. This time we'll look at the earthquakes of magnitude 2.5 and greater from the past week."
   ]
  },
  {
   "cell_type": "code",
   "execution_count": 12,
   "metadata": {
    "execution": {
     "iopub.execute_input": "2020-09-21T19:12:36.406534Z",
     "iopub.status.busy": "2020-09-21T19:12:36.406085Z",
     "iopub.status.idle": "2020-09-21T19:12:37.392409Z",
     "shell.execute_reply": "2020-09-21T19:12:37.392724Z"
    }
   },
   "outputs": [
    {
     "data": {
      "text/html": [
       "<div>\n",
       "<style scoped>\n",
       "    .dataframe tbody tr th:only-of-type {\n",
       "        vertical-align: middle;\n",
       "    }\n",
       "\n",
       "    .dataframe tbody tr th {\n",
       "        vertical-align: top;\n",
       "    }\n",
       "\n",
       "    .dataframe thead th {\n",
       "        text-align: right;\n",
       "    }\n",
       "</style>\n",
       "<table border=\"1\" class=\"dataframe\">\n",
       "  <thead>\n",
       "    <tr style=\"text-align: right;\">\n",
       "      <th></th>\n",
       "      <th>time</th>\n",
       "      <th>latitude</th>\n",
       "      <th>longitude</th>\n",
       "      <th>depth</th>\n",
       "      <th>mag</th>\n",
       "      <th>magType</th>\n",
       "      <th>nst</th>\n",
       "      <th>gap</th>\n",
       "      <th>dmin</th>\n",
       "      <th>rms</th>\n",
       "      <th>...</th>\n",
       "      <th>updated</th>\n",
       "      <th>place</th>\n",
       "      <th>type</th>\n",
       "      <th>horizontalError</th>\n",
       "      <th>depthError</th>\n",
       "      <th>magError</th>\n",
       "      <th>magNst</th>\n",
       "      <th>status</th>\n",
       "      <th>locationSource</th>\n",
       "      <th>magSource</th>\n",
       "    </tr>\n",
       "  </thead>\n",
       "  <tbody>\n",
       "    <tr>\n",
       "      <th>0</th>\n",
       "      <td>2020-09-11T07:35:57.894Z</td>\n",
       "      <td>-21.3928</td>\n",
       "      <td>-69.8943</td>\n",
       "      <td>51.00</td>\n",
       "      <td>6.3</td>\n",
       "      <td>mww</td>\n",
       "      <td>NaN</td>\n",
       "      <td>41.0</td>\n",
       "      <td>0.072</td>\n",
       "      <td>1.39</td>\n",
       "      <td>...</td>\n",
       "      <td>2020-09-13T08:04:13.078Z</td>\n",
       "      <td>83 km NNE of Tocopilla, Chile</td>\n",
       "      <td>earthquake</td>\n",
       "      <td>3.0</td>\n",
       "      <td>1.8</td>\n",
       "      <td>0.052</td>\n",
       "      <td>35.0</td>\n",
       "      <td>reviewed</td>\n",
       "      <td>us</td>\n",
       "      <td>us</td>\n",
       "    </tr>\n",
       "    <tr>\n",
       "      <th>1</th>\n",
       "      <td>2020-09-12T02:44:10.969Z</td>\n",
       "      <td>38.7591</td>\n",
       "      <td>142.2473</td>\n",
       "      <td>32.09</td>\n",
       "      <td>6.1</td>\n",
       "      <td>mww</td>\n",
       "      <td>NaN</td>\n",
       "      <td>47.0</td>\n",
       "      <td>2.223</td>\n",
       "      <td>0.95</td>\n",
       "      <td>...</td>\n",
       "      <td>2020-09-14T03:01:02.354Z</td>\n",
       "      <td>57 km SE of Ōfunato, Japan</td>\n",
       "      <td>earthquake</td>\n",
       "      <td>7.3</td>\n",
       "      <td>3.5</td>\n",
       "      <td>0.057</td>\n",
       "      <td>30.0</td>\n",
       "      <td>reviewed</td>\n",
       "      <td>us</td>\n",
       "      <td>us</td>\n",
       "    </tr>\n",
       "    <tr>\n",
       "      <th>2</th>\n",
       "      <td>2020-09-07T06:12:40.093Z</td>\n",
       "      <td>-17.0893</td>\n",
       "      <td>168.4760</td>\n",
       "      <td>10.00</td>\n",
       "      <td>6.0</td>\n",
       "      <td>mww</td>\n",
       "      <td>NaN</td>\n",
       "      <td>29.0</td>\n",
       "      <td>2.039</td>\n",
       "      <td>1.35</td>\n",
       "      <td>...</td>\n",
       "      <td>2020-09-09T06:35:29.105Z</td>\n",
       "      <td>73 km NNE of Port-Vila, Vanuatu</td>\n",
       "      <td>earthquake</td>\n",
       "      <td>5.7</td>\n",
       "      <td>1.7</td>\n",
       "      <td>0.098</td>\n",
       "      <td>10.0</td>\n",
       "      <td>reviewed</td>\n",
       "      <td>us</td>\n",
       "      <td>us</td>\n",
       "    </tr>\n",
       "    <tr>\n",
       "      <th>3</th>\n",
       "      <td>2020-09-08T00:45:20.952Z</td>\n",
       "      <td>-4.9124</td>\n",
       "      <td>129.7627</td>\n",
       "      <td>174.05</td>\n",
       "      <td>5.9</td>\n",
       "      <td>mww</td>\n",
       "      <td>NaN</td>\n",
       "      <td>12.0</td>\n",
       "      <td>3.173</td>\n",
       "      <td>0.78</td>\n",
       "      <td>...</td>\n",
       "      <td>2020-09-09T00:49:01.271Z</td>\n",
       "      <td>197 km SSE of Amahai, Indonesia</td>\n",
       "      <td>earthquake</td>\n",
       "      <td>6.4</td>\n",
       "      <td>3.6</td>\n",
       "      <td>0.086</td>\n",
       "      <td>13.0</td>\n",
       "      <td>reviewed</td>\n",
       "      <td>us</td>\n",
       "      <td>us</td>\n",
       "    </tr>\n",
       "    <tr>\n",
       "      <th>4</th>\n",
       "      <td>2020-09-12T08:34:27.387Z</td>\n",
       "      <td>-17.2562</td>\n",
       "      <td>167.6938</td>\n",
       "      <td>10.00</td>\n",
       "      <td>5.9</td>\n",
       "      <td>mww</td>\n",
       "      <td>NaN</td>\n",
       "      <td>64.0</td>\n",
       "      <td>1.859</td>\n",
       "      <td>0.77</td>\n",
       "      <td>...</td>\n",
       "      <td>2020-09-13T08:38:38.008Z</td>\n",
       "      <td>84 km NW of Port-Vila, Vanuatu</td>\n",
       "      <td>earthquake</td>\n",
       "      <td>5.4</td>\n",
       "      <td>1.6</td>\n",
       "      <td>0.086</td>\n",
       "      <td>13.0</td>\n",
       "      <td>reviewed</td>\n",
       "      <td>us</td>\n",
       "      <td>us</td>\n",
       "    </tr>\n",
       "  </tbody>\n",
       "</table>\n",
       "<p>5 rows × 22 columns</p>\n",
       "</div>"
      ],
      "text/plain": [
       "                       time  latitude  longitude   depth  mag magType  nst  \\\n",
       "0  2020-09-11T07:35:57.894Z  -21.3928   -69.8943   51.00  6.3     mww  NaN   \n",
       "1  2020-09-12T02:44:10.969Z   38.7591   142.2473   32.09  6.1     mww  NaN   \n",
       "2  2020-09-07T06:12:40.093Z  -17.0893   168.4760   10.00  6.0     mww  NaN   \n",
       "3  2020-09-08T00:45:20.952Z   -4.9124   129.7627  174.05  5.9     mww  NaN   \n",
       "4  2020-09-12T08:34:27.387Z  -17.2562   167.6938   10.00  5.9     mww  NaN   \n",
       "\n",
       "    gap   dmin   rms  ...                   updated  \\\n",
       "0  41.0  0.072  1.39  ...  2020-09-13T08:04:13.078Z   \n",
       "1  47.0  2.223  0.95  ...  2020-09-14T03:01:02.354Z   \n",
       "2  29.0  2.039  1.35  ...  2020-09-09T06:35:29.105Z   \n",
       "3  12.0  3.173  0.78  ...  2020-09-09T00:49:01.271Z   \n",
       "4  64.0  1.859  0.77  ...  2020-09-13T08:38:38.008Z   \n",
       "\n",
       "                             place        type horizontalError depthError  \\\n",
       "0    83 km NNE of Tocopilla, Chile  earthquake             3.0        1.8   \n",
       "1       57 km SE of Ōfunato, Japan  earthquake             7.3        3.5   \n",
       "2  73 km NNE of Port-Vila, Vanuatu  earthquake             5.7        1.7   \n",
       "3  197 km SSE of Amahai, Indonesia  earthquake             6.4        3.6   \n",
       "4   84 km NW of Port-Vila, Vanuatu  earthquake             5.4        1.6   \n",
       "\n",
       "   magError  magNst    status  locationSource magSource  \n",
       "0     0.052    35.0  reviewed              us        us  \n",
       "1     0.057    30.0  reviewed              us        us  \n",
       "2     0.098    10.0  reviewed              us        us  \n",
       "3     0.086    13.0  reviewed              us        us  \n",
       "4     0.086    13.0  reviewed              us        us  \n",
       "\n",
       "[5 rows x 22 columns]"
      ]
     },
     "execution_count": 12,
     "metadata": {},
     "output_type": "execute_result"
    }
   ],
   "source": [
    "start_day = '2020-09-07'\n",
    "end_day = '2020-09-14'\n",
    "standard_url = 'https://earthquake.usgs.gov/fdsnws/event/1/query?format=csv&orderby=magnitude'\n",
    "\n",
    "query_url = standard_url + '&starttime=' + start_day + '&endtime=' + end_day + '&minmagnitude=2.5'\n",
    "EQ_data = pd.read_csv(query_url)\n",
    "EQ_data .head()"
   ]
  },
  {
   "cell_type": "markdown",
   "metadata": {},
   "source": [
    "We have seen referencing individual columns (which are called `Series`) with: `DataFrame['Column_Name']`."
   ]
  },
  {
   "cell_type": "code",
   "execution_count": 13,
   "metadata": {
    "execution": {
     "iopub.execute_input": "2020-09-21T19:12:37.396952Z",
     "iopub.status.busy": "2020-09-21T19:12:37.396067Z",
     "iopub.status.idle": "2020-09-21T19:12:37.400312Z",
     "shell.execute_reply": "2020-09-21T19:12:37.399896Z"
    }
   },
   "outputs": [
    {
     "data": {
      "text/plain": [
       "0       51.00\n",
       "1       32.09\n",
       "2       10.00\n",
       "3      174.05\n",
       "4       10.00\n",
       "        ...  \n",
       "359      9.23\n",
       "360     19.60\n",
       "361      1.87\n",
       "362      6.90\n",
       "363     85.70\n",
       "Name: depth, Length: 364, dtype: float64"
      ]
     },
     "execution_count": 13,
     "metadata": {},
     "output_type": "execute_result"
    }
   ],
   "source": [
    "EQ_data['depth']"
   ]
  },
  {
   "cell_type": "markdown",
   "metadata": {},
   "source": [
    "The `.values` function can be used to return the values of the `Series` as a `nparray`, so without the labled index values of the `Series`."
   ]
  },
  {
   "cell_type": "code",
   "execution_count": 14,
   "metadata": {
    "execution": {
     "iopub.execute_input": "2020-09-21T19:12:37.403430Z",
     "iopub.status.busy": "2020-09-21T19:12:37.402942Z",
     "iopub.status.idle": "2020-09-21T19:12:37.405934Z",
     "shell.execute_reply": "2020-09-21T19:12:37.405416Z"
    }
   },
   "outputs": [
    {
     "name": "stdout",
     "output_type": "stream",
     "text": [
      "<class 'pandas.core.series.Series'>\n"
     ]
    }
   ],
   "source": [
    "print(type(EQ_data['depth']))"
   ]
  },
  {
   "cell_type": "code",
   "execution_count": 15,
   "metadata": {
    "execution": {
     "iopub.execute_input": "2020-09-21T19:12:37.412515Z",
     "iopub.status.busy": "2020-09-21T19:12:37.411900Z",
     "iopub.status.idle": "2020-09-21T19:12:37.414845Z",
     "shell.execute_reply": "2020-09-21T19:12:37.415184Z"
    }
   },
   "outputs": [
    {
     "data": {
      "text/plain": [
       "array([5.1000e+01, 3.2090e+01, 1.0000e+01, 1.7405e+02, 1.0000e+01,\n",
       "       1.8000e+01, 1.0000e+01, 1.0000e+01, 5.5657e+02, 1.0000e+01,\n",
       "       3.5000e+01, 4.3280e+01, 3.1090e+02, 1.3497e+02, 1.4081e+02,\n",
       "       5.5750e+01, 1.0000e+01, 1.0000e+01, 1.0000e+01, 5.8130e+01,\n",
       "       1.0000e+01, 9.8250e+01, 1.3161e+02, 1.0000e+01, 1.0000e+01,\n",
       "       1.0000e+01, 1.3131e+02, 1.4900e+01, 1.0000e+01, 7.2640e+01,\n",
       "       1.0000e+01, 4.1180e+01, 8.7260e+01, 3.5000e+01, 1.0000e+01,\n",
       "       1.0000e+01, 1.0000e+01, 1.0000e+01, 6.0190e+01, 1.3834e+02,\n",
       "       3.4320e+01, 2.4900e+01, 1.0000e+01, 1.0370e+02, 1.0000e+01,\n",
       "       4.1160e+01, 4.6839e+02, 1.0000e+01, 1.1292e+02, 1.3864e+02,\n",
       "       1.0000e+01, 1.0000e+01, 9.1600e+00, 1.0000e+01, 1.0000e+01,\n",
       "       1.0000e+01, 1.0000e+01, 6.7950e+01, 1.0000e+01, 8.4110e+01,\n",
       "       1.0000e+01, 1.0000e+01, 1.0000e+01, 1.0000e+01, 1.0000e+01,\n",
       "       1.0470e+01, 1.0000e+01, 7.7610e+01, 4.4440e+01, 1.0000e+01,\n",
       "       1.0000e+01, 1.2395e+02, 1.0000e+01, 7.4540e+01, 4.3080e+01,\n",
       "       3.5000e+01, 1.4690e+01, 1.4010e+01, 1.0000e+01, 1.0000e+01,\n",
       "       1.0000e+01, 1.0000e+01, 1.0000e+01, 2.1316e+02, 1.0000e+01,\n",
       "       1.5478e+02, 1.6725e+02, 6.2140e+01, 3.5000e+01, 1.0000e+01,\n",
       "       4.3800e+01, 9.5610e+01, 1.0401e+02, 2.4586e+02, 4.7130e+01,\n",
       "       7.4550e+01, 3.0870e+01, 5.3140e+01, 3.5000e+01, 2.0400e+01,\n",
       "       2.4988e+02, 1.0000e+01, 1.0000e+01, 4.3980e+01, 1.6290e+01,\n",
       "       2.9330e+01, 1.0000e+01, 1.0000e+01, 2.5010e+01, 1.8181e+02,\n",
       "       9.9330e+01, 1.0000e+01, 2.0520e+01, 1.0000e+01, 1.8800e+02,\n",
       "       1.8589e+02, 1.0000e+01, 1.0000e+01, 1.0000e+01, 3.7721e+02,\n",
       "       6.2410e+01, 7.8600e+01, 4.6310e+01, 4.7070e+01, 1.0000e+01,\n",
       "       2.6320e+01, 1.0000e+01, 4.0000e+01, 3.5000e+01, 5.3160e+01,\n",
       "       9.4700e+00, 2.7230e+01, 1.0000e+01, 6.0520e+02, 1.5339e+02,\n",
       "       1.0000e+01, 1.0000e+01, 1.7864e+02, 1.0000e+01, 2.2704e+02,\n",
       "       1.6563e+02, 6.4900e+01, 1.0000e+01, 1.2690e+02, 1.3770e+01,\n",
       "       1.2202e+02, 1.0000e+01, 4.2770e+01, 1.0862e+02, 1.2030e+02,\n",
       "       1.0000e+01, 7.1140e+01, 4.0090e+01, 3.7430e+01, 1.3680e+01,\n",
       "       1.9000e+01, 6.4040e+01, 9.3300e+00, 5.2798e+02, 3.9300e+00,\n",
       "       1.0000e+01, 4.0810e+01, 4.7660e+01, 1.0000e+01, 1.0000e+01,\n",
       "       1.0000e+01, 5.0000e+00, 5.3610e+01, 1.7153e+02, 2.9090e+01,\n",
       "       1.3972e+02, 4.8255e+02, 4.8990e+01, 3.1160e+01, 1.1844e+02,\n",
       "       1.7430e+01, 1.0000e+01, 6.3150e+01, 1.8810e+01, 1.0000e+01,\n",
       "       9.1010e+01, 8.2980e+01, 4.8296e+02, 7.7150e+01, 8.2140e+01,\n",
       "       1.0000e+01, 5.3945e+02, 5.0877e+02, 1.9863e+02, 5.9451e+02,\n",
       "       5.5661e+02, 3.1700e+01, 1.0000e+01, 1.8704e+02, 3.1700e+01,\n",
       "       2.3203e+02, 1.1808e+02, 4.6990e+01, 1.0000e+01, 1.0000e+01,\n",
       "       1.0000e+01, 7.8820e+01, 3.8000e+01, 3.7000e+01, 6.0000e+01,\n",
       "       3.3000e+01, 3.8000e+01, 3.7000e+01, 1.0000e+01, 1.0400e+01,\n",
       "       3.7000e+00, 3.2600e+01, 1.7520e+01, 2.0000e+01, 1.2900e+02,\n",
       "       4.5000e+01, 1.0100e+01, 3.5000e+01, 2.6500e+01, 1.8000e+00,\n",
       "       1.7280e+01, 1.9880e+01, 4.0000e+00, 5.0000e+00, 6.0000e+00,\n",
       "       1.3000e+01, 3.4800e+01, 1.1000e+01, 1.1000e+01, 2.3400e+00,\n",
       "       2.4280e+01, 1.0000e+01, 1.2000e+01, 5.3000e+01, 1.3000e+01,\n",
       "       8.3100e+01, 1.1130e+01, 5.3600e+01, 1.2000e+01, 1.6310e+01,\n",
       "       1.3000e+01, 6.0000e+00, 1.1000e+01, 1.4000e+01, 1.6240e+01,\n",
       "       5.0000e+00, 5.0000e+00, 1.0000e+01, 2.4840e+01, 3.2940e+01,\n",
       "       1.1000e+01, 6.0000e+00, 1.1000e+01, 1.3000e+01, 5.0000e+00,\n",
       "       1.0000e+01, 1.0000e+01, 2.1210e+01, 1.7400e+01, 9.0000e+00,\n",
       "       1.2000e+01, 6.8300e+00, 1.3000e+01, 8.0000e+00, 1.0000e+01,\n",
       "       1.3790e+01, 1.1000e+01, 1.2000e+01, 2.3490e+01, 8.0000e+00,\n",
       "       9.0000e+00, 1.0000e+01, 0.0000e+00, 1.4000e+01, 1.2750e+02,\n",
       "       1.4100e+01, 1.0000e+01, 4.8000e+00, 1.0000e+01, 1.0000e+01,\n",
       "       1.1000e+01, 5.5900e+00, 1.1000e+01, 1.4000e+01, 1.8800e+00,\n",
       "       3.1000e+00, 6.9600e+01, 0.0000e+00, 1.0000e+01, 3.5200e+01,\n",
       "       5.4000e-01, 7.3000e+00, 6.1000e+00, 1.0000e+01, 1.5000e+01,\n",
       "       1.8000e+01, 6.3500e+00, 6.9700e+00, 6.3800e+00, 1.0000e+01,\n",
       "       9.0000e+00, 1.8000e+01, 6.7800e+00, 1.5597e+02, 7.7000e+00,\n",
       "       2.6800e+01, 5.0000e+00, 9.1100e+01, 4.7000e+00, 2.4100e+00,\n",
       "       3.7000e+00, 1.9900e+01, 3.7300e+00, 1.8900e+00, 4.4100e+00,\n",
       "       1.4000e+01, 9.3500e+00, 1.1000e+01, 9.0000e+00, 1.3000e+01,\n",
       "       1.0000e+01, 2.1000e+01, 1.0000e+01, 6.9800e+00, 1.0000e+01,\n",
       "       1.1900e+00, 9.0000e+00, 1.2000e+01, 1.4000e+01, 7.5000e+00,\n",
       "       1.6000e+01, 1.2670e+01, 3.2200e+01, 1.4660e+02, 5.3000e+00,\n",
       "       1.0000e+01, 1.3350e+01, 1.1100e+01, 6.0000e+00, 0.0000e+00,\n",
       "       9.9300e+00, 3.9500e+00, 1.1000e+01, 2.2000e+01, 6.7500e+00,\n",
       "       1.1000e+01, 6.0000e+00, 1.2000e+00, 1.1000e+01, 1.3000e+01,\n",
       "       1.2000e+01, 3.2310e+01, 6.0000e+00, 1.6000e+01, 3.2800e+01,\n",
       "       1.3000e+01, 1.2400e+01, 1.0000e+01, 7.6000e+00, 9.2300e+00,\n",
       "       1.9600e+01, 1.8700e+00, 6.9000e+00, 8.5700e+01])"
      ]
     },
     "execution_count": 15,
     "metadata": {},
     "output_type": "execute_result"
    }
   ],
   "source": [
    "EQ_data['depth'].values"
   ]
  },
  {
   "cell_type": "code",
   "execution_count": 16,
   "metadata": {
    "execution": {
     "iopub.execute_input": "2020-09-21T19:12:37.418865Z",
     "iopub.status.busy": "2020-09-21T19:12:37.418190Z",
     "iopub.status.idle": "2020-09-21T19:12:37.423101Z",
     "shell.execute_reply": "2020-09-21T19:12:37.422553Z"
    }
   },
   "outputs": [
    {
     "data": {
      "text/plain": [
       "numpy.ndarray"
      ]
     },
     "execution_count": 16,
     "metadata": {},
     "output_type": "execute_result"
    }
   ],
   "source": [
    "type(EQ_data['depth'].values)"
   ]
  },
  {
   "cell_type": "markdown",
   "metadata": {},
   "source": [
    "## Indexing and Slicing\n",
    "\n",
    "Arrays and dataframes have two axes of indices, rows and columns. Remember that python indexing starts at zero, and the end bounds are generally exclusive.\n",
    "\n",
    "![indices](./figures/indices.png)\n",
    "> Source: Python for Data Analysis (2nd Edition) McKinney, W.\n",
    "\n",
    "<br>\n",
    "\n",
    "Using square brackes we can select subsections of tables to work with:\n",
    "\n",
    "![slicing](./figures/array_slicing.png)\n",
    "> Source: Python for Data Analysis (2nd Edition) McKinney, W."
   ]
  },
  {
   "cell_type": "code",
   "execution_count": 17,
   "metadata": {
    "execution": {
     "iopub.execute_input": "2020-09-21T19:12:37.427247Z",
     "iopub.status.busy": "2020-09-21T19:12:37.426657Z",
     "iopub.status.idle": "2020-09-21T19:12:37.429515Z",
     "shell.execute_reply": "2020-09-21T19:12:37.429892Z"
    }
   },
   "outputs": [
    {
     "data": {
      "text/plain": [
       "array([[-0.42212432,  1.36775786,  1.71550924, -0.34406339,  1.12100016],\n",
       "       [-0.83061044, -1.24588727, -0.39427377, -0.75163205, -0.29234728],\n",
       "       [-1.89194768,  1.03075778, -1.93480724,  0.92583697,  0.21631535],\n",
       "       [-1.1259434 , -1.20833087,  0.24744768, -0.1492395 ,  1.22568644],\n",
       "       [ 0.52930911,  1.22032587, -0.83248491,  0.83262339,  0.16247186],\n",
       "       [-1.13800243,  1.63503788,  0.64657434, -0.3032643 ,  0.32287803],\n",
       "       [-1.55953228,  0.66792238, -0.63692083,  1.25769997,  1.19530172],\n",
       "       [-0.01210702,  0.53972822,  1.38721247, -0.56074732, -0.03465095],\n",
       "       [ 0.24898114, -0.86383158,  0.28058561,  1.19930519, -0.74860773],\n",
       "       [-0.20152854, -0.71699968,  0.0664846 , -0.5781397 , -0.60216718]])"
      ]
     },
     "execution_count": 17,
     "metadata": {},
     "output_type": "execute_result"
    }
   ],
   "source": [
    "# generate a random array\n",
    "arr_data = np.random.randn(10,5)\n",
    "arr_data"
   ]
  },
  {
   "cell_type": "markdown",
   "metadata": {},
   "source": [
    "**slice out the first 3 rows of arr_data**"
   ]
  },
  {
   "cell_type": "code",
   "execution_count": 18,
   "metadata": {
    "execution": {
     "iopub.execute_input": "2020-09-21T19:12:37.433404Z",
     "iopub.status.busy": "2020-09-21T19:12:37.432891Z",
     "iopub.status.idle": "2020-09-21T19:12:37.435465Z",
     "shell.execute_reply": "2020-09-21T19:12:37.435794Z"
    }
   },
   "outputs": [
    {
     "data": {
      "text/plain": [
       "array([[-0.42212432,  1.36775786,  1.71550924, -0.34406339,  1.12100016],\n",
       "       [-0.83061044, -1.24588727, -0.39427377, -0.75163205, -0.29234728],\n",
       "       [-1.89194768,  1.03075778, -1.93480724,  0.92583697,  0.21631535]])"
      ]
     },
     "execution_count": 18,
     "metadata": {},
     "output_type": "execute_result"
    }
   ],
   "source": [
    "a = arr_data[:3]\n",
    "a"
   ]
  },
  {
   "cell_type": "markdown",
   "metadata": {},
   "source": [
    "**slice out the last 2 columns of arr_data**"
   ]
  },
  {
   "cell_type": "code",
   "execution_count": 19,
   "metadata": {
    "execution": {
     "iopub.execute_input": "2020-09-21T19:12:37.439531Z",
     "iopub.status.busy": "2020-09-21T19:12:37.439038Z",
     "iopub.status.idle": "2020-09-21T19:12:37.441552Z",
     "shell.execute_reply": "2020-09-21T19:12:37.441880Z"
    }
   },
   "outputs": [
    {
     "data": {
      "text/plain": [
       "array([[-0.34406339,  1.12100016],\n",
       "       [-0.75163205, -0.29234728],\n",
       "       [ 0.92583697,  0.21631535],\n",
       "       [-0.1492395 ,  1.22568644],\n",
       "       [ 0.83262339,  0.16247186],\n",
       "       [-0.3032643 ,  0.32287803],\n",
       "       [ 1.25769997,  1.19530172],\n",
       "       [-0.56074732, -0.03465095],\n",
       "       [ 1.19930519, -0.74860773],\n",
       "       [-0.5781397 , -0.60216718]])"
      ]
     },
     "execution_count": 19,
     "metadata": {},
     "output_type": "execute_result"
    }
   ],
   "source": [
    "b = arr_data[:,-2:]  \n",
    "b"
   ]
  },
  {
   "cell_type": "code",
   "execution_count": 20,
   "metadata": {
    "execution": {
     "iopub.execute_input": "2020-09-21T19:12:37.445463Z",
     "iopub.status.busy": "2020-09-21T19:12:37.444961Z",
     "iopub.status.idle": "2020-09-21T19:12:37.447498Z",
     "shell.execute_reply": "2020-09-21T19:12:37.447826Z"
    }
   },
   "outputs": [
    {
     "data": {
      "text/plain": [
       "array([[-0.34406339,  1.12100016],\n",
       "       [-0.75163205, -0.29234728],\n",
       "       [ 0.92583697,  0.21631535],\n",
       "       [-0.1492395 ,  1.22568644],\n",
       "       [ 0.83262339,  0.16247186],\n",
       "       [-0.3032643 ,  0.32287803],\n",
       "       [ 1.25769997,  1.19530172],\n",
       "       [-0.56074732, -0.03465095],\n",
       "       [ 1.19930519, -0.74860773],\n",
       "       [-0.5781397 , -0.60216718]])"
      ]
     },
     "execution_count": 20,
     "metadata": {},
     "output_type": "execute_result"
    }
   ],
   "source": [
    "#Or this works too\n",
    "b = arr_data[:,3:] \n",
    "b"
   ]
  },
  {
   "cell_type": "markdown",
   "metadata": {},
   "source": [
    "Slicing a `DataFrame` is a bit different because you can reference the index labels and use `.iloc`.\n",
    "\n",
    "**slice out the first 10 rows of EQ_data**"
   ]
  },
  {
   "cell_type": "code",
   "execution_count": 21,
   "metadata": {
    "execution": {
     "iopub.execute_input": "2020-09-21T19:12:37.469214Z",
     "iopub.status.busy": "2020-09-21T19:12:37.468732Z",
     "iopub.status.idle": "2020-09-21T19:12:37.472455Z",
     "shell.execute_reply": "2020-09-21T19:12:37.472024Z"
    }
   },
   "outputs": [
    {
     "data": {
      "text/html": [
       "<div>\n",
       "<style scoped>\n",
       "    .dataframe tbody tr th:only-of-type {\n",
       "        vertical-align: middle;\n",
       "    }\n",
       "\n",
       "    .dataframe tbody tr th {\n",
       "        vertical-align: top;\n",
       "    }\n",
       "\n",
       "    .dataframe thead th {\n",
       "        text-align: right;\n",
       "    }\n",
       "</style>\n",
       "<table border=\"1\" class=\"dataframe\">\n",
       "  <thead>\n",
       "    <tr style=\"text-align: right;\">\n",
       "      <th></th>\n",
       "      <th>time</th>\n",
       "      <th>latitude</th>\n",
       "      <th>longitude</th>\n",
       "      <th>depth</th>\n",
       "      <th>mag</th>\n",
       "      <th>magType</th>\n",
       "      <th>nst</th>\n",
       "      <th>gap</th>\n",
       "      <th>dmin</th>\n",
       "      <th>rms</th>\n",
       "      <th>...</th>\n",
       "      <th>updated</th>\n",
       "      <th>place</th>\n",
       "      <th>type</th>\n",
       "      <th>horizontalError</th>\n",
       "      <th>depthError</th>\n",
       "      <th>magError</th>\n",
       "      <th>magNst</th>\n",
       "      <th>status</th>\n",
       "      <th>locationSource</th>\n",
       "      <th>magSource</th>\n",
       "    </tr>\n",
       "  </thead>\n",
       "  <tbody>\n",
       "    <tr>\n",
       "      <th>0</th>\n",
       "      <td>2020-09-11T07:35:57.894Z</td>\n",
       "      <td>-21.3928</td>\n",
       "      <td>-69.8943</td>\n",
       "      <td>51.00</td>\n",
       "      <td>6.3</td>\n",
       "      <td>mww</td>\n",
       "      <td>NaN</td>\n",
       "      <td>41.0</td>\n",
       "      <td>0.072</td>\n",
       "      <td>1.39</td>\n",
       "      <td>...</td>\n",
       "      <td>2020-09-13T08:04:13.078Z</td>\n",
       "      <td>83 km NNE of Tocopilla, Chile</td>\n",
       "      <td>earthquake</td>\n",
       "      <td>3.0</td>\n",
       "      <td>1.8</td>\n",
       "      <td>0.052</td>\n",
       "      <td>35.0</td>\n",
       "      <td>reviewed</td>\n",
       "      <td>us</td>\n",
       "      <td>us</td>\n",
       "    </tr>\n",
       "    <tr>\n",
       "      <th>1</th>\n",
       "      <td>2020-09-12T02:44:10.969Z</td>\n",
       "      <td>38.7591</td>\n",
       "      <td>142.2473</td>\n",
       "      <td>32.09</td>\n",
       "      <td>6.1</td>\n",
       "      <td>mww</td>\n",
       "      <td>NaN</td>\n",
       "      <td>47.0</td>\n",
       "      <td>2.223</td>\n",
       "      <td>0.95</td>\n",
       "      <td>...</td>\n",
       "      <td>2020-09-14T03:01:02.354Z</td>\n",
       "      <td>57 km SE of Ōfunato, Japan</td>\n",
       "      <td>earthquake</td>\n",
       "      <td>7.3</td>\n",
       "      <td>3.5</td>\n",
       "      <td>0.057</td>\n",
       "      <td>30.0</td>\n",
       "      <td>reviewed</td>\n",
       "      <td>us</td>\n",
       "      <td>us</td>\n",
       "    </tr>\n",
       "    <tr>\n",
       "      <th>2</th>\n",
       "      <td>2020-09-07T06:12:40.093Z</td>\n",
       "      <td>-17.0893</td>\n",
       "      <td>168.4760</td>\n",
       "      <td>10.00</td>\n",
       "      <td>6.0</td>\n",
       "      <td>mww</td>\n",
       "      <td>NaN</td>\n",
       "      <td>29.0</td>\n",
       "      <td>2.039</td>\n",
       "      <td>1.35</td>\n",
       "      <td>...</td>\n",
       "      <td>2020-09-09T06:35:29.105Z</td>\n",
       "      <td>73 km NNE of Port-Vila, Vanuatu</td>\n",
       "      <td>earthquake</td>\n",
       "      <td>5.7</td>\n",
       "      <td>1.7</td>\n",
       "      <td>0.098</td>\n",
       "      <td>10.0</td>\n",
       "      <td>reviewed</td>\n",
       "      <td>us</td>\n",
       "      <td>us</td>\n",
       "    </tr>\n",
       "    <tr>\n",
       "      <th>3</th>\n",
       "      <td>2020-09-08T00:45:20.952Z</td>\n",
       "      <td>-4.9124</td>\n",
       "      <td>129.7627</td>\n",
       "      <td>174.05</td>\n",
       "      <td>5.9</td>\n",
       "      <td>mww</td>\n",
       "      <td>NaN</td>\n",
       "      <td>12.0</td>\n",
       "      <td>3.173</td>\n",
       "      <td>0.78</td>\n",
       "      <td>...</td>\n",
       "      <td>2020-09-09T00:49:01.271Z</td>\n",
       "      <td>197 km SSE of Amahai, Indonesia</td>\n",
       "      <td>earthquake</td>\n",
       "      <td>6.4</td>\n",
       "      <td>3.6</td>\n",
       "      <td>0.086</td>\n",
       "      <td>13.0</td>\n",
       "      <td>reviewed</td>\n",
       "      <td>us</td>\n",
       "      <td>us</td>\n",
       "    </tr>\n",
       "    <tr>\n",
       "      <th>4</th>\n",
       "      <td>2020-09-12T08:34:27.387Z</td>\n",
       "      <td>-17.2562</td>\n",
       "      <td>167.6938</td>\n",
       "      <td>10.00</td>\n",
       "      <td>5.9</td>\n",
       "      <td>mww</td>\n",
       "      <td>NaN</td>\n",
       "      <td>64.0</td>\n",
       "      <td>1.859</td>\n",
       "      <td>0.77</td>\n",
       "      <td>...</td>\n",
       "      <td>2020-09-13T08:38:38.008Z</td>\n",
       "      <td>84 km NW of Port-Vila, Vanuatu</td>\n",
       "      <td>earthquake</td>\n",
       "      <td>5.4</td>\n",
       "      <td>1.6</td>\n",
       "      <td>0.086</td>\n",
       "      <td>13.0</td>\n",
       "      <td>reviewed</td>\n",
       "      <td>us</td>\n",
       "      <td>us</td>\n",
       "    </tr>\n",
       "    <tr>\n",
       "      <th>5</th>\n",
       "      <td>2020-09-09T07:18:40.873Z</td>\n",
       "      <td>4.2064</td>\n",
       "      <td>126.6394</td>\n",
       "      <td>18.00</td>\n",
       "      <td>5.8</td>\n",
       "      <td>mww</td>\n",
       "      <td>NaN</td>\n",
       "      <td>32.0</td>\n",
       "      <td>3.033</td>\n",
       "      <td>1.61</td>\n",
       "      <td>...</td>\n",
       "      <td>2020-09-11T18:42:17.040Z</td>\n",
       "      <td>185 km SE of Sarangani, Philippines</td>\n",
       "      <td>earthquake</td>\n",
       "      <td>4.1</td>\n",
       "      <td>3.1</td>\n",
       "      <td>0.053</td>\n",
       "      <td>34.0</td>\n",
       "      <td>reviewed</td>\n",
       "      <td>us</td>\n",
       "      <td>us</td>\n",
       "    </tr>\n",
       "    <tr>\n",
       "      <th>6</th>\n",
       "      <td>2020-09-07T06:29:15.325Z</td>\n",
       "      <td>-17.1714</td>\n",
       "      <td>168.4770</td>\n",
       "      <td>10.00</td>\n",
       "      <td>5.7</td>\n",
       "      <td>mww</td>\n",
       "      <td>NaN</td>\n",
       "      <td>38.0</td>\n",
       "      <td>2.106</td>\n",
       "      <td>1.10</td>\n",
       "      <td>...</td>\n",
       "      <td>2020-09-08T06:32:55.273Z</td>\n",
       "      <td>64 km NNE of Port-Vila, Vanuatu</td>\n",
       "      <td>earthquake</td>\n",
       "      <td>7.2</td>\n",
       "      <td>1.7</td>\n",
       "      <td>0.050</td>\n",
       "      <td>38.0</td>\n",
       "      <td>reviewed</td>\n",
       "      <td>us</td>\n",
       "      <td>us</td>\n",
       "    </tr>\n",
       "    <tr>\n",
       "      <th>7</th>\n",
       "      <td>2020-09-07T17:40:44.171Z</td>\n",
       "      <td>-24.5120</td>\n",
       "      <td>-111.9898</td>\n",
       "      <td>10.00</td>\n",
       "      <td>5.6</td>\n",
       "      <td>mww</td>\n",
       "      <td>NaN</td>\n",
       "      <td>34.0</td>\n",
       "      <td>3.500</td>\n",
       "      <td>1.10</td>\n",
       "      <td>...</td>\n",
       "      <td>2020-09-11T16:20:37.144Z</td>\n",
       "      <td>Easter Island region</td>\n",
       "      <td>earthquake</td>\n",
       "      <td>10.2</td>\n",
       "      <td>1.8</td>\n",
       "      <td>0.066</td>\n",
       "      <td>22.0</td>\n",
       "      <td>reviewed</td>\n",
       "      <td>us</td>\n",
       "      <td>us</td>\n",
       "    </tr>\n",
       "    <tr>\n",
       "      <th>8</th>\n",
       "      <td>2020-09-12T02:37:29.712Z</td>\n",
       "      <td>-17.8809</td>\n",
       "      <td>-178.0547</td>\n",
       "      <td>556.57</td>\n",
       "      <td>5.6</td>\n",
       "      <td>mww</td>\n",
       "      <td>NaN</td>\n",
       "      <td>36.0</td>\n",
       "      <td>3.553</td>\n",
       "      <td>1.10</td>\n",
       "      <td>...</td>\n",
       "      <td>2020-09-13T02:41:07.273Z</td>\n",
       "      <td>279 km E of Levuka, Fiji</td>\n",
       "      <td>earthquake</td>\n",
       "      <td>8.9</td>\n",
       "      <td>6.4</td>\n",
       "      <td>0.089</td>\n",
       "      <td>12.0</td>\n",
       "      <td>reviewed</td>\n",
       "      <td>us</td>\n",
       "      <td>us</td>\n",
       "    </tr>\n",
       "    <tr>\n",
       "      <th>9</th>\n",
       "      <td>2020-09-08T08:28:51.109Z</td>\n",
       "      <td>-15.1768</td>\n",
       "      <td>-172.9244</td>\n",
       "      <td>10.00</td>\n",
       "      <td>5.4</td>\n",
       "      <td>mww</td>\n",
       "      <td>NaN</td>\n",
       "      <td>122.0</td>\n",
       "      <td>1.676</td>\n",
       "      <td>1.67</td>\n",
       "      <td>...</td>\n",
       "      <td>2020-09-09T08:32:27.606Z</td>\n",
       "      <td>127 km NE of Hihifo, Tonga</td>\n",
       "      <td>earthquake</td>\n",
       "      <td>9.9</td>\n",
       "      <td>2.0</td>\n",
       "      <td>0.098</td>\n",
       "      <td>10.0</td>\n",
       "      <td>reviewed</td>\n",
       "      <td>us</td>\n",
       "      <td>us</td>\n",
       "    </tr>\n",
       "  </tbody>\n",
       "</table>\n",
       "<p>10 rows × 22 columns</p>\n",
       "</div>"
      ],
      "text/plain": [
       "                       time  latitude  longitude   depth  mag magType  nst  \\\n",
       "0  2020-09-11T07:35:57.894Z  -21.3928   -69.8943   51.00  6.3     mww  NaN   \n",
       "1  2020-09-12T02:44:10.969Z   38.7591   142.2473   32.09  6.1     mww  NaN   \n",
       "2  2020-09-07T06:12:40.093Z  -17.0893   168.4760   10.00  6.0     mww  NaN   \n",
       "3  2020-09-08T00:45:20.952Z   -4.9124   129.7627  174.05  5.9     mww  NaN   \n",
       "4  2020-09-12T08:34:27.387Z  -17.2562   167.6938   10.00  5.9     mww  NaN   \n",
       "5  2020-09-09T07:18:40.873Z    4.2064   126.6394   18.00  5.8     mww  NaN   \n",
       "6  2020-09-07T06:29:15.325Z  -17.1714   168.4770   10.00  5.7     mww  NaN   \n",
       "7  2020-09-07T17:40:44.171Z  -24.5120  -111.9898   10.00  5.6     mww  NaN   \n",
       "8  2020-09-12T02:37:29.712Z  -17.8809  -178.0547  556.57  5.6     mww  NaN   \n",
       "9  2020-09-08T08:28:51.109Z  -15.1768  -172.9244   10.00  5.4     mww  NaN   \n",
       "\n",
       "     gap   dmin   rms  ...                   updated  \\\n",
       "0   41.0  0.072  1.39  ...  2020-09-13T08:04:13.078Z   \n",
       "1   47.0  2.223  0.95  ...  2020-09-14T03:01:02.354Z   \n",
       "2   29.0  2.039  1.35  ...  2020-09-09T06:35:29.105Z   \n",
       "3   12.0  3.173  0.78  ...  2020-09-09T00:49:01.271Z   \n",
       "4   64.0  1.859  0.77  ...  2020-09-13T08:38:38.008Z   \n",
       "5   32.0  3.033  1.61  ...  2020-09-11T18:42:17.040Z   \n",
       "6   38.0  2.106  1.10  ...  2020-09-08T06:32:55.273Z   \n",
       "7   34.0  3.500  1.10  ...  2020-09-11T16:20:37.144Z   \n",
       "8   36.0  3.553  1.10  ...  2020-09-13T02:41:07.273Z   \n",
       "9  122.0  1.676  1.67  ...  2020-09-09T08:32:27.606Z   \n",
       "\n",
       "                                 place        type horizontalError depthError  \\\n",
       "0        83 km NNE of Tocopilla, Chile  earthquake             3.0        1.8   \n",
       "1           57 km SE of Ōfunato, Japan  earthquake             7.3        3.5   \n",
       "2      73 km NNE of Port-Vila, Vanuatu  earthquake             5.7        1.7   \n",
       "3      197 km SSE of Amahai, Indonesia  earthquake             6.4        3.6   \n",
       "4       84 km NW of Port-Vila, Vanuatu  earthquake             5.4        1.6   \n",
       "5  185 km SE of Sarangani, Philippines  earthquake             4.1        3.1   \n",
       "6      64 km NNE of Port-Vila, Vanuatu  earthquake             7.2        1.7   \n",
       "7                 Easter Island region  earthquake            10.2        1.8   \n",
       "8             279 km E of Levuka, Fiji  earthquake             8.9        6.4   \n",
       "9           127 km NE of Hihifo, Tonga  earthquake             9.9        2.0   \n",
       "\n",
       "   magError  magNst    status  locationSource magSource  \n",
       "0     0.052    35.0  reviewed              us        us  \n",
       "1     0.057    30.0  reviewed              us        us  \n",
       "2     0.098    10.0  reviewed              us        us  \n",
       "3     0.086    13.0  reviewed              us        us  \n",
       "4     0.086    13.0  reviewed              us        us  \n",
       "5     0.053    34.0  reviewed              us        us  \n",
       "6     0.050    38.0  reviewed              us        us  \n",
       "7     0.066    22.0  reviewed              us        us  \n",
       "8     0.089    12.0  reviewed              us        us  \n",
       "9     0.098    10.0  reviewed              us        us  \n",
       "\n",
       "[10 rows x 22 columns]"
      ]
     },
     "execution_count": 21,
     "metadata": {},
     "output_type": "execute_result"
    }
   ],
   "source": [
    "EQ_data.iloc[:10]"
   ]
  },
  {
   "cell_type": "markdown",
   "metadata": {},
   "source": [
    "**slice out the a chunk of depths starting at index 5 and up to (but excluding) index 10**"
   ]
  },
  {
   "cell_type": "code",
   "execution_count": 22,
   "metadata": {
    "execution": {
     "iopub.execute_input": "2020-09-21T19:12:37.476825Z",
     "iopub.status.busy": "2020-09-21T19:12:37.476242Z",
     "iopub.status.idle": "2020-09-21T19:12:37.479315Z",
     "shell.execute_reply": "2020-09-21T19:12:37.479638Z"
    }
   },
   "outputs": [
    {
     "data": {
      "text/plain": [
       "5     18.00\n",
       "6     10.00\n",
       "7     10.00\n",
       "8    556.57\n",
       "9     10.00\n",
       "Name: depth, dtype: float64"
      ]
     },
     "execution_count": 22,
     "metadata": {},
     "output_type": "execute_result"
    }
   ],
   "source": [
    "EQ_data.iloc[5:10]['depth']"
   ]
  },
  {
   "cell_type": "markdown",
   "metadata": {},
   "source": [
    "Notice that this is still a `Series` with corresponding index values. If you just want the values from that chunk and not the index labels use `.values`."
   ]
  },
  {
   "cell_type": "code",
   "execution_count": 23,
   "metadata": {
    "execution": {
     "iopub.execute_input": "2020-09-21T19:12:37.483632Z",
     "iopub.status.busy": "2020-09-21T19:12:37.483075Z",
     "iopub.status.idle": "2020-09-21T19:12:37.485746Z",
     "shell.execute_reply": "2020-09-21T19:12:37.486074Z"
    }
   },
   "outputs": [
    {
     "data": {
      "text/plain": [
       "array([ 18.  ,  10.  ,  10.  , 556.57,  10.  ])"
      ]
     },
     "execution_count": 23,
     "metadata": {},
     "output_type": "execute_result"
    }
   ],
   "source": [
    "EQ_data.iloc[5:10]['depth'].values"
   ]
  },
  {
   "cell_type": "markdown",
   "metadata": {},
   "source": [
    "## Boolean Indexing\n",
    "\n",
    "We can use Boolean (i.e. logical) indexing to select values from our DataFrame where the argument we want is `True`. You'll use the logical symbols (`<`,`>`,`==`,`&`,`|`,`~`)."
   ]
  },
  {
   "cell_type": "markdown",
   "metadata": {},
   "source": [
    "**Use Boolean Indexing to filter out data so that we are only looking at rows with magnitudes larger than or equal to 6.0**"
   ]
  },
  {
   "cell_type": "code",
   "execution_count": 24,
   "metadata": {
    "execution": {
     "iopub.execute_input": "2020-09-21T19:12:37.504355Z",
     "iopub.status.busy": "2020-09-21T19:12:37.503856Z",
     "iopub.status.idle": "2020-09-21T19:12:37.507189Z",
     "shell.execute_reply": "2020-09-21T19:12:37.506798Z"
    }
   },
   "outputs": [
    {
     "data": {
      "text/html": [
       "<div>\n",
       "<style scoped>\n",
       "    .dataframe tbody tr th:only-of-type {\n",
       "        vertical-align: middle;\n",
       "    }\n",
       "\n",
       "    .dataframe tbody tr th {\n",
       "        vertical-align: top;\n",
       "    }\n",
       "\n",
       "    .dataframe thead th {\n",
       "        text-align: right;\n",
       "    }\n",
       "</style>\n",
       "<table border=\"1\" class=\"dataframe\">\n",
       "  <thead>\n",
       "    <tr style=\"text-align: right;\">\n",
       "      <th></th>\n",
       "      <th>time</th>\n",
       "      <th>latitude</th>\n",
       "      <th>longitude</th>\n",
       "      <th>depth</th>\n",
       "      <th>mag</th>\n",
       "      <th>magType</th>\n",
       "      <th>nst</th>\n",
       "      <th>gap</th>\n",
       "      <th>dmin</th>\n",
       "      <th>rms</th>\n",
       "      <th>...</th>\n",
       "      <th>updated</th>\n",
       "      <th>place</th>\n",
       "      <th>type</th>\n",
       "      <th>horizontalError</th>\n",
       "      <th>depthError</th>\n",
       "      <th>magError</th>\n",
       "      <th>magNst</th>\n",
       "      <th>status</th>\n",
       "      <th>locationSource</th>\n",
       "      <th>magSource</th>\n",
       "    </tr>\n",
       "  </thead>\n",
       "  <tbody>\n",
       "    <tr>\n",
       "      <th>0</th>\n",
       "      <td>2020-09-11T07:35:57.894Z</td>\n",
       "      <td>-21.3928</td>\n",
       "      <td>-69.8943</td>\n",
       "      <td>51.00</td>\n",
       "      <td>6.3</td>\n",
       "      <td>mww</td>\n",
       "      <td>NaN</td>\n",
       "      <td>41.0</td>\n",
       "      <td>0.072</td>\n",
       "      <td>1.39</td>\n",
       "      <td>...</td>\n",
       "      <td>2020-09-13T08:04:13.078Z</td>\n",
       "      <td>83 km NNE of Tocopilla, Chile</td>\n",
       "      <td>earthquake</td>\n",
       "      <td>3.0</td>\n",
       "      <td>1.8</td>\n",
       "      <td>0.052</td>\n",
       "      <td>35.0</td>\n",
       "      <td>reviewed</td>\n",
       "      <td>us</td>\n",
       "      <td>us</td>\n",
       "    </tr>\n",
       "    <tr>\n",
       "      <th>1</th>\n",
       "      <td>2020-09-12T02:44:10.969Z</td>\n",
       "      <td>38.7591</td>\n",
       "      <td>142.2473</td>\n",
       "      <td>32.09</td>\n",
       "      <td>6.1</td>\n",
       "      <td>mww</td>\n",
       "      <td>NaN</td>\n",
       "      <td>47.0</td>\n",
       "      <td>2.223</td>\n",
       "      <td>0.95</td>\n",
       "      <td>...</td>\n",
       "      <td>2020-09-14T03:01:02.354Z</td>\n",
       "      <td>57 km SE of Ōfunato, Japan</td>\n",
       "      <td>earthquake</td>\n",
       "      <td>7.3</td>\n",
       "      <td>3.5</td>\n",
       "      <td>0.057</td>\n",
       "      <td>30.0</td>\n",
       "      <td>reviewed</td>\n",
       "      <td>us</td>\n",
       "      <td>us</td>\n",
       "    </tr>\n",
       "    <tr>\n",
       "      <th>2</th>\n",
       "      <td>2020-09-07T06:12:40.093Z</td>\n",
       "      <td>-17.0893</td>\n",
       "      <td>168.4760</td>\n",
       "      <td>10.00</td>\n",
       "      <td>6.0</td>\n",
       "      <td>mww</td>\n",
       "      <td>NaN</td>\n",
       "      <td>29.0</td>\n",
       "      <td>2.039</td>\n",
       "      <td>1.35</td>\n",
       "      <td>...</td>\n",
       "      <td>2020-09-09T06:35:29.105Z</td>\n",
       "      <td>73 km NNE of Port-Vila, Vanuatu</td>\n",
       "      <td>earthquake</td>\n",
       "      <td>5.7</td>\n",
       "      <td>1.7</td>\n",
       "      <td>0.098</td>\n",
       "      <td>10.0</td>\n",
       "      <td>reviewed</td>\n",
       "      <td>us</td>\n",
       "      <td>us</td>\n",
       "    </tr>\n",
       "  </tbody>\n",
       "</table>\n",
       "<p>3 rows × 22 columns</p>\n",
       "</div>"
      ],
      "text/plain": [
       "                       time  latitude  longitude  depth  mag magType  nst  \\\n",
       "0  2020-09-11T07:35:57.894Z  -21.3928   -69.8943  51.00  6.3     mww  NaN   \n",
       "1  2020-09-12T02:44:10.969Z   38.7591   142.2473  32.09  6.1     mww  NaN   \n",
       "2  2020-09-07T06:12:40.093Z  -17.0893   168.4760  10.00  6.0     mww  NaN   \n",
       "\n",
       "    gap   dmin   rms  ...                   updated  \\\n",
       "0  41.0  0.072  1.39  ...  2020-09-13T08:04:13.078Z   \n",
       "1  47.0  2.223  0.95  ...  2020-09-14T03:01:02.354Z   \n",
       "2  29.0  2.039  1.35  ...  2020-09-09T06:35:29.105Z   \n",
       "\n",
       "                             place        type horizontalError depthError  \\\n",
       "0    83 km NNE of Tocopilla, Chile  earthquake             3.0        1.8   \n",
       "1       57 km SE of Ōfunato, Japan  earthquake             7.3        3.5   \n",
       "2  73 km NNE of Port-Vila, Vanuatu  earthquake             5.7        1.7   \n",
       "\n",
       "   magError  magNst    status  locationSource magSource  \n",
       "0     0.052    35.0  reviewed              us        us  \n",
       "1     0.057    30.0  reviewed              us        us  \n",
       "2     0.098    10.0  reviewed              us        us  \n",
       "\n",
       "[3 rows x 22 columns]"
      ]
     },
     "execution_count": 24,
     "metadata": {},
     "output_type": "execute_result"
    }
   ],
   "source": [
    "EQ_data[EQ_data['mag']>=6.0]"
   ]
  },
  {
   "cell_type": "markdown",
   "metadata": {},
   "source": [
    "## Sorting\n",
    "\n",
    "DataFrames can be sorted by the values in a given column (`.sort_values`)."
   ]
  },
  {
   "cell_type": "code",
   "execution_count": 25,
   "metadata": {
    "execution": {
     "iopub.execute_input": "2020-09-21T19:12:37.526877Z",
     "iopub.status.busy": "2020-09-21T19:12:37.526377Z",
     "iopub.status.idle": "2020-09-21T19:12:37.529333Z",
     "shell.execute_reply": "2020-09-21T19:12:37.529643Z"
    }
   },
   "outputs": [
    {
     "data": {
      "text/html": [
       "<div>\n",
       "<style scoped>\n",
       "    .dataframe tbody tr th:only-of-type {\n",
       "        vertical-align: middle;\n",
       "    }\n",
       "\n",
       "    .dataframe tbody tr th {\n",
       "        vertical-align: top;\n",
       "    }\n",
       "\n",
       "    .dataframe thead th {\n",
       "        text-align: right;\n",
       "    }\n",
       "</style>\n",
       "<table border=\"1\" class=\"dataframe\">\n",
       "  <thead>\n",
       "    <tr style=\"text-align: right;\">\n",
       "      <th></th>\n",
       "      <th>time</th>\n",
       "      <th>latitude</th>\n",
       "      <th>longitude</th>\n",
       "      <th>depth</th>\n",
       "      <th>mag</th>\n",
       "      <th>magType</th>\n",
       "      <th>nst</th>\n",
       "      <th>gap</th>\n",
       "      <th>dmin</th>\n",
       "      <th>rms</th>\n",
       "      <th>...</th>\n",
       "      <th>updated</th>\n",
       "      <th>place</th>\n",
       "      <th>type</th>\n",
       "      <th>horizontalError</th>\n",
       "      <th>depthError</th>\n",
       "      <th>magError</th>\n",
       "      <th>magNst</th>\n",
       "      <th>status</th>\n",
       "      <th>locationSource</th>\n",
       "      <th>magSource</th>\n",
       "    </tr>\n",
       "  </thead>\n",
       "  <tbody>\n",
       "    <tr>\n",
       "      <th>272</th>\n",
       "      <td>2020-09-08T23:12:33.877Z</td>\n",
       "      <td>59.899700</td>\n",
       "      <td>-140.983600</td>\n",
       "      <td>0.00</td>\n",
       "      <td>2.90</td>\n",
       "      <td>ml</td>\n",
       "      <td>NaN</td>\n",
       "      <td>NaN</td>\n",
       "      <td>NaN</td>\n",
       "      <td>0.89</td>\n",
       "      <td>...</td>\n",
       "      <td>2020-09-08T23:30:41.040Z</td>\n",
       "      <td>80 km WNW of Yakutat, Alaska</td>\n",
       "      <td>earthquake</td>\n",
       "      <td>NaN</td>\n",
       "      <td>0.3</td>\n",
       "      <td>NaN</td>\n",
       "      <td>NaN</td>\n",
       "      <td>automatic</td>\n",
       "      <td>ak</td>\n",
       "      <td>ak</td>\n",
       "    </tr>\n",
       "    <tr>\n",
       "      <th>339</th>\n",
       "      <td>2020-09-13T19:36:18.333Z</td>\n",
       "      <td>58.386100</td>\n",
       "      <td>-137.149300</td>\n",
       "      <td>0.00</td>\n",
       "      <td>2.60</td>\n",
       "      <td>ml</td>\n",
       "      <td>NaN</td>\n",
       "      <td>NaN</td>\n",
       "      <td>NaN</td>\n",
       "      <td>0.84</td>\n",
       "      <td>...</td>\n",
       "      <td>2020-09-13T20:41:25.115Z</td>\n",
       "      <td>51 km WNW of Elfin Cove, Alaska</td>\n",
       "      <td>earthquake</td>\n",
       "      <td>NaN</td>\n",
       "      <td>0.4</td>\n",
       "      <td>NaN</td>\n",
       "      <td>NaN</td>\n",
       "      <td>automatic</td>\n",
       "      <td>ak</td>\n",
       "      <td>ak</td>\n",
       "    </tr>\n",
       "    <tr>\n",
       "      <th>287</th>\n",
       "      <td>2020-09-08T00:18:38.934Z</td>\n",
       "      <td>67.855300</td>\n",
       "      <td>-164.260000</td>\n",
       "      <td>0.00</td>\n",
       "      <td>2.80</td>\n",
       "      <td>ml</td>\n",
       "      <td>NaN</td>\n",
       "      <td>NaN</td>\n",
       "      <td>NaN</td>\n",
       "      <td>0.79</td>\n",
       "      <td>...</td>\n",
       "      <td>2020-09-08T01:00:12.358Z</td>\n",
       "      <td>18 km NE of Kivalina, Alaska</td>\n",
       "      <td>earthquake</td>\n",
       "      <td>NaN</td>\n",
       "      <td>0.2</td>\n",
       "      <td>NaN</td>\n",
       "      <td>NaN</td>\n",
       "      <td>automatic</td>\n",
       "      <td>ak</td>\n",
       "      <td>ak</td>\n",
       "    </tr>\n",
       "    <tr>\n",
       "      <th>290</th>\n",
       "      <td>2020-09-10T12:09:31.800Z</td>\n",
       "      <td>44.322333</td>\n",
       "      <td>-110.520833</td>\n",
       "      <td>0.54</td>\n",
       "      <td>2.80</td>\n",
       "      <td>md</td>\n",
       "      <td>10.0</td>\n",
       "      <td>118.0</td>\n",
       "      <td>0.05854</td>\n",
       "      <td>0.27</td>\n",
       "      <td>...</td>\n",
       "      <td>2020-09-10T20:52:41.360Z</td>\n",
       "      <td>59 km SE of West Yellowstone, Montana</td>\n",
       "      <td>earthquake</td>\n",
       "      <td>0.82</td>\n",
       "      <td>0.4</td>\n",
       "      <td>0.200</td>\n",
       "      <td>4.0</td>\n",
       "      <td>reviewed</td>\n",
       "      <td>uu</td>\n",
       "      <td>uu</td>\n",
       "    </tr>\n",
       "    <tr>\n",
       "      <th>325</th>\n",
       "      <td>2020-09-10T18:33:51.740Z</td>\n",
       "      <td>44.333333</td>\n",
       "      <td>-110.505500</td>\n",
       "      <td>1.19</td>\n",
       "      <td>2.62</td>\n",
       "      <td>ml</td>\n",
       "      <td>17.0</td>\n",
       "      <td>125.0</td>\n",
       "      <td>0.07115</td>\n",
       "      <td>0.18</td>\n",
       "      <td>...</td>\n",
       "      <td>2020-09-10T19:12:59.040Z</td>\n",
       "      <td>60 km SE of West Yellowstone, Montana</td>\n",
       "      <td>earthquake</td>\n",
       "      <td>0.57</td>\n",
       "      <td>0.5</td>\n",
       "      <td>0.264</td>\n",
       "      <td>8.0</td>\n",
       "      <td>reviewed</td>\n",
       "      <td>uu</td>\n",
       "      <td>uu</td>\n",
       "    </tr>\n",
       "  </tbody>\n",
       "</table>\n",
       "<p>5 rows × 22 columns</p>\n",
       "</div>"
      ],
      "text/plain": [
       "                         time   latitude   longitude  depth   mag magType  \\\n",
       "272  2020-09-08T23:12:33.877Z  59.899700 -140.983600   0.00  2.90      ml   \n",
       "339  2020-09-13T19:36:18.333Z  58.386100 -137.149300   0.00  2.60      ml   \n",
       "287  2020-09-08T00:18:38.934Z  67.855300 -164.260000   0.00  2.80      ml   \n",
       "290  2020-09-10T12:09:31.800Z  44.322333 -110.520833   0.54  2.80      md   \n",
       "325  2020-09-10T18:33:51.740Z  44.333333 -110.505500   1.19  2.62      ml   \n",
       "\n",
       "      nst    gap     dmin   rms  ...                   updated  \\\n",
       "272   NaN    NaN      NaN  0.89  ...  2020-09-08T23:30:41.040Z   \n",
       "339   NaN    NaN      NaN  0.84  ...  2020-09-13T20:41:25.115Z   \n",
       "287   NaN    NaN      NaN  0.79  ...  2020-09-08T01:00:12.358Z   \n",
       "290  10.0  118.0  0.05854  0.27  ...  2020-09-10T20:52:41.360Z   \n",
       "325  17.0  125.0  0.07115  0.18  ...  2020-09-10T19:12:59.040Z   \n",
       "\n",
       "                                     place        type horizontalError  \\\n",
       "272           80 km WNW of Yakutat, Alaska  earthquake             NaN   \n",
       "339        51 km WNW of Elfin Cove, Alaska  earthquake             NaN   \n",
       "287           18 km NE of Kivalina, Alaska  earthquake             NaN   \n",
       "290  59 km SE of West Yellowstone, Montana  earthquake            0.82   \n",
       "325  60 km SE of West Yellowstone, Montana  earthquake            0.57   \n",
       "\n",
       "    depthError  magError  magNst     status  locationSource magSource  \n",
       "272        0.3       NaN     NaN  automatic              ak        ak  \n",
       "339        0.4       NaN     NaN  automatic              ak        ak  \n",
       "287        0.2       NaN     NaN  automatic              ak        ak  \n",
       "290        0.4     0.200     4.0   reviewed              uu        uu  \n",
       "325        0.5     0.264     8.0   reviewed              uu        uu  \n",
       "\n",
       "[5 rows x 22 columns]"
      ]
     },
     "execution_count": 25,
     "metadata": {},
     "output_type": "execute_result"
    }
   ],
   "source": [
    "EQ_data.sort_values(by=['depth']).head()"
   ]
  },
  {
   "cell_type": "markdown",
   "metadata": {},
   "source": [
    "You can reverse the order of sorting with `ascending=False`."
   ]
  },
  {
   "cell_type": "code",
   "execution_count": 26,
   "metadata": {
    "execution": {
     "iopub.execute_input": "2020-09-21T19:12:37.548958Z",
     "iopub.status.busy": "2020-09-21T19:12:37.532395Z",
     "iopub.status.idle": "2020-09-21T19:12:37.551848Z",
     "shell.execute_reply": "2020-09-21T19:12:37.552207Z"
    }
   },
   "outputs": [
    {
     "data": {
      "text/html": [
       "<div>\n",
       "<style scoped>\n",
       "    .dataframe tbody tr th:only-of-type {\n",
       "        vertical-align: middle;\n",
       "    }\n",
       "\n",
       "    .dataframe tbody tr th {\n",
       "        vertical-align: top;\n",
       "    }\n",
       "\n",
       "    .dataframe thead th {\n",
       "        text-align: right;\n",
       "    }\n",
       "</style>\n",
       "<table border=\"1\" class=\"dataframe\">\n",
       "  <thead>\n",
       "    <tr style=\"text-align: right;\">\n",
       "      <th></th>\n",
       "      <th>time</th>\n",
       "      <th>latitude</th>\n",
       "      <th>longitude</th>\n",
       "      <th>depth</th>\n",
       "      <th>mag</th>\n",
       "      <th>magType</th>\n",
       "      <th>nst</th>\n",
       "      <th>gap</th>\n",
       "      <th>dmin</th>\n",
       "      <th>rms</th>\n",
       "      <th>...</th>\n",
       "      <th>updated</th>\n",
       "      <th>place</th>\n",
       "      <th>type</th>\n",
       "      <th>horizontalError</th>\n",
       "      <th>depthError</th>\n",
       "      <th>magError</th>\n",
       "      <th>magNst</th>\n",
       "      <th>status</th>\n",
       "      <th>locationSource</th>\n",
       "      <th>magSource</th>\n",
       "    </tr>\n",
       "  </thead>\n",
       "  <tbody>\n",
       "    <tr>\n",
       "      <th>133</th>\n",
       "      <td>2020-09-07T22:22:20.306Z</td>\n",
       "      <td>-20.8541</td>\n",
       "      <td>-178.6937</td>\n",
       "      <td>605.20</td>\n",
       "      <td>4.3</td>\n",
       "      <td>mb</td>\n",
       "      <td>NaN</td>\n",
       "      <td>115.0</td>\n",
       "      <td>4.359</td>\n",
       "      <td>0.82</td>\n",
       "      <td>...</td>\n",
       "      <td>2020-09-14T04:12:05.040Z</td>\n",
       "      <td>Fiji region</td>\n",
       "      <td>earthquake</td>\n",
       "      <td>14.9</td>\n",
       "      <td>8.6</td>\n",
       "      <td>0.116</td>\n",
       "      <td>21.0</td>\n",
       "      <td>reviewed</td>\n",
       "      <td>us</td>\n",
       "      <td>us</td>\n",
       "    </tr>\n",
       "    <tr>\n",
       "      <th>189</th>\n",
       "      <td>2020-09-13T03:50:49.167Z</td>\n",
       "      <td>-21.8264</td>\n",
       "      <td>-179.4210</td>\n",
       "      <td>594.51</td>\n",
       "      <td>4.1</td>\n",
       "      <td>mb</td>\n",
       "      <td>NaN</td>\n",
       "      <td>112.0</td>\n",
       "      <td>4.705</td>\n",
       "      <td>0.73</td>\n",
       "      <td>...</td>\n",
       "      <td>2020-09-18T01:50:13.040Z</td>\n",
       "      <td>Fiji region</td>\n",
       "      <td>earthquake</td>\n",
       "      <td>12.9</td>\n",
       "      <td>8.5</td>\n",
       "      <td>0.115</td>\n",
       "      <td>21.0</td>\n",
       "      <td>reviewed</td>\n",
       "      <td>us</td>\n",
       "      <td>us</td>\n",
       "    </tr>\n",
       "    <tr>\n",
       "      <th>190</th>\n",
       "      <td>2020-09-13T04:05:15.875Z</td>\n",
       "      <td>6.0099</td>\n",
       "      <td>123.7340</td>\n",
       "      <td>556.61</td>\n",
       "      <td>4.1</td>\n",
       "      <td>mb</td>\n",
       "      <td>NaN</td>\n",
       "      <td>146.0</td>\n",
       "      <td>5.276</td>\n",
       "      <td>0.60</td>\n",
       "      <td>...</td>\n",
       "      <td>2020-09-18T01:56:50.040Z</td>\n",
       "      <td>54 km WSW of Palimbang, Philippines</td>\n",
       "      <td>earthquake</td>\n",
       "      <td>11.3</td>\n",
       "      <td>15.2</td>\n",
       "      <td>0.198</td>\n",
       "      <td>7.0</td>\n",
       "      <td>reviewed</td>\n",
       "      <td>us</td>\n",
       "      <td>us</td>\n",
       "    </tr>\n",
       "    <tr>\n",
       "      <th>8</th>\n",
       "      <td>2020-09-12T02:37:29.712Z</td>\n",
       "      <td>-17.8809</td>\n",
       "      <td>-178.0547</td>\n",
       "      <td>556.57</td>\n",
       "      <td>5.6</td>\n",
       "      <td>mww</td>\n",
       "      <td>NaN</td>\n",
       "      <td>36.0</td>\n",
       "      <td>3.553</td>\n",
       "      <td>1.10</td>\n",
       "      <td>...</td>\n",
       "      <td>2020-09-13T02:41:07.273Z</td>\n",
       "      <td>279 km E of Levuka, Fiji</td>\n",
       "      <td>earthquake</td>\n",
       "      <td>8.9</td>\n",
       "      <td>6.4</td>\n",
       "      <td>0.089</td>\n",
       "      <td>12.0</td>\n",
       "      <td>reviewed</td>\n",
       "      <td>us</td>\n",
       "      <td>us</td>\n",
       "    </tr>\n",
       "    <tr>\n",
       "      <th>186</th>\n",
       "      <td>2020-09-11T04:25:44.348Z</td>\n",
       "      <td>5.9897</td>\n",
       "      <td>123.8273</td>\n",
       "      <td>539.45</td>\n",
       "      <td>4.1</td>\n",
       "      <td>mb</td>\n",
       "      <td>NaN</td>\n",
       "      <td>107.0</td>\n",
       "      <td>5.720</td>\n",
       "      <td>0.41</td>\n",
       "      <td>...</td>\n",
       "      <td>2020-09-16T23:11:57.040Z</td>\n",
       "      <td>46 km WSW of Palimbang, Philippines</td>\n",
       "      <td>earthquake</td>\n",
       "      <td>11.5</td>\n",
       "      <td>11.9</td>\n",
       "      <td>0.126</td>\n",
       "      <td>17.0</td>\n",
       "      <td>reviewed</td>\n",
       "      <td>us</td>\n",
       "      <td>us</td>\n",
       "    </tr>\n",
       "  </tbody>\n",
       "</table>\n",
       "<p>5 rows × 22 columns</p>\n",
       "</div>"
      ],
      "text/plain": [
       "                         time  latitude  longitude   depth  mag magType  nst  \\\n",
       "133  2020-09-07T22:22:20.306Z  -20.8541  -178.6937  605.20  4.3      mb  NaN   \n",
       "189  2020-09-13T03:50:49.167Z  -21.8264  -179.4210  594.51  4.1      mb  NaN   \n",
       "190  2020-09-13T04:05:15.875Z    6.0099   123.7340  556.61  4.1      mb  NaN   \n",
       "8    2020-09-12T02:37:29.712Z  -17.8809  -178.0547  556.57  5.6     mww  NaN   \n",
       "186  2020-09-11T04:25:44.348Z    5.9897   123.8273  539.45  4.1      mb  NaN   \n",
       "\n",
       "       gap   dmin   rms  ...                   updated  \\\n",
       "133  115.0  4.359  0.82  ...  2020-09-14T04:12:05.040Z   \n",
       "189  112.0  4.705  0.73  ...  2020-09-18T01:50:13.040Z   \n",
       "190  146.0  5.276  0.60  ...  2020-09-18T01:56:50.040Z   \n",
       "8     36.0  3.553  1.10  ...  2020-09-13T02:41:07.273Z   \n",
       "186  107.0  5.720  0.41  ...  2020-09-16T23:11:57.040Z   \n",
       "\n",
       "                                   place        type horizontalError  \\\n",
       "133                          Fiji region  earthquake            14.9   \n",
       "189                          Fiji region  earthquake            12.9   \n",
       "190  54 km WSW of Palimbang, Philippines  earthquake            11.3   \n",
       "8               279 km E of Levuka, Fiji  earthquake             8.9   \n",
       "186  46 km WSW of Palimbang, Philippines  earthquake            11.5   \n",
       "\n",
       "    depthError  magError  magNst    status  locationSource magSource  \n",
       "133        8.6     0.116    21.0  reviewed              us        us  \n",
       "189        8.5     0.115    21.0  reviewed              us        us  \n",
       "190       15.2     0.198     7.0  reviewed              us        us  \n",
       "8          6.4     0.089    12.0  reviewed              us        us  \n",
       "186       11.9     0.126    17.0  reviewed              us        us  \n",
       "\n",
       "[5 rows x 22 columns]"
      ]
     },
     "execution_count": 26,
     "metadata": {},
     "output_type": "execute_result"
    }
   ],
   "source": [
    "EQ_data.sort_values(by=['depth'],ascending=False).head()"
   ]
  },
  {
   "cell_type": "markdown",
   "metadata": {},
   "source": [
    "## Data cleaning and inspection\n",
    "\n",
    "`.drop()` can be used to drop whole columns from a DataFrame."
   ]
  },
  {
   "cell_type": "code",
   "execution_count": 27,
   "metadata": {
    "execution": {
     "iopub.execute_input": "2020-09-21T19:12:37.560859Z",
     "iopub.status.busy": "2020-09-21T19:12:37.560347Z",
     "iopub.status.idle": "2020-09-21T19:12:37.563040Z",
     "shell.execute_reply": "2020-09-21T19:12:37.563400Z"
    }
   },
   "outputs": [
    {
     "data": {
      "text/html": [
       "<div>\n",
       "<style scoped>\n",
       "    .dataframe tbody tr th:only-of-type {\n",
       "        vertical-align: middle;\n",
       "    }\n",
       "\n",
       "    .dataframe tbody tr th {\n",
       "        vertical-align: top;\n",
       "    }\n",
       "\n",
       "    .dataframe thead th {\n",
       "        text-align: right;\n",
       "    }\n",
       "</style>\n",
       "<table border=\"1\" class=\"dataframe\">\n",
       "  <thead>\n",
       "    <tr style=\"text-align: right;\">\n",
       "      <th></th>\n",
       "      <th>time</th>\n",
       "      <th>latitude</th>\n",
       "      <th>longitude</th>\n",
       "      <th>depth</th>\n",
       "      <th>mag</th>\n",
       "    </tr>\n",
       "  </thead>\n",
       "  <tbody>\n",
       "    <tr>\n",
       "      <th>0</th>\n",
       "      <td>2020-09-11T07:35:57.894Z</td>\n",
       "      <td>-21.3928</td>\n",
       "      <td>-69.8943</td>\n",
       "      <td>51.00</td>\n",
       "      <td>6.3</td>\n",
       "    </tr>\n",
       "    <tr>\n",
       "      <th>1</th>\n",
       "      <td>2020-09-12T02:44:10.969Z</td>\n",
       "      <td>38.7591</td>\n",
       "      <td>142.2473</td>\n",
       "      <td>32.09</td>\n",
       "      <td>6.1</td>\n",
       "    </tr>\n",
       "    <tr>\n",
       "      <th>2</th>\n",
       "      <td>2020-09-07T06:12:40.093Z</td>\n",
       "      <td>-17.0893</td>\n",
       "      <td>168.4760</td>\n",
       "      <td>10.00</td>\n",
       "      <td>6.0</td>\n",
       "    </tr>\n",
       "    <tr>\n",
       "      <th>3</th>\n",
       "      <td>2020-09-08T00:45:20.952Z</td>\n",
       "      <td>-4.9124</td>\n",
       "      <td>129.7627</td>\n",
       "      <td>174.05</td>\n",
       "      <td>5.9</td>\n",
       "    </tr>\n",
       "    <tr>\n",
       "      <th>4</th>\n",
       "      <td>2020-09-12T08:34:27.387Z</td>\n",
       "      <td>-17.2562</td>\n",
       "      <td>167.6938</td>\n",
       "      <td>10.00</td>\n",
       "      <td>5.9</td>\n",
       "    </tr>\n",
       "  </tbody>\n",
       "</table>\n",
       "</div>"
      ],
      "text/plain": [
       "                       time  latitude  longitude   depth  mag\n",
       "0  2020-09-11T07:35:57.894Z  -21.3928   -69.8943   51.00  6.3\n",
       "1  2020-09-12T02:44:10.969Z   38.7591   142.2473   32.09  6.1\n",
       "2  2020-09-07T06:12:40.093Z  -17.0893   168.4760   10.00  6.0\n",
       "3  2020-09-08T00:45:20.952Z   -4.9124   129.7627  174.05  5.9\n",
       "4  2020-09-12T08:34:27.387Z  -17.2562   167.6938   10.00  5.9"
      ]
     },
     "execution_count": 27,
     "metadata": {},
     "output_type": "execute_result"
    }
   ],
   "source": [
    "EQ_data_concise = EQ_data.drop(['magType','nst','gap','dmin','rms','net','id','updated','place','type','horizontalError','depthError','magError','magNst','status','locationSource','magSource',], axis='columns')\n",
    "EQ_data_concise.head()"
   ]
  },
  {
   "cell_type": "markdown",
   "metadata": {},
   "source": [
    "`.unique()` returns the unique values from the specified object."
   ]
  },
  {
   "cell_type": "code",
   "execution_count": 28,
   "metadata": {
    "execution": {
     "iopub.execute_input": "2020-09-21T19:12:37.567653Z",
     "iopub.status.busy": "2020-09-21T19:12:37.567191Z",
     "iopub.status.idle": "2020-09-21T19:12:37.569986Z",
     "shell.execute_reply": "2020-09-21T19:12:37.570317Z"
    }
   },
   "outputs": [
    {
     "data": {
      "text/plain": [
       "array([2.5 , 2.51, 2.53, 2.54, 2.55, 2.56, 2.57, 2.58, 2.6 , 2.61, 2.62,\n",
       "       2.63, 2.64, 2.65, 2.66, 2.68, 2.69, 2.7 , 2.74, 2.75, 2.76, 2.77,\n",
       "       2.78, 2.79, 2.8 , 2.81, 2.82, 2.84, 2.86, 2.87, 2.9 , 2.91, 2.92,\n",
       "       2.95, 2.96, 2.97, 2.98, 2.99, 3.  , 3.01, 3.02, 3.03, 3.06, 3.1 ,\n",
       "       3.17, 3.18, 3.2 , 3.21, 3.23, 3.26, 3.3 , 3.32, 3.34, 3.4 , 3.42,\n",
       "       3.43, 3.44, 3.46, 3.5 , 3.53, 3.59, 3.6 , 3.7 , 3.71, 3.72, 3.74,\n",
       "       3.75, 3.83, 3.9 , 4.  , 4.1 , 4.2 , 4.22, 4.3 , 4.33, 4.36, 4.4 ,\n",
       "       4.5 , 4.6 , 4.7 , 4.8 , 4.9 , 5.  , 5.1 , 5.2 , 5.4 , 5.6 , 5.7 ,\n",
       "       5.8 , 5.9 , 6.  , 6.1 , 6.3 ])"
      ]
     },
     "execution_count": 28,
     "metadata": {},
     "output_type": "execute_result"
    }
   ],
   "source": [
    "unique_mags = EQ_data_concise['mag'].unique()\n",
    "unique_mags.sort()\n",
    "unique_mags"
   ]
  },
  {
   "cell_type": "markdown",
   "metadata": {},
   "source": [
    "`.value_counts()` returns the count of each unique value from the specified object. This functionality can be used to find duplicate values."
   ]
  },
  {
   "cell_type": "code",
   "execution_count": 29,
   "metadata": {
    "execution": {
     "iopub.execute_input": "2020-09-21T19:12:37.575553Z",
     "iopub.status.busy": "2020-09-21T19:12:37.574924Z",
     "iopub.status.idle": "2020-09-21T19:12:37.578274Z",
     "shell.execute_reply": "2020-09-21T19:12:37.577836Z"
    }
   },
   "outputs": [
    {
     "data": {
      "text/plain": [
       "4.30    30\n",
       "4.60    23\n",
       "4.40    22\n",
       "4.50    22\n",
       "4.70    17\n",
       "        ..\n",
       "2.54     1\n",
       "5.70     1\n",
       "6.30     1\n",
       "4.33     1\n",
       "6.00     1\n",
       "Name: mag, Length: 93, dtype: int64"
      ]
     },
     "execution_count": 29,
     "metadata": {},
     "output_type": "execute_result"
    }
   ],
   "source": [
    "EQ_data_concise['mag'].value_counts()"
   ]
  },
  {
   "cell_type": "markdown",
   "metadata": {},
   "source": [
    "### Finding missing data (NaNs)\n",
    "\n",
    "NaN stands for not a number and is used as a placeholder in data tables where no value exists. `np.isnan` returns a boolean object with True where NaNs appear in the DataFrame."
   ]
  },
  {
   "cell_type": "code",
   "execution_count": 30,
   "metadata": {
    "execution": {
     "iopub.execute_input": "2020-09-21T19:12:37.582772Z",
     "iopub.status.busy": "2020-09-21T19:12:37.582266Z",
     "iopub.status.idle": "2020-09-21T19:12:37.585323Z",
     "shell.execute_reply": "2020-09-21T19:12:37.584890Z"
    }
   },
   "outputs": [
    {
     "data": {
      "text/plain": [
       "0       True\n",
       "1       True\n",
       "2       True\n",
       "3       True\n",
       "4       True\n",
       "       ...  \n",
       "359    False\n",
       "360     True\n",
       "361    False\n",
       "362    False\n",
       "363     True\n",
       "Name: nst, Length: 364, dtype: bool"
      ]
     },
     "execution_count": 30,
     "metadata": {},
     "output_type": "execute_result"
    }
   ],
   "source": [
    "np.isnan(EQ_data['nst'])"
   ]
  },
  {
   "cell_type": "code",
   "execution_count": 31,
   "metadata": {
    "execution": {
     "iopub.execute_input": "2020-09-21T19:12:37.589725Z",
     "iopub.status.busy": "2020-09-21T19:12:37.589265Z",
     "iopub.status.idle": "2020-09-21T19:12:37.591756Z",
     "shell.execute_reply": "2020-09-21T19:12:37.592086Z"
    }
   },
   "outputs": [
    {
     "data": {
      "text/plain": [
       "0      False\n",
       "1      False\n",
       "2      False\n",
       "3      False\n",
       "4      False\n",
       "       ...  \n",
       "359     True\n",
       "360    False\n",
       "361     True\n",
       "362     True\n",
       "363    False\n",
       "Name: nst, Length: 364, dtype: bool"
      ]
     },
     "execution_count": 31,
     "metadata": {},
     "output_type": "execute_result"
    }
   ],
   "source": [
    "~np.isnan(EQ_data['nst'])"
   ]
  },
  {
   "cell_type": "markdown",
   "metadata": {},
   "source": [
    "You can use this boolean object to filter-out rows that contain NaNs."
   ]
  },
  {
   "cell_type": "code",
   "execution_count": 32,
   "metadata": {
    "execution": {
     "iopub.execute_input": "2020-09-21T19:12:37.609986Z",
     "iopub.status.busy": "2020-09-21T19:12:37.598018Z",
     "iopub.status.idle": "2020-09-21T19:12:37.626088Z",
     "shell.execute_reply": "2020-09-21T19:12:37.626484Z"
    }
   },
   "outputs": [
    {
     "data": {
      "text/html": [
       "<div>\n",
       "<style scoped>\n",
       "    .dataframe tbody tr th:only-of-type {\n",
       "        vertical-align: middle;\n",
       "    }\n",
       "\n",
       "    .dataframe tbody tr th {\n",
       "        vertical-align: top;\n",
       "    }\n",
       "\n",
       "    .dataframe thead th {\n",
       "        text-align: right;\n",
       "    }\n",
       "</style>\n",
       "<table border=\"1\" class=\"dataframe\">\n",
       "  <thead>\n",
       "    <tr style=\"text-align: right;\">\n",
       "      <th></th>\n",
       "      <th>time</th>\n",
       "      <th>latitude</th>\n",
       "      <th>longitude</th>\n",
       "      <th>depth</th>\n",
       "      <th>mag</th>\n",
       "      <th>magType</th>\n",
       "      <th>nst</th>\n",
       "      <th>gap</th>\n",
       "      <th>dmin</th>\n",
       "      <th>rms</th>\n",
       "      <th>...</th>\n",
       "      <th>updated</th>\n",
       "      <th>place</th>\n",
       "      <th>type</th>\n",
       "      <th>horizontalError</th>\n",
       "      <th>depthError</th>\n",
       "      <th>magError</th>\n",
       "      <th>magNst</th>\n",
       "      <th>status</th>\n",
       "      <th>locationSource</th>\n",
       "      <th>magSource</th>\n",
       "    </tr>\n",
       "  </thead>\n",
       "  <tbody>\n",
       "    <tr>\n",
       "      <th>127</th>\n",
       "      <td>2020-09-12T23:22:04.540Z</td>\n",
       "      <td>19.304600</td>\n",
       "      <td>-64.389600</td>\n",
       "      <td>40.00</td>\n",
       "      <td>4.36</td>\n",
       "      <td>md</td>\n",
       "      <td>19.0</td>\n",
       "      <td>233.0</td>\n",
       "      <td>1.86560</td>\n",
       "      <td>0.4800</td>\n",
       "      <td>...</td>\n",
       "      <td>2020-09-13T07:24:32.234Z</td>\n",
       "      <td>115 km NNE of Cruz Bay, U.S. Virgin Islands</td>\n",
       "      <td>earthquake</td>\n",
       "      <td>3.57</td>\n",
       "      <td>29.63</td>\n",
       "      <td>0.060000</td>\n",
       "      <td>8.0</td>\n",
       "      <td>reviewed</td>\n",
       "      <td>pr</td>\n",
       "      <td>pr</td>\n",
       "    </tr>\n",
       "    <tr>\n",
       "      <th>128</th>\n",
       "      <td>2020-09-13T07:12:58.980Z</td>\n",
       "      <td>19.396000</td>\n",
       "      <td>-64.284100</td>\n",
       "      <td>35.00</td>\n",
       "      <td>4.33</td>\n",
       "      <td>md</td>\n",
       "      <td>26.0</td>\n",
       "      <td>234.0</td>\n",
       "      <td>2.00520</td>\n",
       "      <td>0.2900</td>\n",
       "      <td>...</td>\n",
       "      <td>2020-09-13T15:15:36.449Z</td>\n",
       "      <td>129 km NNE of Cruz Bay, U.S. Virgin Islands</td>\n",
       "      <td>earthquake</td>\n",
       "      <td>1.81</td>\n",
       "      <td>21.72</td>\n",
       "      <td>0.130000</td>\n",
       "      <td>16.0</td>\n",
       "      <td>reviewed</td>\n",
       "      <td>pr</td>\n",
       "      <td>pr</td>\n",
       "    </tr>\n",
       "    <tr>\n",
       "      <th>159</th>\n",
       "      <td>2020-09-11T07:55:45.450Z</td>\n",
       "      <td>36.440667</td>\n",
       "      <td>-117.994500</td>\n",
       "      <td>3.93</td>\n",
       "      <td>4.22</td>\n",
       "      <td>ml</td>\n",
       "      <td>45.0</td>\n",
       "      <td>66.0</td>\n",
       "      <td>0.06908</td>\n",
       "      <td>0.1800</td>\n",
       "      <td>...</td>\n",
       "      <td>2020-09-15T19:32:51.306Z</td>\n",
       "      <td>18km SSE of Lone Pine, CA</td>\n",
       "      <td>earthquake</td>\n",
       "      <td>0.18</td>\n",
       "      <td>0.57</td>\n",
       "      <td>0.140000</td>\n",
       "      <td>320.0</td>\n",
       "      <td>reviewed</td>\n",
       "      <td>ci</td>\n",
       "      <td>ci</td>\n",
       "    </tr>\n",
       "    <tr>\n",
       "      <th>202</th>\n",
       "      <td>2020-09-08T01:19:54.510Z</td>\n",
       "      <td>19.121300</td>\n",
       "      <td>-64.398500</td>\n",
       "      <td>38.00</td>\n",
       "      <td>3.83</td>\n",
       "      <td>md</td>\n",
       "      <td>17.0</td>\n",
       "      <td>338.0</td>\n",
       "      <td>1.74990</td>\n",
       "      <td>0.4000</td>\n",
       "      <td>...</td>\n",
       "      <td>2020-09-09T00:54:19.040Z</td>\n",
       "      <td>96 km NNE of Cruz Bay, U.S. Virgin Islands</td>\n",
       "      <td>earthquake</td>\n",
       "      <td>3.23</td>\n",
       "      <td>24.52</td>\n",
       "      <td>0.110000</td>\n",
       "      <td>14.0</td>\n",
       "      <td>reviewed</td>\n",
       "      <td>pr</td>\n",
       "      <td>pr</td>\n",
       "    </tr>\n",
       "    <tr>\n",
       "      <th>203</th>\n",
       "      <td>2020-09-08T06:35:40.270Z</td>\n",
       "      <td>19.316600</td>\n",
       "      <td>-64.570800</td>\n",
       "      <td>37.00</td>\n",
       "      <td>3.83</td>\n",
       "      <td>md</td>\n",
       "      <td>20.0</td>\n",
       "      <td>335.0</td>\n",
       "      <td>1.73570</td>\n",
       "      <td>0.4100</td>\n",
       "      <td>...</td>\n",
       "      <td>2020-09-08T08:09:44.040Z</td>\n",
       "      <td>111 km NNE of Cruz Bay, U.S. Virgin Islands</td>\n",
       "      <td>earthquake</td>\n",
       "      <td>3.32</td>\n",
       "      <td>26.87</td>\n",
       "      <td>0.120000</td>\n",
       "      <td>10.0</td>\n",
       "      <td>reviewed</td>\n",
       "      <td>pr</td>\n",
       "      <td>pr</td>\n",
       "    </tr>\n",
       "    <tr>\n",
       "      <th>...</th>\n",
       "      <td>...</td>\n",
       "      <td>...</td>\n",
       "      <td>...</td>\n",
       "      <td>...</td>\n",
       "      <td>...</td>\n",
       "      <td>...</td>\n",
       "      <td>...</td>\n",
       "      <td>...</td>\n",
       "      <td>...</td>\n",
       "      <td>...</td>\n",
       "      <td>...</td>\n",
       "      <td>...</td>\n",
       "      <td>...</td>\n",
       "      <td>...</td>\n",
       "      <td>...</td>\n",
       "      <td>...</td>\n",
       "      <td>...</td>\n",
       "      <td>...</td>\n",
       "      <td>...</td>\n",
       "      <td>...</td>\n",
       "      <td>...</td>\n",
       "    </tr>\n",
       "    <tr>\n",
       "      <th>354</th>\n",
       "      <td>2020-09-13T17:55:42.130Z</td>\n",
       "      <td>19.182333</td>\n",
       "      <td>-155.475833</td>\n",
       "      <td>32.80</td>\n",
       "      <td>2.51</td>\n",
       "      <td>md</td>\n",
       "      <td>59.0</td>\n",
       "      <td>82.0</td>\n",
       "      <td>NaN</td>\n",
       "      <td>0.1200</td>\n",
       "      <td>...</td>\n",
       "      <td>2020-09-14T23:42:34.030Z</td>\n",
       "      <td>2 km S of Pāhala, Hawaii</td>\n",
       "      <td>earthquake</td>\n",
       "      <td>0.44</td>\n",
       "      <td>0.60</td>\n",
       "      <td>0.152709</td>\n",
       "      <td>27.0</td>\n",
       "      <td>reviewed</td>\n",
       "      <td>hv</td>\n",
       "      <td>hv</td>\n",
       "    </tr>\n",
       "    <tr>\n",
       "      <th>355</th>\n",
       "      <td>2020-09-07T08:24:04.300Z</td>\n",
       "      <td>17.932000</td>\n",
       "      <td>-66.947100</td>\n",
       "      <td>13.00</td>\n",
       "      <td>2.50</td>\n",
       "      <td>md</td>\n",
       "      <td>16.0</td>\n",
       "      <td>221.0</td>\n",
       "      <td>0.08040</td>\n",
       "      <td>0.1300</td>\n",
       "      <td>...</td>\n",
       "      <td>2020-09-07T09:46:21.114Z</td>\n",
       "      <td>6 km SW of Guánica, Puerto Rico</td>\n",
       "      <td>earthquake</td>\n",
       "      <td>0.79</td>\n",
       "      <td>0.30</td>\n",
       "      <td>0.120000</td>\n",
       "      <td>11.0</td>\n",
       "      <td>reviewed</td>\n",
       "      <td>pr</td>\n",
       "      <td>pr</td>\n",
       "    </tr>\n",
       "    <tr>\n",
       "      <th>359</th>\n",
       "      <td>2020-09-10T17:47:40.050Z</td>\n",
       "      <td>44.479500</td>\n",
       "      <td>-115.218833</td>\n",
       "      <td>9.23</td>\n",
       "      <td>2.50</td>\n",
       "      <td>ml</td>\n",
       "      <td>13.0</td>\n",
       "      <td>81.0</td>\n",
       "      <td>0.39900</td>\n",
       "      <td>0.2300</td>\n",
       "      <td>...</td>\n",
       "      <td>2020-09-17T18:21:10.520Z</td>\n",
       "      <td>36 km NW of Stanley, Idaho</td>\n",
       "      <td>earthquake</td>\n",
       "      <td>0.52</td>\n",
       "      <td>1.27</td>\n",
       "      <td>0.239000</td>\n",
       "      <td>14.0</td>\n",
       "      <td>reviewed</td>\n",
       "      <td>mb</td>\n",
       "      <td>mb</td>\n",
       "    </tr>\n",
       "    <tr>\n",
       "      <th>361</th>\n",
       "      <td>2020-09-11T12:23:38.700Z</td>\n",
       "      <td>44.315167</td>\n",
       "      <td>-110.494500</td>\n",
       "      <td>1.87</td>\n",
       "      <td>2.50</td>\n",
       "      <td>ml</td>\n",
       "      <td>15.0</td>\n",
       "      <td>144.0</td>\n",
       "      <td>0.05648</td>\n",
       "      <td>0.1800</td>\n",
       "      <td>...</td>\n",
       "      <td>2020-09-11T14:39:34.760Z</td>\n",
       "      <td>61 km SE of West Yellowstone, Montana</td>\n",
       "      <td>earthquake</td>\n",
       "      <td>0.50</td>\n",
       "      <td>2.06</td>\n",
       "      <td>0.377000</td>\n",
       "      <td>8.0</td>\n",
       "      <td>reviewed</td>\n",
       "      <td>uu</td>\n",
       "      <td>uu</td>\n",
       "    </tr>\n",
       "    <tr>\n",
       "      <th>362</th>\n",
       "      <td>2020-09-12T05:56:08.720Z</td>\n",
       "      <td>38.169800</td>\n",
       "      <td>-117.964800</td>\n",
       "      <td>6.90</td>\n",
       "      <td>2.50</td>\n",
       "      <td>ml</td>\n",
       "      <td>28.0</td>\n",
       "      <td>47.8</td>\n",
       "      <td>0.03100</td>\n",
       "      <td>0.1599</td>\n",
       "      <td>...</td>\n",
       "      <td>2020-09-13T02:24:43.646Z</td>\n",
       "      <td>27 km SSE of Mina, Nevada</td>\n",
       "      <td>earthquake</td>\n",
       "      <td>NaN</td>\n",
       "      <td>0.60</td>\n",
       "      <td>0.290000</td>\n",
       "      <td>15.0</td>\n",
       "      <td>reviewed</td>\n",
       "      <td>nn</td>\n",
       "      <td>nn</td>\n",
       "    </tr>\n",
       "  </tbody>\n",
       "</table>\n",
       "<p>108 rows × 22 columns</p>\n",
       "</div>"
      ],
      "text/plain": [
       "                         time   latitude   longitude  depth   mag magType  \\\n",
       "127  2020-09-12T23:22:04.540Z  19.304600  -64.389600  40.00  4.36      md   \n",
       "128  2020-09-13T07:12:58.980Z  19.396000  -64.284100  35.00  4.33      md   \n",
       "159  2020-09-11T07:55:45.450Z  36.440667 -117.994500   3.93  4.22      ml   \n",
       "202  2020-09-08T01:19:54.510Z  19.121300  -64.398500  38.00  3.83      md   \n",
       "203  2020-09-08T06:35:40.270Z  19.316600  -64.570800  37.00  3.83      md   \n",
       "..                        ...        ...         ...    ...   ...     ...   \n",
       "354  2020-09-13T17:55:42.130Z  19.182333 -155.475833  32.80  2.51      md   \n",
       "355  2020-09-07T08:24:04.300Z  17.932000  -66.947100  13.00  2.50      md   \n",
       "359  2020-09-10T17:47:40.050Z  44.479500 -115.218833   9.23  2.50      ml   \n",
       "361  2020-09-11T12:23:38.700Z  44.315167 -110.494500   1.87  2.50      ml   \n",
       "362  2020-09-12T05:56:08.720Z  38.169800 -117.964800   6.90  2.50      ml   \n",
       "\n",
       "      nst    gap     dmin     rms  ...                   updated  \\\n",
       "127  19.0  233.0  1.86560  0.4800  ...  2020-09-13T07:24:32.234Z   \n",
       "128  26.0  234.0  2.00520  0.2900  ...  2020-09-13T15:15:36.449Z   \n",
       "159  45.0   66.0  0.06908  0.1800  ...  2020-09-15T19:32:51.306Z   \n",
       "202  17.0  338.0  1.74990  0.4000  ...  2020-09-09T00:54:19.040Z   \n",
       "203  20.0  335.0  1.73570  0.4100  ...  2020-09-08T08:09:44.040Z   \n",
       "..    ...    ...      ...     ...  ...                       ...   \n",
       "354  59.0   82.0      NaN  0.1200  ...  2020-09-14T23:42:34.030Z   \n",
       "355  16.0  221.0  0.08040  0.1300  ...  2020-09-07T09:46:21.114Z   \n",
       "359  13.0   81.0  0.39900  0.2300  ...  2020-09-17T18:21:10.520Z   \n",
       "361  15.0  144.0  0.05648  0.1800  ...  2020-09-11T14:39:34.760Z   \n",
       "362  28.0   47.8  0.03100  0.1599  ...  2020-09-13T02:24:43.646Z   \n",
       "\n",
       "                                           place        type horizontalError  \\\n",
       "127  115 km NNE of Cruz Bay, U.S. Virgin Islands  earthquake            3.57   \n",
       "128  129 km NNE of Cruz Bay, U.S. Virgin Islands  earthquake            1.81   \n",
       "159                    18km SSE of Lone Pine, CA  earthquake            0.18   \n",
       "202   96 km NNE of Cruz Bay, U.S. Virgin Islands  earthquake            3.23   \n",
       "203  111 km NNE of Cruz Bay, U.S. Virgin Islands  earthquake            3.32   \n",
       "..                                           ...         ...             ...   \n",
       "354                     2 km S of Pāhala, Hawaii  earthquake            0.44   \n",
       "355              6 km SW of Guánica, Puerto Rico  earthquake            0.79   \n",
       "359                   36 km NW of Stanley, Idaho  earthquake            0.52   \n",
       "361        61 km SE of West Yellowstone, Montana  earthquake            0.50   \n",
       "362                    27 km SSE of Mina, Nevada  earthquake             NaN   \n",
       "\n",
       "    depthError  magError  magNst    status  locationSource magSource  \n",
       "127      29.63  0.060000     8.0  reviewed              pr        pr  \n",
       "128      21.72  0.130000    16.0  reviewed              pr        pr  \n",
       "159       0.57  0.140000   320.0  reviewed              ci        ci  \n",
       "202      24.52  0.110000    14.0  reviewed              pr        pr  \n",
       "203      26.87  0.120000    10.0  reviewed              pr        pr  \n",
       "..         ...       ...     ...       ...             ...       ...  \n",
       "354       0.60  0.152709    27.0  reviewed              hv        hv  \n",
       "355       0.30  0.120000    11.0  reviewed              pr        pr  \n",
       "359       1.27  0.239000    14.0  reviewed              mb        mb  \n",
       "361       2.06  0.377000     8.0  reviewed              uu        uu  \n",
       "362       0.60  0.290000    15.0  reviewed              nn        nn  \n",
       "\n",
       "[108 rows x 22 columns]"
      ]
     },
     "execution_count": 32,
     "metadata": {},
     "output_type": "execute_result"
    }
   ],
   "source": [
    "EQ_data[~np.isnan(EQ_data['nst'])]"
   ]
  },
  {
   "cell_type": "markdown",
   "metadata": {},
   "source": [
    "## Further Reading (Optional)\n",
    "\n",
    "This user guide has lots of useful examples and documentation:\n",
    "https://pandas.pydata.org/pandas-docs/stable/user_guide/indexing.html"
   ]
  },
  {
   "cell_type": "code",
   "execution_count": null,
   "metadata": {},
   "outputs": [],
   "source": []
  }
 ],
 "metadata": {
  "kernelspec": {
   "display_name": "Python 3",
   "language": "python",
   "name": "python3"
  },
  "language_info": {
   "codemirror_mode": {
    "name": "ipython",
    "version": 3
   },
   "file_extension": ".py",
   "mimetype": "text/x-python",
   "name": "python",
   "nbconvert_exporter": "python",
   "pygments_lexer": "ipython3",
   "version": "3.7.7"
  }
 },
 "nbformat": 4,
 "nbformat_minor": 4
}