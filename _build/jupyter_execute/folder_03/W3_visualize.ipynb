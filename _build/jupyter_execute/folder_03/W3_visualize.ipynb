{
 "cells": [
  {
   "cell_type": "markdown",
   "metadata": {},
   "source": [
    "# 3.1 Data Visualization\n",
    "\n",
    "## Additional Assigned Reading\n",
    "[Ten Simple Rules for Better Figures](https://journals.plos.org/ploscompbiol/article?id=10.1371/journal.pcbi.1003833)\n",
    "Rougier, N. P., Droettboom, M., & Bourne, P. E. (2014), Ten Simple Rules for Better Figures. PLOS Computational Biology. \n",
    "\n",
    "## Deformation\n",
    "The elastic/plastic properties of earth materials are what allow earthquakes to occur and seismic waves to propagate. When a force is applied to a material, it deforms. Unless the force exceeds a critical value, the deformation is reversible, and the material will return to its original shape if the force is removed. This is elastic deformation (imagine a pencil being bent). The force acting on the material is called stress, and the change in shape of the material due to this stress is strain. Once a material is deformed beyond its elastic limit it will not recover its original shape when the stress is removed, this is plastic deformation (imagine a paper clip being bent). Unlike elastic deformation plastic deformation is permanent. If the stress exceeds the strength of the material failure occurs (Figure 2). Earth materials are not perfectly elastic. They are viscoelastic, so failure can be brittle (without much plastic deformation) or ductile (with more plastic deformation) depending on the rate at which the stress is applied. Imagine silly putty: if you snap it quickly with will crack, but if you pull it more slowly it will stretch before breaking. An earthquake occurs when the tectonic stress exceeds the strength of the crustal material and failure occurs. Earthquake rupture is localized to a portion of a fault – the whole length of fault does not slip at once. Further away from the hypocenter, seismic waves propagate through the earth by elastically deforming the materials as they spread.\n",
    "\n",
    "![Elastic rebound](./figures/elastic_rebound.png)  \n",
    "Figure 2: Elastic rebound. Source: Essentials of Geology (13th Edition) Lutgens, F. K., Tarbuck, E. J., Tasa, D. G."
   ]
  },
  {
   "cell_type": "code",
   "execution_count": null,
   "metadata": {},
   "outputs": [],
   "source": []
  }
 ],
 "metadata": {
  "kernelspec": {
   "display_name": "Python 3",
   "language": "python",
   "name": "python3"
  },
  "language_info": {
   "codemirror_mode": {
    "name": "ipython",
    "version": 3
   },
   "file_extension": ".py",
   "mimetype": "text/x-python",
   "name": "python",
   "nbconvert_exporter": "python",
   "pygments_lexer": "ipython3",
   "version": "3.7.7"
  }
 },
 "nbformat": 4,
 "nbformat_minor": 4
}