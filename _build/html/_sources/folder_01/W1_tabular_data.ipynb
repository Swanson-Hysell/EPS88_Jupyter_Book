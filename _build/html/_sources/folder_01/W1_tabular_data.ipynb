{
 "cells": [
  {
   "cell_type": "markdown",
   "metadata": {},
   "source": [
    "# 1.2 Data Types and Design"
   ]
  },
  {
   "cell_type": "markdown",
   "metadata": {},
   "source": [
    "**Goal:** Introduce the broad concepts of data science and data structures. Prepare to look at tabular data.\n",
    "    \n",
    "**Outline:**\n",
    "* Data Science\n",
    "* Tables\n",
    "* Indexing\n",
    "\n",
    "## Additional Assigned Reading (or Review)\n",
    "Data 8 text book \"Computational and Inferential Thinking: The Foundations of Data Science\" By Ani Adhikari and John DeNero [Chapter 1 Data Science](https://www.inferentialthinking.com/chapters/01/what-is-data-science.html) & [Chapter 2 Causality and Experiments](https://www.inferentialthinking.com/chapters/02/causality-and-experiments.html). This should overlap with your assigned reading for Data 8, or be a review. \n",
    "\n",
    "## Data Science\n",
    "\n",
    "## Tables\n",
    "\n",
    "## Indexing"
   ]
  },
  {
   "cell_type": "code",
   "execution_count": null,
   "metadata": {},
   "outputs": [],
   "source": []
  }
 ],
 "metadata": {
  "kernelspec": {
   "display_name": "Python 3",
   "language": "python",
   "name": "python3"
  },
  "language_info": {
   "codemirror_mode": {
    "name": "ipython",
    "version": 3
   },
   "file_extension": ".py",
   "mimetype": "text/x-python",
   "name": "python",
   "nbconvert_exporter": "python",
   "pygments_lexer": "ipython3",
   "version": "3.7.7"
  }
 },
 "nbformat": 4,
 "nbformat_minor": 4
}
