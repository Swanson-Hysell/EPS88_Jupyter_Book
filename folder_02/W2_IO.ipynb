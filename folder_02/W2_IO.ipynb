{
 "cells": [
  {
   "cell_type": "markdown",
   "metadata": {},
   "source": [
    "# 2.1 Data I/O (Input/Output)"
   ]
  },
  {
   "cell_type": "markdown",
   "metadata": {},
   "source": [
    "## Open the data file and have a look\n",
    "\n",
    "Use the text editor of your choice and open the text file. Make sure it's the file you want. \n",
    "\n",
    "Take note of: \n",
    "-  number of header rows\n",
    "-  number of columns and rows\n",
    "-  are they string/integer/float types\n",
    "-  what is the delimiter"
   ]
  },
  {
   "cell_type": "markdown",
   "metadata": {},
   "source": [
    "Usually this will be straight foward. For example:\n",
    "\n",
    "<img src=\"figures/csv_example.png\" width=\"600\">"
   ]
  },
  {
   "cell_type": "markdown",
   "metadata": {},
   "source": [
    "Or slightly more complicated, but still do-able:\n",
    "\n",
    "<img src=\"figures/more_complicated_example.png\" width=\"700\">"
   ]
  },
  {
   "cell_type": "markdown",
   "metadata": {},
   "source": [
    "Sometimes you'll mess up and get something crazy.\n",
    "\n",
    "<img src=\"figures/AHHH_example.png\" width=\"700\">\n"
   ]
  },
  {
   "cell_type": "markdown",
   "metadata": {},
   "source": [
    "It's much better to catch this early than to struggle trying to troubleshoot.\n",
    "\n",
    "<img src=\"figures/meme_AHHH_example.png\" width=\"700\">"
   ]
  },
  {
   "cell_type": "markdown",
   "metadata": {},
   "source": [
    "## Data Input\n",
    "\n",
    "The functions we will use most for reading data in text format are `np.loadtxt`,`pd.read_csv`, and `pd.read_table`. They are similar except `pd.read_csv` has a default comma delimiter and `pd.read_table` has tab (`'\\t'`) as its default delimiter.\n",
    "\n",
    "The syntax will look something like: `pd.read_csv('filename.csv',header=2, sep=',',names=['Date','Time','Location'])`\n",
    "\n",
    "<img src=\"figures/Table_6_2.png\" width=\"700\">\n",
    "\n",
    "> Source: Python for Data Analysis, McKinney"
   ]
  },
  {
   "cell_type": "markdown",
   "metadata": {},
   "source": [
    "## Writing Data to Text Format\n",
    "\n"
   ]
  },
  {
   "cell_type": "code",
   "execution_count": null,
   "metadata": {},
   "outputs": [],
   "source": []
  }
 ],
 "metadata": {
  "kernelspec": {
   "display_name": "Python 3",
   "language": "python",
   "name": "python3"
  },
  "language_info": {
   "codemirror_mode": {
    "name": "ipython",
    "version": 3
   },
   "file_extension": ".py",
   "mimetype": "text/x-python",
   "name": "python",
   "nbconvert_exporter": "python",
   "pygments_lexer": "ipython3",
   "version": "3.7.7"
  }
 },
 "nbformat": 4,
 "nbformat_minor": 4
}
